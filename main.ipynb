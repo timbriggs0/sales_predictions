{
 "metadata": {
  "language_info": {
   "codemirror_mode": {
    "name": "ipython",
    "version": 3
   },
   "file_extension": ".py",
   "mimetype": "text/x-python",
   "name": "python",
   "nbconvert_exporter": "python",
   "pygments_lexer": "ipython3",
   "version": "3.9.1-final"
  },
  "orig_nbformat": 2,
  "kernelspec": {
   "name": "python3",
   "display_name": "Python 3.9.1 64-bit",
   "metadata": {
    "interpreter": {
     "hash": "0bd209b96e2b66d287990c2576783bd1aa20e4313dd5965e782a8f29bc665d53"
    }
   }
  }
 },
 "nbformat": 4,
 "nbformat_minor": 2,
 "cells": [
  {
   "source": [
    "## IMPORTS"
   ],
   "cell_type": "markdown",
   "metadata": {}
  },
  {
   "cell_type": "code",
   "execution_count": 241,
   "metadata": {},
   "outputs": [],
   "source": [
    "import pandas as pd\n",
    "import matplotlib.pyplot as plt\n",
    "\n",
    "import numpy as np\n",
    "\n",
    "from bokeh.plotting import figure\n",
    "from bokeh.models import Slider, ColumnDataSource, CDSView, IndexFilter, Plot, VBar, HBar, HoverTool, CustomJS, Select, Legend\n",
    "from bokeh.layouts import row, gridplot, layout, column\n",
    "from bokeh.io import show, save, curdoc\n",
    "from bokeh.themes import Theme\n",
    "from bokeh.palettes import viridis as palette\n",
    "from bokeh.transform import factor_cmap"
   ]
  },
  {
   "source": [
    "## BOKEH THEME"
   ],
   "cell_type": "markdown",
   "metadata": {}
  },
  {
   "cell_type": "code",
   "execution_count": 242,
   "metadata": {},
   "outputs": [],
   "source": [
    "theme = Theme('templates/theme.yaml')\n",
    "curdoc().theme = theme"
   ]
  },
  {
   "source": [
    "## CREATING DF AND VARIABLES"
   ],
   "cell_type": "markdown",
   "metadata": {}
  },
  {
   "cell_type": "code",
   "execution_count": 243,
   "metadata": {},
   "outputs": [
    {
     "output_type": "execute_result",
     "data": {
      "text/plain": [
       "  Item_Identifier  Item_Weight Item_Fat_Content  Item_Visibility  \\\n",
       "0           FDA15         9.30          Low Fat         0.016047   \n",
       "1           DRC01         5.92          Regular         0.019278   \n",
       "2           FDN15        17.50          Low Fat         0.016760   \n",
       "3           FDX07        19.20          Regular         0.000000   \n",
       "4           NCD19         8.93          Low Fat         0.000000   \n",
       "\n",
       "               Item_Type  Item_MRP Outlet_Identifier  \\\n",
       "0                  Dairy  249.8092            OUT049   \n",
       "1            Soft Drinks   48.2692            OUT018   \n",
       "2                   Meat  141.6180            OUT049   \n",
       "3  Fruits and Vegetables  182.0950            OUT010   \n",
       "4              Household   53.8614            OUT013   \n",
       "\n",
       "   Outlet_Establishment_Year Outlet_Size Outlet_Location_Type  \\\n",
       "0                       1999      Medium               Tier 1   \n",
       "1                       2009      Medium               Tier 3   \n",
       "2                       1999      Medium               Tier 1   \n",
       "3                       1998       Small               Tier 3   \n",
       "4                       1987        High               Tier 3   \n",
       "\n",
       "         Outlet_Type  Item_Outlet_Sales  \n",
       "0  Supermarket Type1          3735.1380  \n",
       "1  Supermarket Type2           443.4228  \n",
       "2  Supermarket Type1          2097.2700  \n",
       "3      Grocery Store           732.3800  \n",
       "4  Supermarket Type1           994.7052  "
      ],
      "text/html": "<div>\n<style scoped>\n    .dataframe tbody tr th:only-of-type {\n        vertical-align: middle;\n    }\n\n    .dataframe tbody tr th {\n        vertical-align: top;\n    }\n\n    .dataframe thead th {\n        text-align: right;\n    }\n</style>\n<table border=\"1\" class=\"dataframe\">\n  <thead>\n    <tr style=\"text-align: right;\">\n      <th></th>\n      <th>Item_Identifier</th>\n      <th>Item_Weight</th>\n      <th>Item_Fat_Content</th>\n      <th>Item_Visibility</th>\n      <th>Item_Type</th>\n      <th>Item_MRP</th>\n      <th>Outlet_Identifier</th>\n      <th>Outlet_Establishment_Year</th>\n      <th>Outlet_Size</th>\n      <th>Outlet_Location_Type</th>\n      <th>Outlet_Type</th>\n      <th>Item_Outlet_Sales</th>\n    </tr>\n  </thead>\n  <tbody>\n    <tr>\n      <th>0</th>\n      <td>FDA15</td>\n      <td>9.30</td>\n      <td>Low Fat</td>\n      <td>0.016047</td>\n      <td>Dairy</td>\n      <td>249.8092</td>\n      <td>OUT049</td>\n      <td>1999</td>\n      <td>Medium</td>\n      <td>Tier 1</td>\n      <td>Supermarket Type1</td>\n      <td>3735.1380</td>\n    </tr>\n    <tr>\n      <th>1</th>\n      <td>DRC01</td>\n      <td>5.92</td>\n      <td>Regular</td>\n      <td>0.019278</td>\n      <td>Soft Drinks</td>\n      <td>48.2692</td>\n      <td>OUT018</td>\n      <td>2009</td>\n      <td>Medium</td>\n      <td>Tier 3</td>\n      <td>Supermarket Type2</td>\n      <td>443.4228</td>\n    </tr>\n    <tr>\n      <th>2</th>\n      <td>FDN15</td>\n      <td>17.50</td>\n      <td>Low Fat</td>\n      <td>0.016760</td>\n      <td>Meat</td>\n      <td>141.6180</td>\n      <td>OUT049</td>\n      <td>1999</td>\n      <td>Medium</td>\n      <td>Tier 1</td>\n      <td>Supermarket Type1</td>\n      <td>2097.2700</td>\n    </tr>\n    <tr>\n      <th>3</th>\n      <td>FDX07</td>\n      <td>19.20</td>\n      <td>Regular</td>\n      <td>0.000000</td>\n      <td>Fruits and Vegetables</td>\n      <td>182.0950</td>\n      <td>OUT010</td>\n      <td>1998</td>\n      <td>Small</td>\n      <td>Tier 3</td>\n      <td>Grocery Store</td>\n      <td>732.3800</td>\n    </tr>\n    <tr>\n      <th>4</th>\n      <td>NCD19</td>\n      <td>8.93</td>\n      <td>Low Fat</td>\n      <td>0.000000</td>\n      <td>Household</td>\n      <td>53.8614</td>\n      <td>OUT013</td>\n      <td>1987</td>\n      <td>High</td>\n      <td>Tier 3</td>\n      <td>Supermarket Type1</td>\n      <td>994.7052</td>\n    </tr>\n  </tbody>\n</table>\n</div>"
     },
     "metadata": {},
     "execution_count": 243
    }
   ],
   "source": [
    "df = pd.read_csv('data/sales_predictions_clean.csv')\n",
    "outlets = df['Outlet_Identifier'].unique()\n",
    "outlets= list(outlets)\n",
    "df.head()"
   ]
  },
  {
   "source": [
    "## OUTLETS TOTAL SALES"
   ],
   "cell_type": "markdown",
   "metadata": {}
  },
  {
   "cell_type": "code",
   "execution_count": 244,
   "metadata": {},
   "outputs": [
    {
     "output_type": "stream",
     "name": "stderr",
     "text": [
      "C:\\Users\\Tim Briggs\\AppData\\Local\\Programs\\Python\\Python39\\lib\\site-packages\\bokeh\\io\\saving.py:126: UserWarning: save() called but no resources were supplied and output_file(...) was never called, defaulting to resources.CDN\n  warn(\"save() called but no resources were supplied and output_file(...) was never called, defaulting to resources.CDN\")\nC:\\Users\\Tim Briggs\\AppData\\Local\\Programs\\Python\\Python39\\lib\\site-packages\\bokeh\\io\\saving.py:139: UserWarning: save() called but no title was supplied and output_file(...) was never called, using default title 'Bokeh Plot'\n  warn(\"save() called but no title was supplied and output_file(...) was never called, using default title 'Bokeh Plot'\")\n"
     ]
    }
   ],
   "source": [
    "### CREATING NEW DF to make CDS\n",
    "outlets_dict = {}\n",
    "for i in range(len(outlets)):\n",
    "    outlets_dict[i] = (\n",
    "    outlets[i],\n",
    "    df[df['Outlet_Identifier'] == outlets[i]]['Outlet_Establishment_Year'].iloc[0],\n",
    "    df[df['Outlet_Identifier'] == outlets[i]]['Outlet_Size'].iloc[0],\n",
    "    df[df['Outlet_Identifier'] == outlets[i]]['Outlet_Location_Type'].iloc[0],\n",
    "    df[df['Outlet_Identifier'] == outlets[i]]['Outlet_Type'].iloc[0],\n",
    "    df[df['Outlet_Identifier'] == outlets[i]]['Item_Visibility'].sum().round(5),\n",
    "    int(df[df['Outlet_Identifier'] == outlets[i]]['Item_Outlet_Sales'].sum()),\n",
    "    )\n",
    "outlets_df = pd.DataFrame.from_dict(outlets_dict, orient='index', columns=['Outlet_Identifier', 'Outlet_Establishment_Year', 'Outlet_Size', 'Outlet_Location_Type', 'Outlet_Type', 'Outlet_Visibility_Size', 'Outlet_Total_Sales'])\n",
    "outlets_cds = ColumnDataSource(outlets_df)\n",
    "\n",
    "factor = 'Outlet_Type'\n",
    "factors = outlets_df[factor].unique().tolist()\n",
    "\n",
    "### STARTING BOKEH PLOT\n",
    "fig= figure(\n",
    "    title='Total Sales for Outlets',\n",
    "    x_axis_label='Outlets', \n",
    "    y_axis_label='USD',\n",
    "    x_range=outlets\n",
    ")\n",
    "fig.vbar(\n",
    "    x='Outlet_Identifier', \n",
    "    top='Outlet_Total_Sales', \n",
    "    source=outlets_cds, \n",
    "    width=.9, \n",
    "    fill_color=factor_cmap(factor, palette= palette(len(factors)), factors=factors),\n",
    "    line_color='black',\n",
    "    line_width=2,\n",
    "    alpha=1,\n",
    "    legend_field = factor,\n",
    "    )\n",
    "\n",
    "fig.add_tools(HoverTool(\n",
    "    tooltips=[('Outlet', '@Outlet_Identifier'),\n",
    "    ('Establishment Year', '@Outlet_Establishment_Year'),\n",
    "    ('Outlet_Size', '@Outlet_Size'),\n",
    "    ('Outlet_Type', '@Outlet_Type'),\n",
    "    ('Total Sales', '@Outlet_Total_Sales USD')], \n",
    "    attachment= 'vertical',\n",
    "    ))\n",
    "\n",
    "fig.legend.location = 'top_left'\n",
    "\n",
    "# show(fig)\n",
    "save(fig, 'plots/outlets_totalsales.html');"
   ]
  },
  {
   "source": [
    "## ITEM TYPE SALES BASED ON OUTLET TYPE (GROUPPLOT)"
   ],
   "cell_type": "markdown",
   "metadata": {}
  },
  {
   "cell_type": "code",
   "execution_count": 271,
   "metadata": {},
   "outputs": [],
   "source": [
    "f1 = 'Outlet_Type'\n",
    "outlets = df[f1].unique().tolist()\n",
    "Item_Types = df['Item_Type'].unique().tolist()\n",
    "\n",
    "items_dict= {}\n",
    "for i in range(len(Item_Types)):\n",
    "    items_dict[i] = [Item_Types[i], df[(df[f1] == outlets[0]) & (df['Item_Type'] == Item_Types[i])]['Item_Outlet_Sales'].sum().round(2), df[(df[f1] == outlets[1]) & (df['Item_Type'] == Item_Types[i])]['Item_Outlet_Sales'].sum().round(2), df[(df[f1] == outlets[2]) & (df['Item_Type'] == Item_Types[i])]['Item_Outlet_Sales'].sum().round(2), df[(df[f1] == outlets[3]) & (df['Item_Type'] == Item_Types[i])]['Item_Outlet_Sales'].sum().round(2)]\n",
    "items_df = pd.DataFrame.from_dict(items_dict, orient='index', columns=('Item_Type', *outlets))\n",
    "items_cds = ColumnDataSource(items_df)\n",
    "\n",
    "factor = 'Item_Type'\n",
    "factors = items_df[factor].unique().tolist()\n",
    "plots = []\n",
    "for i in range(len(outlets)):\n",
    "    fig= figure(\n",
    "        title=f'Total Item Sales for {outlets[i]}',\n",
    "        x_axis_label='Item Type', \n",
    "        y_axis_label='USD',\n",
    "        y_range=factors\n",
    "    )\n",
    "    fig.hbar(\n",
    "        y='Item_Type', \n",
    "        right=outlets[i], \n",
    "        left=0,\n",
    "        source=items_cds, \n",
    "        height=.8, \n",
    "        fill_color=factor_cmap(factor, palette= palette(len(factors)), factors=factors),\n",
    "        line_color='black',\n",
    "        line_width=2,\n",
    "        alpha=1,\n",
    "        # legend_field = factor,\n",
    "        )\n",
    "    # fig.add_tools(HoverTool(\n",
    "    #     tooltips=[('Item Type', '@Item_Type'),\n",
    "    #     ('Total Sales', f'@{outlets[i]} USD')], \n",
    "    #     attachment= 'vertical',))\n",
    "    # fig.xaxis.major_label_orientation = 'vertical'\n",
    "    # fig.legend.location = 'top_left'\n",
    "    plots.append(fig)\n",
    "layout = (gridplot(plots, ncols=4, toolbar_location= None, plot_height=500))\n",
    "save(layout, f'plots/item_types.html');\n",
    "# show(layout)"
   ]
  },
  {
   "source": [
    "## OUTLET ITEM SALES (GROUPPLOT)"
   ],
   "cell_type": "markdown",
   "metadata": {}
  },
  {
   "cell_type": "code",
   "execution_count": 5,
   "metadata": {},
   "outputs": [
    {
     "output_type": "stream",
     "name": "stderr",
     "text": [
      "C:\\Users\\Tim Briggs\\AppData\\Local\\Programs\\Python\\Python39\\lib\\site-packages\\bokeh\\io\\saving.py:126: UserWarning: save() called but no resources were supplied and output_file(...) was never called, defaulting to resources.CDN\n  warn(\"save() called but no resources were supplied and output_file(...) was never called, defaulting to resources.CDN\")\nC:\\Users\\Tim Briggs\\AppData\\Local\\Programs\\Python\\Python39\\lib\\site-packages\\bokeh\\io\\saving.py:139: UserWarning: save() called but no title was supplied and output_file(...) was never called, using default title 'Bokeh Plot'\n  warn(\"save() called but no title was supplied and output_file(...) was never called, using default title 'Bokeh Plot'\")\n"
     ]
    }
   ],
   "source": [
    "### CREATING NEW DF to make CDS\n",
    "plots = []\n",
    "for i in range(10):\n",
    "    outlet_filter = df['Outlet_Identifier'] == outlets[i]\n",
    "    outlet_Items = df[outlet_filter].drop(\n",
    "        axis = 'columns', \n",
    "        columns=['Outlet_Identifier', 'Outlet_Establishment_Year', 'Outlet_Size', 'Outlet_Location_Type', 'Outlet_Type']\n",
    "        )\n",
    "    outlet_Items['Item_Outlet_Sales'] = outlet_Items['Item_Outlet_Sales'].round()\n",
    "    outlet_Items['Units_Sold'] = (outlet_Items['Item_Outlet_Sales'] / outlet_Items['Item_MRP']).round()\n",
    "    outlet_Items['Item_Visibility_Adjusted'] = outlet_Items['Item_Visibility']*100\n",
    "    outlet_Items['Item_Visibility'] = outlet_Items['Item_Visibility'].round(5)\n",
    "    outlet_Items_CDS = ColumnDataSource(outlet_Items)\n",
    "\n",
    "    ### STARTING BOKEH PLOT\n",
    "    fig_outlet_items_sales = figure(\n",
    "        title=f'{outlets[i]} Total Sales',\n",
    "        x_axis_label='Item MRP',\n",
    "        y_axis_label='Total Sales USD'\n",
    "        )\n",
    "\n",
    "    fig_outlet_items_sales.circle(\n",
    "        x='Item_MRP', \n",
    "        y='Item_Outlet_Sales', \n",
    "        size='Item_Visibility_Adjusted',\n",
    "        source=outlet_Items_CDS, \n",
    "        color=factor_cmap('Item_Type', palette= palette(len(outlet_Items.Item_Type.unique())),\n",
    "        factors=outlet_Items.Item_Type.unique()),\n",
    "        line_color='black',\n",
    "        alpha=.75,\n",
    "        muted_alpha=.2\n",
    "        )\n",
    "\n",
    "    fig_outlet_items_sales.add_tools(HoverTool(\n",
    "        tooltips=[\n",
    "            ('Item', '@Item_Identifier'),\n",
    "            ('Item Type', '@Item_Type'),\n",
    "            ('Item Visibility', \"@Item_Visibility\"),\n",
    "            ('Item MRP','@Item_MRP'), \n",
    "            ('Total Units Sold', '@Units_Sold'),\n",
    "            ('Total Sales', '@Item_Outlet_Sales USD')\n",
    "            ], \n",
    "        ))\n",
    "    plots.append(fig_outlet_items_sales)\n",
    "\n",
    "layout = (gridplot(plots, ncols=2, toolbar_location= None, plot_height=300))\n",
    "# show(layout)\n",
    "# save(fig_outlet_items_sales, f'../plots/fig_{outlets[i]}_items_sales.html');\n",
    "save(layout, f'plots/outlets_items.html');"
   ]
  },
  {
   "source": [
    "## UNITS SOLD VS MRP"
   ],
   "cell_type": "markdown",
   "metadata": {}
  },
  {
   "cell_type": "code",
   "execution_count": 284,
   "metadata": {},
   "outputs": [
    {
     "output_type": "stream",
     "name": "stderr",
     "text": [
      "C:\\Users\\Tim Briggs\\AppData\\Local\\Programs\\Python\\Python39\\lib\\site-packages\\bokeh\\io\\saving.py:126: UserWarning: save() called but no resources were supplied and output_file(...) was never called, defaulting to resources.CDN\n  warn(\"save() called but no resources were supplied and output_file(...) was never called, defaulting to resources.CDN\")\nC:\\Users\\Tim Briggs\\AppData\\Local\\Programs\\Python\\Python39\\lib\\site-packages\\bokeh\\io\\saving.py:139: UserWarning: save() called but no title was supplied and output_file(...) was never called, using default title 'Bokeh Plot'\n  warn(\"save() called but no title was supplied and output_file(...) was never called, using default title 'Bokeh Plot'\")\n"
     ]
    }
   ],
   "source": [
    "df = pd.read_csv('data/sales_predictions_clean.csv')\n",
    "outlets = df['Outlet_Identifier'].unique()\n",
    "outlets= list(outlets)\n",
    "\n",
    "### CREATING NEW DF to make CDS\n",
    "plots = []\n",
    "for i in range(10):\n",
    "    outlet_filter = df['Outlet_Identifier'] == outlets[i]\n",
    "    outlet_Items = df[outlet_filter].drop(\n",
    "        axis = 'columns', \n",
    "        columns=['Outlet_Identifier', 'Outlet_Establishment_Year', 'Outlet_Size', 'Outlet_Location_Type', 'Outlet_Type']\n",
    "        )\n",
    "    outlet_Items.sort_values('Item_MRP')\n",
    "    outlet_Items['Item_Outlet_Sales'] = outlet_Items['Item_Outlet_Sales'].round()\n",
    "    outlet_Items['Units_Sold'] = (outlet_Items['Item_Outlet_Sales'] / outlet_Items['Item_MRP']).round()\n",
    "    outlet_Items['Item_Visibility_Adjusted'] = outlet_Items['Item_Visibility']*100\n",
    "    outlet_Items['Item_Visibility'] = outlet_Items['Item_Visibility'].round(5)\n",
    "    outlet_Items_CDS = ColumnDataSource(outlet_Items)\n",
    "\n",
    "    ### STARTING BOKEH PLOT\n",
    "    fig = figure(\n",
    "        title=f'{outlets[i]} Unit Sales',\n",
    "        x_axis_label='Item MRP',\n",
    "        y_axis_label='Units Sold'\n",
    "        )\n",
    "\n",
    "    fig.circle(\n",
    "        x='Item_MRP', \n",
    "        y='Units_Sold', \n",
    "        size='Item_Visibility_Adjusted',\n",
    "        source=outlet_Items_CDS, \n",
    "        color=factor_cmap('Item_Type', palette= palette(len(outlet_Items.Item_Type.unique())),\n",
    "        factors=outlet_Items.Item_Type.unique()),\n",
    "        line_color='black',\n",
    "        alpha=.75,\n",
    "        muted_alpha=.2\n",
    "        )\n",
    "\n",
    "    fig.add_tools(HoverTool(\n",
    "        tooltips=[\n",
    "            ('Item', '@Item_Identifier'),\n",
    "            ('Item Type', '@Item_Type'),\n",
    "            ('Item Visibility', \"@Item_Visibility\"),\n",
    "            ('Item MRP','@Item_MRP'), \n",
    "            ('Total Units Sold', '@Units_Sold'),\n",
    "            ('Total Sales', '@Item_Outlet_Sales USD')\n",
    "            ], \n",
    "        ))\n",
    "    plots.append(fig)\n",
    "\n",
    "layout = (gridplot(plots, ncols=2, toolbar_location= None, plot_height=300))\n",
    "# show(layout)\n",
    "# save(fig_outlet_items_sales, f'../plots/fig_{outlets[i]}_items_sales.html');\n",
    "save(layout, f'plots/mrp_vs_unitssold.html');"
   ]
  },
  {
   "source": [
    "## Visibility / Total Sales / Item Category"
   ],
   "cell_type": "markdown",
   "metadata": {}
  },
  {
   "cell_type": "code",
   "execution_count": 350,
   "metadata": {},
   "outputs": [],
   "source": [
    "df = pd.read_csv('data/sales_predictions_clean.csv')\n",
    "df['Item_Outlet_Sales'] = df['Item_Outlet_Sales'].round()\n",
    "df['Units_Sold'] = (df['Item_Outlet_Sales'] / df['Item_MRP']).round()\n",
    "df['Item_Visibility_Adjusted'] = df['Item_Visibility']*100\n",
    "df['Item_Visibility'] = df['Item_Visibility'].round(5)\n",
    "# outlets = df['Outlet_Identifier'].unique()\n",
    "# outlets= list(outlets)\n",
    "item_types = df['Item_Type'].unique().tolist()\n",
    "df_vis = df[df['Item_Type'] == item_types[0]].sort_values('Item_Visibility')[['Item_Identifier','Item_Type','Item_Visibility', 'Item_MRP', 'Units_Sold', 'Item_Outlet_Sales']]\n",
    "df_vis_CDS = ColumnDataSource(df_vis)\n",
    "plots = []\n",
    "for i in range(len(item_types)):\n",
    "    df_vis = df[df['Item_Type'] == item_types[i]].sort_values('Item_Visibility')[['Item_Identifier','Item_Type','Item_Visibility', 'Item_MRP', 'Units_Sold', 'Item_Outlet_Sales']]\n",
    "    df_vis_CDS = ColumnDataSource(df_vis)\n",
    "    fig = figure(\n",
    "            title= f'{item_types[i]} Unit Sales',\n",
    "            x_axis_label='Item Visibility',\n",
    "            y_axis_label='Units Sold',\n",
    "            x_range=(0.0001,.2),\n",
    "            y_range=(0,60)\n",
    "            )\n",
    "\n",
    "    fig.circle(\n",
    "        x='Item_Visibility', \n",
    "        y='Units_Sold', \n",
    "        size=10,\n",
    "        source=df_vis_CDS, \n",
    "        color=factor_cmap('Item_Type', palette= palette(len(outlet_Items.Item_Type.unique())),\n",
    "        factors=outlet_Items.Item_Type.unique()),\n",
    "        line_color='black',\n",
    "        alpha=.75,\n",
    "        muted_alpha=.2\n",
    "        )\n",
    "\n",
    "    fig.add_tools(HoverTool(\n",
    "        tooltips=[\n",
    "            ('Item', '@Item_Identifier'),\n",
    "            ('Item Type', '@Item_Type'),\n",
    "            ('Item Visibility', \"@Item_Visibility\"),\n",
    "            ('Item MRP','@Item_MRP'), \n",
    "            ('Total Units Sold', '@Units_Sold'),\n",
    "            ('Total Sales', '@Item_Outlet_Sales USD')\n",
    "            ], \n",
    "        ))\n",
    "    plots.append(fig)\n",
    "\n",
    "layout = (gridplot(plots, ncols=4, toolbar_location= None, plot_height=300))\n",
    "show(layout)\n",
    "# save(fig_outlet_items_sales, f'../plots/fig_{outlets[i]}_items_sales.html');\n",
    "save(layout, 'plots/item_vis_vs_units_sold.html');\n",
    "\n",
    "\n"
   ]
  },
  {
   "cell_type": "code",
   "execution_count": 323,
   "metadata": {},
   "outputs": [
    {
     "output_type": "execute_result",
     "data": {
      "text/plain": [
       "     Item_Identifier              Item_Type  Item_Visibility  Item_MRP  \\\n",
       "3599           NCS30              Household          0.00000  128.9652   \n",
       "386            FDC50                 Canned          0.00000   96.4094   \n",
       "2397           FDZ47           Baking Goods          0.00000   98.7042   \n",
       "1113           FDB21  Fruits and Vegetables          0.00000  242.9854   \n",
       "6183           DRN37            Soft Drinks          0.00000  166.5158   \n",
       "...              ...                    ...              ...       ...   \n",
       "2855           NCE31              Household          0.30939   33.2216   \n",
       "7250           FDT24           Baking Goods          0.31109   79.2328   \n",
       "1805           FDJ56  Fruits and Vegetables          0.32112  100.7700   \n",
       "3750           NCZ18              Household          0.32578  252.7698   \n",
       "854            FDU13                 Canned          0.32839  146.0418   \n",
       "\n",
       "      Units_Sold  Item_Outlet_Sales  \n",
       "3599        14.0             1808.0  \n",
       "386         13.0             1238.0  \n",
       "2397        19.0             1885.0  \n",
       "1113        28.0             6767.0  \n",
       "6183        21.0             3509.0  \n",
       "...          ...                ...  \n",
       "2855         4.0              138.0  \n",
       "7250         2.0              154.0  \n",
       "1805         2.0              200.0  \n",
       "3750         3.0              761.0  \n",
       "854          4.0              589.0  \n",
       "\n",
       "[8523 rows x 6 columns]"
      ],
      "text/html": "<div>\n<style scoped>\n    .dataframe tbody tr th:only-of-type {\n        vertical-align: middle;\n    }\n\n    .dataframe tbody tr th {\n        vertical-align: top;\n    }\n\n    .dataframe thead th {\n        text-align: right;\n    }\n</style>\n<table border=\"1\" class=\"dataframe\">\n  <thead>\n    <tr style=\"text-align: right;\">\n      <th></th>\n      <th>Item_Identifier</th>\n      <th>Item_Type</th>\n      <th>Item_Visibility</th>\n      <th>Item_MRP</th>\n      <th>Units_Sold</th>\n      <th>Item_Outlet_Sales</th>\n    </tr>\n  </thead>\n  <tbody>\n    <tr>\n      <th>3599</th>\n      <td>NCS30</td>\n      <td>Household</td>\n      <td>0.00000</td>\n      <td>128.9652</td>\n      <td>14.0</td>\n      <td>1808.0</td>\n    </tr>\n    <tr>\n      <th>386</th>\n      <td>FDC50</td>\n      <td>Canned</td>\n      <td>0.00000</td>\n      <td>96.4094</td>\n      <td>13.0</td>\n      <td>1238.0</td>\n    </tr>\n    <tr>\n      <th>2397</th>\n      <td>FDZ47</td>\n      <td>Baking Goods</td>\n      <td>0.00000</td>\n      <td>98.7042</td>\n      <td>19.0</td>\n      <td>1885.0</td>\n    </tr>\n    <tr>\n      <th>1113</th>\n      <td>FDB21</td>\n      <td>Fruits and Vegetables</td>\n      <td>0.00000</td>\n      <td>242.9854</td>\n      <td>28.0</td>\n      <td>6767.0</td>\n    </tr>\n    <tr>\n      <th>6183</th>\n      <td>DRN37</td>\n      <td>Soft Drinks</td>\n      <td>0.00000</td>\n      <td>166.5158</td>\n      <td>21.0</td>\n      <td>3509.0</td>\n    </tr>\n    <tr>\n      <th>...</th>\n      <td>...</td>\n      <td>...</td>\n      <td>...</td>\n      <td>...</td>\n      <td>...</td>\n      <td>...</td>\n    </tr>\n    <tr>\n      <th>2855</th>\n      <td>NCE31</td>\n      <td>Household</td>\n      <td>0.30939</td>\n      <td>33.2216</td>\n      <td>4.0</td>\n      <td>138.0</td>\n    </tr>\n    <tr>\n      <th>7250</th>\n      <td>FDT24</td>\n      <td>Baking Goods</td>\n      <td>0.31109</td>\n      <td>79.2328</td>\n      <td>2.0</td>\n      <td>154.0</td>\n    </tr>\n    <tr>\n      <th>1805</th>\n      <td>FDJ56</td>\n      <td>Fruits and Vegetables</td>\n      <td>0.32112</td>\n      <td>100.7700</td>\n      <td>2.0</td>\n      <td>200.0</td>\n    </tr>\n    <tr>\n      <th>3750</th>\n      <td>NCZ18</td>\n      <td>Household</td>\n      <td>0.32578</td>\n      <td>252.7698</td>\n      <td>3.0</td>\n      <td>761.0</td>\n    </tr>\n    <tr>\n      <th>854</th>\n      <td>FDU13</td>\n      <td>Canned</td>\n      <td>0.32839</td>\n      <td>146.0418</td>\n      <td>4.0</td>\n      <td>589.0</td>\n    </tr>\n  </tbody>\n</table>\n<p>8523 rows × 6 columns</p>\n</div>"
     },
     "metadata": {},
     "execution_count": 323
    }
   ],
   "source": [
    "df.sort_values('Item_Visibility')[['Item_Identifier','Item_Type','Item_Visibility', 'Item_MRP', 'Units_Sold', 'Item_Outlet_Sales']]\n"
   ]
  },
  {
   "cell_type": "code",
   "execution_count": null,
   "metadata": {},
   "outputs": [],
   "source": []
  }
 ]
}