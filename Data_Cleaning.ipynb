{
 "cells": [
  {
   "cell_type": "markdown",
   "metadata": {},
   "source": [
    "## File Cleaning ##\n",
    "I will be importing, reviewing, and cleaning the csv provided titled 'sales predictions'. This same csv will be included in this repo."
   ]
  },
  {
   "cell_type": "code",
<<<<<<< Updated upstream
   "execution_count": 1,
=======
   "execution_count": 144,
>>>>>>> Stashed changes
   "metadata": {},
   "outputs": [
    {
     "data": {
      "text/html": [
       "<div>\n",
       "<style scoped>\n",
       "    .dataframe tbody tr th:only-of-type {\n",
       "        vertical-align: middle;\n",
       "    }\n",
       "\n",
       "    .dataframe tbody tr th {\n",
       "        vertical-align: top;\n",
       "    }\n",
       "\n",
       "    .dataframe thead th {\n",
       "        text-align: right;\n",
       "    }\n",
       "</style>\n",
       "<table border=\"1\" class=\"dataframe\">\n",
       "  <thead>\n",
       "    <tr style=\"text-align: right;\">\n",
       "      <th></th>\n",
       "      <th>Item_Identifier</th>\n",
       "      <th>Item_Weight</th>\n",
       "      <th>Item_Fat_Content</th>\n",
       "      <th>Item_Visibility</th>\n",
       "      <th>Item_Type</th>\n",
       "      <th>Item_MRP</th>\n",
       "      <th>Outlet_Identifier</th>\n",
       "      <th>Outlet_Establishment_Year</th>\n",
       "      <th>Outlet_Size</th>\n",
       "      <th>Outlet_Location_Type</th>\n",
       "      <th>Outlet_Type</th>\n",
       "      <th>Item_Outlet_Sales</th>\n",
       "    </tr>\n",
       "  </thead>\n",
       "  <tbody>\n",
       "    <tr>\n",
       "      <th>0</th>\n",
       "      <td>FDA15</td>\n",
       "      <td>9.30</td>\n",
       "      <td>Low Fat</td>\n",
       "      <td>0.016047</td>\n",
       "      <td>Dairy</td>\n",
       "      <td>249.8092</td>\n",
       "      <td>OUT049</td>\n",
       "      <td>1999</td>\n",
       "      <td>Medium</td>\n",
       "      <td>Tier 1</td>\n",
       "      <td>Supermarket Type1</td>\n",
       "      <td>3735.1380</td>\n",
       "    </tr>\n",
       "    <tr>\n",
       "      <th>1</th>\n",
       "      <td>DRC01</td>\n",
       "      <td>5.92</td>\n",
       "      <td>Regular</td>\n",
       "      <td>0.019278</td>\n",
       "      <td>Soft Drinks</td>\n",
       "      <td>48.2692</td>\n",
       "      <td>OUT018</td>\n",
       "      <td>2009</td>\n",
       "      <td>Medium</td>\n",
       "      <td>Tier 3</td>\n",
       "      <td>Supermarket Type2</td>\n",
       "      <td>443.4228</td>\n",
       "    </tr>\n",
       "    <tr>\n",
       "      <th>2</th>\n",
       "      <td>FDN15</td>\n",
       "      <td>17.50</td>\n",
       "      <td>Low Fat</td>\n",
       "      <td>0.016760</td>\n",
       "      <td>Meat</td>\n",
       "      <td>141.6180</td>\n",
       "      <td>OUT049</td>\n",
       "      <td>1999</td>\n",
       "      <td>Medium</td>\n",
       "      <td>Tier 1</td>\n",
       "      <td>Supermarket Type1</td>\n",
       "      <td>2097.2700</td>\n",
       "    </tr>\n",
       "    <tr>\n",
       "      <th>3</th>\n",
       "      <td>FDX07</td>\n",
       "      <td>19.20</td>\n",
       "      <td>Regular</td>\n",
       "      <td>0.000000</td>\n",
       "      <td>Fruits and Vegetables</td>\n",
       "      <td>182.0950</td>\n",
       "      <td>OUT010</td>\n",
       "      <td>1998</td>\n",
       "      <td>NaN</td>\n",
       "      <td>Tier 3</td>\n",
       "      <td>Grocery Store</td>\n",
       "      <td>732.3800</td>\n",
       "    </tr>\n",
       "    <tr>\n",
       "      <th>4</th>\n",
       "      <td>NCD19</td>\n",
       "      <td>8.93</td>\n",
       "      <td>Low Fat</td>\n",
       "      <td>0.000000</td>\n",
       "      <td>Household</td>\n",
       "      <td>53.8614</td>\n",
       "      <td>OUT013</td>\n",
       "      <td>1987</td>\n",
       "      <td>High</td>\n",
       "      <td>Tier 3</td>\n",
       "      <td>Supermarket Type1</td>\n",
       "      <td>994.7052</td>\n",
       "    </tr>\n",
       "  </tbody>\n",
       "</table>\n",
       "</div>"
      ],
      "text/plain": [
       "  Item_Identifier  Item_Weight Item_Fat_Content  Item_Visibility  \\\n",
       "0           FDA15         9.30          Low Fat         0.016047   \n",
       "1           DRC01         5.92          Regular         0.019278   \n",
       "2           FDN15        17.50          Low Fat         0.016760   \n",
       "3           FDX07        19.20          Regular         0.000000   \n",
       "4           NCD19         8.93          Low Fat         0.000000   \n",
       "\n",
       "               Item_Type  Item_MRP Outlet_Identifier  \\\n",
       "0                  Dairy  249.8092            OUT049   \n",
       "1            Soft Drinks   48.2692            OUT018   \n",
       "2                   Meat  141.6180            OUT049   \n",
       "3  Fruits and Vegetables  182.0950            OUT010   \n",
       "4              Household   53.8614            OUT013   \n",
       "\n",
       "   Outlet_Establishment_Year Outlet_Size Outlet_Location_Type  \\\n",
       "0                       1999      Medium               Tier 1   \n",
       "1                       2009      Medium               Tier 3   \n",
       "2                       1999      Medium               Tier 1   \n",
       "3                       1998         NaN               Tier 3   \n",
       "4                       1987        High               Tier 3   \n",
       "\n",
       "         Outlet_Type  Item_Outlet_Sales  \n",
       "0  Supermarket Type1          3735.1380  \n",
       "1  Supermarket Type2           443.4228  \n",
       "2  Supermarket Type1          2097.2700  \n",
       "3      Grocery Store           732.3800  \n",
       "4  Supermarket Type1           994.7052  "
      ]
     },
<<<<<<< Updated upstream
     "execution_count": 1,
=======
     "execution_count": 144,
>>>>>>> Stashed changes
     "metadata": {},
     "output_type": "execute_result"
    }
   ],
   "source": [
    "import pandas as pd\n",
<<<<<<< Updated upstream
    "file_path = 'sales_predictions.csv'\n",
=======
    "import matplotlib.pyplot as plt\n",
    "from collections import Counter\n",
    "# import missingo\n",
    "\n",
    "file_path = 'M:\\TRAINING\\CODING_DOJO\\Project 01\\sales-predictions\\sales_predictions.csv'\n",
>>>>>>> Stashed changes
    "df = pd.read_csv(file_path)\n",
    "df.head(5)"
   ]
  },
  {
   "cell_type": "code",
   "execution_count": 2,
<<<<<<< Updated upstream
   "metadata": {
    "collapsed": true
   },
=======
   "metadata": {},
>>>>>>> Stashed changes
   "outputs": [
    {
     "name": "stdout",
     "output_type": "stream",
     "text": [
      "<class 'pandas.core.frame.DataFrame'>\n",
      "RangeIndex: 8523 entries, 0 to 8522\n",
      "Data columns (total 12 columns):\n",
      " #   Column                     Non-Null Count  Dtype  \n",
      "---  ------                     --------------  -----  \n",
      " 0   Item_Identifier            8523 non-null   object \n",
      " 1   Item_Weight                7060 non-null   float64\n",
      " 2   Item_Fat_Content           8523 non-null   object \n",
      " 3   Item_Visibility            8523 non-null   float64\n",
      " 4   Item_Type                  8523 non-null   object \n",
      " 5   Item_MRP                   8523 non-null   float64\n",
      " 6   Outlet_Identifier          8523 non-null   object \n",
      " 7   Outlet_Establishment_Year  8523 non-null   int64  \n",
      " 8   Outlet_Size                6113 non-null   object \n",
      " 9   Outlet_Location_Type       8523 non-null   object \n",
      " 10  Outlet_Type                8523 non-null   object \n",
      " 11  Item_Outlet_Sales          8523 non-null   float64\n",
      "dtypes: float64(4), int64(1), object(7)\n",
      "memory usage: 799.2+ KB\n"
     ]
    }
   ],
   "source": [
    "df.info()"
   ]
  },
  {
<<<<<<< Updated upstream
   "cell_type": "code",
   "execution_count": 14,
=======
   "cell_type": "markdown",
   "metadata": {},
   "source": [
    "### FILLING MISSING VALUES ###\n",
    "I will now fill all missing values in the columns ['Item_Weight', 'Outlet_Size']. My plan is to after filling all NAN I will convert the columns to categories where possible to cut down on memory used. so inorder to do this i will .fillna with appropreate values for each column."
   ]
  },
  {
   "cell_type": "code",
   "execution_count": 3,
   "metadata": {},
   "outputs": [
    {
     "name": "stdout",
     "output_type": "stream",
     "text": [
      "<class 'pandas.core.frame.DataFrame'>\n",
      "RangeIndex: 8523 entries, 0 to 8522\n",
      "Data columns (total 12 columns):\n",
      " #   Column                     Non-Null Count  Dtype  \n",
      "---  ------                     --------------  -----  \n",
      " 0   Item_Identifier            8523 non-null   object \n",
      " 1   Item_Weight                8523 non-null   float64\n",
      " 2   Item_Fat_Content           8523 non-null   object \n",
      " 3   Item_Visibility            8523 non-null   float64\n",
      " 4   Item_Type                  8523 non-null   object \n",
      " 5   Item_MRP                   8523 non-null   float64\n",
      " 6   Outlet_Identifier          8523 non-null   object \n",
      " 7   Outlet_Establishment_Year  8523 non-null   int64  \n",
      " 8   Outlet_Size                8523 non-null   object \n",
      " 9   Outlet_Location_Type       8523 non-null   object \n",
      " 10  Outlet_Type                8523 non-null   object \n",
      " 11  Item_Outlet_Sales          8523 non-null   float64\n",
      "dtypes: float64(4), int64(1), object(7)\n",
      "memory usage: 799.2+ KB\n"
     ]
    }
   ],
   "source": [
    "df_flagged = df.isna()\n",
    "df.fillna({'Item_Weight': 0.0, 'Outlet_Size': 'Unknown'}, inplace = True)\n",
    "df.info()"
   ]
  },
  {
   "cell_type": "markdown",
   "metadata": {},
   "source": [
    "### CONVERTING VALUES TO CATEGORIES###\n",
    "The reason I am doing this is to save memorie.\n",
    "\n",
    "Outcome: memorie used went from 799.2 - 567.3, giving us almost 30% memory saved. not useful in this small data set but a big win if the data grows."
   ]
  },
  {
   "cell_type": "code",
   "execution_count": 4,
>>>>>>> Stashed changes
   "metadata": {},
   "outputs": [
    {
     "name": "stdout",
     "output_type": "stream",
     "text": [
      "<class 'pandas.core.frame.DataFrame'>\n",
      "RangeIndex: 8523 entries, 0 to 8522\n",
      "Data columns (total 12 columns):\n",
      " #   Column                     Non-Null Count  Dtype   \n",
      "---  ------                     --------------  -----   \n",
      " 0   Item_Identifier            8523 non-null   object  \n",
<<<<<<< Updated upstream
      " 1   Item_Weight                7060 non-null   float64 \n",
=======
      " 1   Item_Weight                8523 non-null   float64 \n",
>>>>>>> Stashed changes
      " 2   Item_Fat_Content           8523 non-null   category\n",
      " 3   Item_Visibility            8523 non-null   float64 \n",
      " 4   Item_Type                  8523 non-null   category\n",
      " 5   Item_MRP                   8523 non-null   float64 \n",
      " 6   Outlet_Identifier          8523 non-null   object  \n",
      " 7   Outlet_Establishment_Year  8523 non-null   int64   \n",
<<<<<<< Updated upstream
      " 8   Outlet_Size                6113 non-null   object  \n",
=======
      " 8   Outlet_Size                8523 non-null   object  \n",
>>>>>>> Stashed changes
      " 9   Outlet_Location_Type       8523 non-null   category\n",
      " 10  Outlet_Type                8523 non-null   category\n",
      " 11  Item_Outlet_Sales          8523 non-null   float64 \n",
      "dtypes: category(4), float64(4), int64(1), object(3)\n",
      "memory usage: 567.3+ KB\n"
     ]
    }
   ],
   "source": [
    "df2 = df.astype({'Item_Fat_Content': 'category', 'Item_Type': 'category', 'Outlet_Location_Type': 'category', 'Outlet_Type': 'category',})\n",
    "df2.info()"
   ]
  },
  {
   "cell_type": "code",
<<<<<<< Updated upstream
=======
   "execution_count": 89,
   "metadata": {},
   "outputs": [
    {
     "data": {
      "text/plain": [
       "[1985, 1987, 1997, 1998, 1999, 2002, 2004, 2007, 2009]"
      ]
     },
     "execution_count": 89,
     "metadata": {},
     "output_type": "execute_result"
    }
   ],
   "source": [
    "### \n",
    "### CREATING AND SORTING THE LIST OF YEARS IN ESTABLISHMENT \n",
    "### SO THAT I CAN PLOT AGAINST IT AND SEE THE NUMBER OF STORES OPENING PER YEAR \n",
    "###\n",
    "\n",
    "year_range = df2['Outlet_Establishment_Year'].value_counts()\n",
    "years = []\n",
    "for year in df2['Outlet_Establishment_Year']:\n",
    "    if year in years :\n",
    "        continue\n",
    "    years.append(year)\n",
    "    \n",
    "years.sort()\n",
    "years"
   ]
  },
  {
   "cell_type": "markdown",
   "metadata": {},
   "source": [
    "Goint to count the number of times each year apears in the establishment year"
   ]
  },
  {
   "cell_type": "code",
   "execution_count": 177,
   "metadata": {},
   "outputs": [
    {
     "data": {
      "text/plain": [
       "3       1998\n",
       "23      1985\n",
       "28      1998\n",
       "29      1985\n",
       "30      1998\n",
       "        ... \n",
       "8473    1998\n",
       "8480    1985\n",
       "8486    1998\n",
       "8490    1985\n",
       "8509    1998\n",
       "Name: Outlet_Establishment_Year, Length: 1083, dtype: int64"
      ]
     },
     "execution_count": 177,
     "metadata": {},
     "output_type": "execute_result"
    },
    {
     "data": {
      "image/png": "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\n",
      "text/plain": [
       "<Figure size 432x288 with 1 Axes>"
      ]
     },
     "metadata": {
      "needs_background": "light"
     },
     "output_type": "display_data"
    }
   ],
   "source": [
    "df2['Outlet_Establishment_Year'].value_counts()\n",
    "plt.bar(years, df2['Outlet_Establishment_Year'].value_counts())\n",
    "\n",
    "### Can we break them out to each market type?\n",
    "for value in df2[df2['Outlet_Type'] == 'Grocery Store']['Outlet_Establishment_Year'] :\n",
    "    "
   ]
  },
  {
   "cell_type": "code",
   "execution_count": 95,
   "metadata": {},
   "outputs": [
    {
     "data": {
      "text/plain": [
       "['Grocery Store',\n",
       " 'Supermarket Type1',\n",
       " 'Supermarket Type2',\n",
       " 'Supermarket Type3']"
      ]
     },
     "execution_count": 95,
     "metadata": {},
     "output_type": "execute_result"
    }
   ],
   "source": [
    "### CREATING A LIST OF OUTLET TYPES\n",
    "market_types = list(df2['Outlet_Type'].unique())\n",
    "market_types.sort()\n",
    "market_types"
   ]
  },
  {
   "cell_type": "code",
   "execution_count": 105,
   "metadata": {},
   "outputs": [
    {
     "data": {
      "text/plain": [
       "{'Supermarket Type1': 5577,\n",
       " 'Grocery Store': 1083,\n",
       " 'Supermarket Type3': 935,\n",
       " 'Supermarket Type2': 928}"
      ]
     },
     "execution_count": 105,
     "metadata": {},
     "output_type": "execute_result"
    }
   ],
   "source": [
    "market_dict = dict(df2['Outlet_Type'].value_counts())\n",
    "market_dict"
   ]
  },
  {
   "cell_type": "code",
   "execution_count": 209,
   "metadata": {},
   "outputs": [
    {
     "data": {
      "image/png": "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\n",
      "text/plain": [
       "<Figure size 1080x360 with 3 Axes>"
      ]
     },
     "metadata": {
      "needs_background": "light"
     },
     "output_type": "display_data"
    }
   ],
   "source": [
    "# plt.bar(df2['Outlet_Type'].value_counts())\n",
    "number_of_outlets = df2['Outlet_Type'].value_counts()\n",
    "# years = df2['Outlet_Establishment_Year'].unique()\n",
    "\n",
    "plt.figure(figsize=(15, 5))\n",
    "\n",
    "plt.subplot(131)\n",
    "plt.barh(list(df2['Outlet_Type'].unique()), number_of_outlets)\n",
    "plt.title('Types of Outlets')\n",
    "\n",
    "plt.subplot(132)\n",
    "plt.bar(years, df2['Outlet_Establishment_Year'].value_counts())\n",
    "plt.title('Outlets Establishment based on Year')\n",
    "\n",
    "plt.subplot(133)\n",
    "# df2_Grocery_Store = df2[df2['Outlet_Type'] == market_types[0]]\n",
    "# plt.bar(years, df2_Grocery_Store['Outlet_Establishment_Year'].value_counts())\n",
    "# plt.title('Types of Outlets')\n",
    "\n",
    "# plt.plot(market_dict)\n",
    "\n",
    "plt.show();"
   ]
  },
  {
   "cell_type": "markdown",
   "metadata": {},
   "source": [
    "Looking into the different market sizes for each market type"
   ]
  },
  {
   "cell_type": "code",
   "execution_count": 148,
   "metadata": {},
   "outputs": [
    {
     "data": {
      "text/plain": [
       "Counter({'Item_Identifier': 1,\n",
       "         'Item_Weight': 1,\n",
       "         'Item_Fat_Content': 1,\n",
       "         'Item_Visibility': 1,\n",
       "         'Item_Type': 1,\n",
       "         'Item_MRP': 1,\n",
       "         'Outlet_Identifier': 1,\n",
       "         'Outlet_Establishment_Year': 1,\n",
       "         'Outlet_Size': 1,\n",
       "         'Outlet_Location_Type': 1,\n",
       "         'Outlet_Type': 1,\n",
       "         'Item_Outlet_Sales': 1})"
      ]
     },
     "execution_count": 148,
     "metadata": {},
     "output_type": "execute_result"
    }
   ],
   "source": [
    "### Filtering out each market type ###\n",
    "df2_Grocery_Store = df2['Outlet_Type'] == market_types[0]\n",
    "outlet_size_counter = Counter(df2[df2_Grocery_Store])\n",
    "# plt.bar(df2['Outlet_Size'].unique(), df2[df2_Grocery_Store].filter(['Outlet_Size']))\n",
    "# df2[df2_Grocery_Store].filter(['Outlet_Size']) == 'Small'\n",
    "# df2['Outlet_Size'].unique()\n",
    "outlet_size_counter"
   ]
  },
  {
   "cell_type": "markdown",
   "metadata": {},
   "source": [
    "Looks like Counter dosnt work on a df. will have to break each column out into a list or dict when wanting to use it."
   ]
  },
  {
   "cell_type": "code",
   "execution_count": 124,
   "metadata": {},
   "outputs": [
    {
     "data": {
      "image/png": "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\n",
      "text/plain": [
       "<Figure size 1080x360 with 1 Axes>"
      ]
     },
     "metadata": {
      "needs_background": "light"
     },
     "output_type": "display_data"
    }
   ],
   "source": [
    "plt.figure(figsize=(15, 5))\n",
    "\n",
    "plt.subplot(131)\n",
    "plt.barh(market_types, number_of_outlets)\n",
    "plt.title('Types of Outlets')\n",
    "\n",
    "plt.show()"
   ]
  },
  {
   "cell_type": "code",
   "execution_count": 190,
   "metadata": {},
   "outputs": [
    {
     "data": {
      "text/plain": [
       "dict_values([5577, 1083, 935, 928])"
      ]
     },
     "execution_count": 190,
     "metadata": {},
     "output_type": "execute_result"
    },
    {
     "data": {
      "image/png": "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\n",
      "text/plain": [
       "<Figure size 432x288 with 1 Axes>"
      ]
     },
     "metadata": {
      "needs_background": "light"
     },
     "output_type": "display_data"
    }
   ],
   "source": [
    "### SPOT TO TEST CODE BEFORE RUNNING - WILL COMMENT IT OUT AS NEEDED ###\n",
    "market_dict = dict(df2['Outlet_Type'].value_counts())\n",
    "market_dict\n",
    "market_dict.keys(), market_dict.values()\n",
    "# plt.plot(float(market_dict.values()))\n",
    "plt.barh(list(market_dict.keys()), list(market_dict.values()));\n",
    "# list(market_dict.items())\n",
    "market_dict.values()"
   ]
  },
  {
   "cell_type": "code",
   "execution_count": 122,
   "metadata": {},
   "outputs": [
    {
     "data": {
      "text/html": [
       "<div>\n",
       "<style scoped>\n",
       "    .dataframe tbody tr th:only-of-type {\n",
       "        vertical-align: middle;\n",
       "    }\n",
       "\n",
       "    .dataframe tbody tr th {\n",
       "        vertical-align: top;\n",
       "    }\n",
       "\n",
       "    .dataframe thead th {\n",
       "        text-align: right;\n",
       "    }\n",
       "</style>\n",
       "<table border=\"1\" class=\"dataframe\">\n",
       "  <thead>\n",
       "    <tr style=\"text-align: right;\">\n",
       "      <th></th>\n",
       "      <th>Item_Identifier</th>\n",
       "      <th>Item_Weight</th>\n",
       "      <th>Item_Fat_Content</th>\n",
       "      <th>Item_Visibility</th>\n",
       "      <th>Item_Type</th>\n",
       "      <th>Item_MRP</th>\n",
       "      <th>Outlet_Identifier</th>\n",
       "      <th>Outlet_Establishment_Year</th>\n",
       "      <th>Outlet_Size</th>\n",
       "      <th>Outlet_Location_Type</th>\n",
       "      <th>Outlet_Type</th>\n",
       "      <th>Item_Outlet_Sales</th>\n",
       "    </tr>\n",
       "  </thead>\n",
       "  <tbody>\n",
       "    <tr>\n",
       "      <th>0</th>\n",
       "      <td>FDA15</td>\n",
       "      <td>9.300</td>\n",
       "      <td>Low Fat</td>\n",
       "      <td>0.016047</td>\n",
       "      <td>Dairy</td>\n",
       "      <td>249.8092</td>\n",
       "      <td>OUT049</td>\n",
       "      <td>1999</td>\n",
       "      <td>Medium</td>\n",
       "      <td>Tier 1</td>\n",
       "      <td>Supermarket Type1</td>\n",
       "      <td>3735.1380</td>\n",
       "    </tr>\n",
       "    <tr>\n",
       "      <th>1</th>\n",
       "      <td>DRC01</td>\n",
       "      <td>5.920</td>\n",
       "      <td>Regular</td>\n",
       "      <td>0.019278</td>\n",
       "      <td>Soft Drinks</td>\n",
       "      <td>48.2692</td>\n",
       "      <td>OUT018</td>\n",
       "      <td>2009</td>\n",
       "      <td>Medium</td>\n",
       "      <td>Tier 3</td>\n",
       "      <td>Supermarket Type2</td>\n",
       "      <td>443.4228</td>\n",
       "    </tr>\n",
       "    <tr>\n",
       "      <th>2</th>\n",
       "      <td>FDN15</td>\n",
       "      <td>17.500</td>\n",
       "      <td>Low Fat</td>\n",
       "      <td>0.016760</td>\n",
       "      <td>Meat</td>\n",
       "      <td>141.6180</td>\n",
       "      <td>OUT049</td>\n",
       "      <td>1999</td>\n",
       "      <td>Medium</td>\n",
       "      <td>Tier 1</td>\n",
       "      <td>Supermarket Type1</td>\n",
       "      <td>2097.2700</td>\n",
       "    </tr>\n",
       "    <tr>\n",
       "      <th>3</th>\n",
       "      <td>FDX07</td>\n",
       "      <td>19.200</td>\n",
       "      <td>Regular</td>\n",
       "      <td>0.000000</td>\n",
       "      <td>Fruits and Vegetables</td>\n",
       "      <td>182.0950</td>\n",
       "      <td>OUT010</td>\n",
       "      <td>1998</td>\n",
       "      <td>Unknown</td>\n",
       "      <td>Tier 3</td>\n",
       "      <td>Grocery Store</td>\n",
       "      <td>732.3800</td>\n",
       "    </tr>\n",
       "    <tr>\n",
       "      <th>4</th>\n",
       "      <td>NCD19</td>\n",
       "      <td>8.930</td>\n",
       "      <td>Low Fat</td>\n",
       "      <td>0.000000</td>\n",
       "      <td>Household</td>\n",
       "      <td>53.8614</td>\n",
       "      <td>OUT013</td>\n",
       "      <td>1987</td>\n",
       "      <td>High</td>\n",
       "      <td>Tier 3</td>\n",
       "      <td>Supermarket Type1</td>\n",
       "      <td>994.7052</td>\n",
       "    </tr>\n",
       "    <tr>\n",
       "      <th>...</th>\n",
       "      <td>...</td>\n",
       "      <td>...</td>\n",
       "      <td>...</td>\n",
       "      <td>...</td>\n",
       "      <td>...</td>\n",
       "      <td>...</td>\n",
       "      <td>...</td>\n",
       "      <td>...</td>\n",
       "      <td>...</td>\n",
       "      <td>...</td>\n",
       "      <td>...</td>\n",
       "      <td>...</td>\n",
       "    </tr>\n",
       "    <tr>\n",
       "      <th>8518</th>\n",
       "      <td>FDF22</td>\n",
       "      <td>6.865</td>\n",
       "      <td>Low Fat</td>\n",
       "      <td>0.056783</td>\n",
       "      <td>Snack Foods</td>\n",
       "      <td>214.5218</td>\n",
       "      <td>OUT013</td>\n",
       "      <td>1987</td>\n",
       "      <td>High</td>\n",
       "      <td>Tier 3</td>\n",
       "      <td>Supermarket Type1</td>\n",
       "      <td>2778.3834</td>\n",
       "    </tr>\n",
       "    <tr>\n",
       "      <th>8519</th>\n",
       "      <td>FDS36</td>\n",
       "      <td>8.380</td>\n",
       "      <td>Regular</td>\n",
       "      <td>0.046982</td>\n",
       "      <td>Baking Goods</td>\n",
       "      <td>108.1570</td>\n",
       "      <td>OUT045</td>\n",
       "      <td>2002</td>\n",
       "      <td>Unknown</td>\n",
       "      <td>Tier 2</td>\n",
       "      <td>Supermarket Type1</td>\n",
       "      <td>549.2850</td>\n",
       "    </tr>\n",
       "    <tr>\n",
       "      <th>8520</th>\n",
       "      <td>NCJ29</td>\n",
       "      <td>10.600</td>\n",
       "      <td>Low Fat</td>\n",
       "      <td>0.035186</td>\n",
       "      <td>Health and Hygiene</td>\n",
       "      <td>85.1224</td>\n",
       "      <td>OUT035</td>\n",
       "      <td>2004</td>\n",
       "      <td>Small</td>\n",
       "      <td>Tier 2</td>\n",
       "      <td>Supermarket Type1</td>\n",
       "      <td>1193.1136</td>\n",
       "    </tr>\n",
       "    <tr>\n",
       "      <th>8521</th>\n",
       "      <td>FDN46</td>\n",
       "      <td>7.210</td>\n",
       "      <td>Regular</td>\n",
       "      <td>0.145221</td>\n",
       "      <td>Snack Foods</td>\n",
       "      <td>103.1332</td>\n",
       "      <td>OUT018</td>\n",
       "      <td>2009</td>\n",
       "      <td>Medium</td>\n",
       "      <td>Tier 3</td>\n",
       "      <td>Supermarket Type2</td>\n",
       "      <td>1845.5976</td>\n",
       "    </tr>\n",
       "    <tr>\n",
       "      <th>8522</th>\n",
       "      <td>DRG01</td>\n",
       "      <td>14.800</td>\n",
       "      <td>Low Fat</td>\n",
       "      <td>0.044878</td>\n",
       "      <td>Soft Drinks</td>\n",
       "      <td>75.4670</td>\n",
       "      <td>OUT046</td>\n",
       "      <td>1997</td>\n",
       "      <td>Small</td>\n",
       "      <td>Tier 1</td>\n",
       "      <td>Supermarket Type1</td>\n",
       "      <td>765.6700</td>\n",
       "    </tr>\n",
       "  </tbody>\n",
       "</table>\n",
       "<p>8523 rows × 12 columns</p>\n",
       "</div>"
      ],
      "text/plain": [
       "     Item_Identifier  Item_Weight Item_Fat_Content  Item_Visibility  \\\n",
       "0              FDA15        9.300          Low Fat         0.016047   \n",
       "1              DRC01        5.920          Regular         0.019278   \n",
       "2              FDN15       17.500          Low Fat         0.016760   \n",
       "3              FDX07       19.200          Regular         0.000000   \n",
       "4              NCD19        8.930          Low Fat         0.000000   \n",
       "...              ...          ...              ...              ...   \n",
       "8518           FDF22        6.865          Low Fat         0.056783   \n",
       "8519           FDS36        8.380          Regular         0.046982   \n",
       "8520           NCJ29       10.600          Low Fat         0.035186   \n",
       "8521           FDN46        7.210          Regular         0.145221   \n",
       "8522           DRG01       14.800          Low Fat         0.044878   \n",
       "\n",
       "                  Item_Type  Item_MRP Outlet_Identifier  \\\n",
       "0                     Dairy  249.8092            OUT049   \n",
       "1               Soft Drinks   48.2692            OUT018   \n",
       "2                      Meat  141.6180            OUT049   \n",
       "3     Fruits and Vegetables  182.0950            OUT010   \n",
       "4                 Household   53.8614            OUT013   \n",
       "...                     ...       ...               ...   \n",
       "8518            Snack Foods  214.5218            OUT013   \n",
       "8519           Baking Goods  108.1570            OUT045   \n",
       "8520     Health and Hygiene   85.1224            OUT035   \n",
       "8521            Snack Foods  103.1332            OUT018   \n",
       "8522            Soft Drinks   75.4670            OUT046   \n",
       "\n",
       "      Outlet_Establishment_Year Outlet_Size Outlet_Location_Type  \\\n",
       "0                          1999      Medium               Tier 1   \n",
       "1                          2009      Medium               Tier 3   \n",
       "2                          1999      Medium               Tier 1   \n",
       "3                          1998     Unknown               Tier 3   \n",
       "4                          1987        High               Tier 3   \n",
       "...                         ...         ...                  ...   \n",
       "8518                       1987        High               Tier 3   \n",
       "8519                       2002     Unknown               Tier 2   \n",
       "8520                       2004       Small               Tier 2   \n",
       "8521                       2009      Medium               Tier 3   \n",
       "8522                       1997       Small               Tier 1   \n",
       "\n",
       "            Outlet_Type  Item_Outlet_Sales  \n",
       "0     Supermarket Type1          3735.1380  \n",
       "1     Supermarket Type2           443.4228  \n",
       "2     Supermarket Type1          2097.2700  \n",
       "3         Grocery Store           732.3800  \n",
       "4     Supermarket Type1           994.7052  \n",
       "...                 ...                ...  \n",
       "8518  Supermarket Type1          2778.3834  \n",
       "8519  Supermarket Type1           549.2850  \n",
       "8520  Supermarket Type1          1193.1136  \n",
       "8521  Supermarket Type2          1845.5976  \n",
       "8522  Supermarket Type1           765.6700  \n",
       "\n",
       "[8523 rows x 12 columns]"
      ]
     },
     "execution_count": 122,
     "metadata": {},
     "output_type": "execute_result"
    }
   ],
   "source": [
    "df2"
   ]
  },
  {
   "cell_type": "code",
   "execution_count": 79,
   "metadata": {},
   "outputs": [
    {
     "data": {
      "text/plain": [
       "[1985, 1987, 1997, 1998, 1999, 2002, 2004, 2007, 2009]"
      ]
     },
     "execution_count": 79,
     "metadata": {},
     "output_type": "execute_result"
    }
   ],
   "source": [
    "year_range = df2['Outlet_Establishment_Year'].value_counts()\n",
    "x = []\n",
    "for year in df2['Outlet_Establishment_Year']:\n",
    "    if year in x :\n",
    "        continue\n",
    "    x.append(year)\n",
    "    \n",
    "sort(x)"
   ]
  },
  {
   "cell_type": "code",
   "execution_count": 224,
   "metadata": {},
   "outputs": [
    {
     "data": {
      "text/plain": [
       "[<matplotlib.lines.Line2D at 0x1e6a51ef3c8>]"
      ]
     },
     "execution_count": 224,
     "metadata": {},
     "output_type": "execute_result"
    },
    {
     "data": {
      "image/png": "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\n",
      "text/plain": [
       "<Figure size 432x288 with 1 Axes>"
      ]
     },
     "metadata": {
      "needs_background": "light"
     },
     "output_type": "display_data"
    }
   ],
   "source": [
    "df2[(df2['Outlet_Type'] == 'Supermarket Type1')]['Outlet_Establishment_Year'].value_counts()\n",
    "plt.plot(df2[(df2['Outlet_Type'] == 'Supermarket Type1')]['Outlet_Establishment_Year'].value_counts())"
   ]
  },
  {
   "cell_type": "code",
   "execution_count": 232,
   "metadata": {},
   "outputs": [
    {
     "data": {
      "text/plain": [
       "{'Supermarket Type1': 5577,\n",
       " 'Grocery Store': 1083,\n",
       " 'Supermarket Type3': 935,\n",
       " 'Supermarket Type2': 928}"
      ]
     },
     "execution_count": 232,
     "metadata": {},
     "output_type": "execute_result"
    }
   ],
   "source": [
    "dict(df2['Outlet_Type'].value_counts())"
   ]
  },
  {
   "cell_type": "markdown",
   "metadata": {},
   "source": [
    "## Plotting the establishment year of each type of store ##"
   ]
  },
  {
   "cell_type": "code",
   "execution_count": 263,
   "metadata": {},
   "outputs": [],
   "source": [
    "### DICT OF SUPER_TYPE1 YEARS ESTABLISHED\n",
    "\n",
    "years_all = list(range(years[0], (years[-1]+1)))\n",
    "super_type1_established = dict.fromkeys(years_all, 0)\n",
    "# super_type1_established\n",
    "for year in super_type1_established:\n",
    "    for value in df2[(df2['Outlet_Type'] == 'Supermarket Type1')]['Outlet_Establishment_Year'] :\n",
    "#         print(value)\n",
    "        if value == year:\n",
    "            super_type1_established[year] += 1\n",
    "\n",
    "# super_type1_established\n",
    "# plt.bar(list(super_type1_established.keys()),list(super_type1_established.values()))"
   ]
  },
  {
   "cell_type": "code",
   "execution_count": 264,
   "metadata": {},
   "outputs": [],
   "source": [
    "years_all = list(range(years[0], (years[-1]+1)))\n",
    "GroceryStore_established = dict.fromkeys(years_all, 0)\n",
    "for year in GroceryStore_established :\n",
    "    for value in df2[(df2['Outlet_Type'] == 'Grocery Store')]['Outlet_Establishment_Year'] :\n",
    "        if value == year:\n",
    "            GroceryStore_established[year] += 1\n",
    "\n",
    "# GroceryStore_established"
   ]
  },
  {
   "cell_type": "code",
   "execution_count": 265,
   "metadata": {},
   "outputs": [],
   "source": [
    "years_all = list(range(years[0], (years[-1]+1)))\n",
    "Supermarket_Type3_established = dict.fromkeys(years_all, 0)\n",
    "for year in Supermarket_Type3_established :\n",
    "    for value in df2[(df2['Outlet_Type'] == 'Supermarket Type3')]['Outlet_Establishment_Year'] :\n",
    "        if value == year:\n",
    "            Supermarket_Type3_established[year] += 1\n",
    "\n",
    "# Supermarket_Type3_established\n",
    "# THIS IS FOR A GUT CHECK\n",
    "# df2[(df2['Outlet_Type'] == 'Supermarket Type3')]['Outlet_Establishment_Year'].value_counts()"
   ]
  },
  {
   "cell_type": "code",
   "execution_count": 266,
   "metadata": {},
   "outputs": [],
   "source": [
    "years_all = list(range(years[0], (years[-1]+1)))\n",
    "Supermarket_Type3_established = dict.fromkeys(years_all, 0)\n",
    "for year in Supermarket_Type3_established :\n",
    "    for value in df2[(df2['Outlet_Type'] == 'Supermarket Type3')]['Outlet_Establishment_Year'] :\n",
    "        if value == year:\n",
    "            Supermarket_Type3_established[year] += 1\n",
    "\n",
    "# Supermarket_Type3_established\n",
    "# THIS IS FOR A GUT CHECK\n",
    "# df2[(df2['Outlet_Type'] == 'Supermarket Type3')]['Outlet_Establishment_Year'].value_counts()"
   ]
  },
  {
   "cell_type": "code",
   "execution_count": 284,
   "metadata": {},
   "outputs": [],
   "source": [
    "years_all = list(range(years[0], (years[-1]+1)))\n",
    "Supermarket_Type2_established = dict.fromkeys(years_all, 0)\n",
    "for year in Supermarket_Type2_established :\n",
    "    for value in df2[(df2['Outlet_Type'] == 'Supermarket Type2')]['Outlet_Establishment_Year'] :\n",
    "        if value == year:\n",
    "            Supermarket_Type2_established[year] += 1\n",
    "\n",
    "# Supermarket_Type2_established\n",
    "# THIS IS FOR A GUT CHECK\n",
    "# df2[(df2['Outlet_Type'] == 'Supermarket Type2')]['Outlet_Establishment_Year'].value_counts()\n",
    "# years_all"
   ]
  },
  {
   "cell_type": "code",
   "execution_count": 295,
   "metadata": {},
   "outputs": [
    {
     "data": {
      "image/png": "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\n",
      "text/plain": [
       "<Figure size 432x288 with 1 Axes>"
      ]
     },
     "metadata": {
      "needs_background": "light"
     },
     "output_type": "display_data"
    }
   ],
   "source": [
    "plt.figure()\n",
    "\n",
    "plt.bar(years_all, list(super_type1_established.values()), label = 'Supermarket Type 1')\n",
    "plt.bar(years_all, list(GroceryStore_established.values()), label = 'Grocery Store')\n",
    "plt.bar(years_all, list(Supermarket_Type3_established.values()), label = 'Supermarket Type 3')\n",
    "plt.bar(years_all, list(Supermarket_Type2_established.values()), label = 'Supermarket Type 2')\n",
    "\n",
    "\n",
    "plt.legend(loc='upper right', bbox_to_anchor=(1.45, 1))\n",
    "\n",
    "plt.show()"
   ]
  },
  {
   "cell_type": "markdown",
   "metadata": {},
   "source": [
    "It looks like the building of these stores was irregular with a large gap in the early 90s. I will be interested to see if any of the other data has this same gap or is it missing information. \n",
    "\n",
    "### I realised this information is not accurate as i am looking at per item. so it is showing to many stores ###\n",
    "Below i will start trying to correct this plot and get the number of stores based on the outlet_identifer\n"
   ]
  },
  {
   "cell_type": "code",
   "execution_count": 323,
   "metadata": {},
   "outputs": [],
   "source": [
    "super_type_2 = df2[df2['Outlet_Type'] == 'Supermarket Type2']\n",
    "# super_type_2[super_type_2['Item_Type'] == 'Soft Drinks']"
   ]
  },
  {
   "cell_type": "markdown",
   "metadata": {},
   "source": [
    "it is interesting that all softdrinks sold in a super type 2 have the same year and size"
   ]
  },
  {
   "cell_type": "code",
   "execution_count": 331,
   "metadata": {},
   "outputs": [
    {
     "data": {
      "text/html": [
       "<div>\n",
       "<style scoped>\n",
       "    .dataframe tbody tr th:only-of-type {\n",
       "        vertical-align: middle;\n",
       "    }\n",
       "\n",
       "    .dataframe tbody tr th {\n",
       "        vertical-align: top;\n",
       "    }\n",
       "\n",
       "    .dataframe thead th {\n",
       "        text-align: right;\n",
       "    }\n",
       "</style>\n",
       "<table border=\"1\" class=\"dataframe\">\n",
       "  <thead>\n",
       "    <tr style=\"text-align: right;\">\n",
       "      <th></th>\n",
       "      <th>Item_Identifier</th>\n",
       "      <th>Item_Weight</th>\n",
       "      <th>Item_Fat_Content</th>\n",
       "      <th>Item_Visibility</th>\n",
       "      <th>Item_Type</th>\n",
       "      <th>Item_MRP</th>\n",
       "      <th>Outlet_Identifier</th>\n",
       "      <th>Outlet_Establishment_Year</th>\n",
       "      <th>Outlet_Size</th>\n",
       "      <th>Outlet_Location_Type</th>\n",
       "      <th>Outlet_Type</th>\n",
       "      <th>Item_Outlet_Sales</th>\n",
       "    </tr>\n",
       "  </thead>\n",
       "  <tbody>\n",
       "    <tr>\n",
       "      <th>0</th>\n",
       "      <td>FDA15</td>\n",
       "      <td>9.300</td>\n",
       "      <td>Low Fat</td>\n",
       "      <td>0.016047</td>\n",
       "      <td>Dairy</td>\n",
       "      <td>249.8092</td>\n",
       "      <td>OUT049</td>\n",
       "      <td>1999</td>\n",
       "      <td>Medium</td>\n",
       "      <td>Tier 1</td>\n",
       "      <td>Supermarket Type1</td>\n",
       "      <td>3735.1380</td>\n",
       "    </tr>\n",
       "    <tr>\n",
       "      <th>1</th>\n",
       "      <td>DRC01</td>\n",
       "      <td>5.920</td>\n",
       "      <td>Regular</td>\n",
       "      <td>0.019278</td>\n",
       "      <td>Soft Drinks</td>\n",
       "      <td>48.2692</td>\n",
       "      <td>OUT018</td>\n",
       "      <td>2009</td>\n",
       "      <td>Medium</td>\n",
       "      <td>Tier 3</td>\n",
       "      <td>Supermarket Type2</td>\n",
       "      <td>443.4228</td>\n",
       "    </tr>\n",
       "    <tr>\n",
       "      <th>2</th>\n",
       "      <td>FDN15</td>\n",
       "      <td>17.500</td>\n",
       "      <td>Low Fat</td>\n",
       "      <td>0.016760</td>\n",
       "      <td>Meat</td>\n",
       "      <td>141.6180</td>\n",
       "      <td>OUT049</td>\n",
       "      <td>1999</td>\n",
       "      <td>Medium</td>\n",
       "      <td>Tier 1</td>\n",
       "      <td>Supermarket Type1</td>\n",
       "      <td>2097.2700</td>\n",
       "    </tr>\n",
       "    <tr>\n",
       "      <th>3</th>\n",
       "      <td>FDX07</td>\n",
       "      <td>19.200</td>\n",
       "      <td>Regular</td>\n",
       "      <td>0.000000</td>\n",
       "      <td>Fruits and Vegetables</td>\n",
       "      <td>182.0950</td>\n",
       "      <td>OUT010</td>\n",
       "      <td>1998</td>\n",
       "      <td>Unknown</td>\n",
       "      <td>Tier 3</td>\n",
       "      <td>Grocery Store</td>\n",
       "      <td>732.3800</td>\n",
       "    </tr>\n",
       "    <tr>\n",
       "      <th>4</th>\n",
       "      <td>NCD19</td>\n",
       "      <td>8.930</td>\n",
       "      <td>Low Fat</td>\n",
       "      <td>0.000000</td>\n",
       "      <td>Household</td>\n",
       "      <td>53.8614</td>\n",
       "      <td>OUT013</td>\n",
       "      <td>1987</td>\n",
       "      <td>High</td>\n",
       "      <td>Tier 3</td>\n",
       "      <td>Supermarket Type1</td>\n",
       "      <td>994.7052</td>\n",
       "    </tr>\n",
       "    <tr>\n",
       "      <th>...</th>\n",
       "      <td>...</td>\n",
       "      <td>...</td>\n",
       "      <td>...</td>\n",
       "      <td>...</td>\n",
       "      <td>...</td>\n",
       "      <td>...</td>\n",
       "      <td>...</td>\n",
       "      <td>...</td>\n",
       "      <td>...</td>\n",
       "      <td>...</td>\n",
       "      <td>...</td>\n",
       "      <td>...</td>\n",
       "    </tr>\n",
       "    <tr>\n",
       "      <th>8518</th>\n",
       "      <td>FDF22</td>\n",
       "      <td>6.865</td>\n",
       "      <td>Low Fat</td>\n",
       "      <td>0.056783</td>\n",
       "      <td>Snack Foods</td>\n",
       "      <td>214.5218</td>\n",
       "      <td>OUT013</td>\n",
       "      <td>1987</td>\n",
       "      <td>High</td>\n",
       "      <td>Tier 3</td>\n",
       "      <td>Supermarket Type1</td>\n",
       "      <td>2778.3834</td>\n",
       "    </tr>\n",
       "    <tr>\n",
       "      <th>8519</th>\n",
       "      <td>FDS36</td>\n",
       "      <td>8.380</td>\n",
       "      <td>Regular</td>\n",
       "      <td>0.046982</td>\n",
       "      <td>Baking Goods</td>\n",
       "      <td>108.1570</td>\n",
       "      <td>OUT045</td>\n",
       "      <td>2002</td>\n",
       "      <td>Unknown</td>\n",
       "      <td>Tier 2</td>\n",
       "      <td>Supermarket Type1</td>\n",
       "      <td>549.2850</td>\n",
       "    </tr>\n",
       "    <tr>\n",
       "      <th>8520</th>\n",
       "      <td>NCJ29</td>\n",
       "      <td>10.600</td>\n",
       "      <td>Low Fat</td>\n",
       "      <td>0.035186</td>\n",
       "      <td>Health and Hygiene</td>\n",
       "      <td>85.1224</td>\n",
       "      <td>OUT035</td>\n",
       "      <td>2004</td>\n",
       "      <td>Small</td>\n",
       "      <td>Tier 2</td>\n",
       "      <td>Supermarket Type1</td>\n",
       "      <td>1193.1136</td>\n",
       "    </tr>\n",
       "    <tr>\n",
       "      <th>8521</th>\n",
       "      <td>FDN46</td>\n",
       "      <td>7.210</td>\n",
       "      <td>Regular</td>\n",
       "      <td>0.145221</td>\n",
       "      <td>Snack Foods</td>\n",
       "      <td>103.1332</td>\n",
       "      <td>OUT018</td>\n",
       "      <td>2009</td>\n",
       "      <td>Medium</td>\n",
       "      <td>Tier 3</td>\n",
       "      <td>Supermarket Type2</td>\n",
       "      <td>1845.5976</td>\n",
       "    </tr>\n",
       "    <tr>\n",
       "      <th>8522</th>\n",
       "      <td>DRG01</td>\n",
       "      <td>14.800</td>\n",
       "      <td>Low Fat</td>\n",
       "      <td>0.044878</td>\n",
       "      <td>Soft Drinks</td>\n",
       "      <td>75.4670</td>\n",
       "      <td>OUT046</td>\n",
       "      <td>1997</td>\n",
       "      <td>Small</td>\n",
       "      <td>Tier 1</td>\n",
       "      <td>Supermarket Type1</td>\n",
       "      <td>765.6700</td>\n",
       "    </tr>\n",
       "  </tbody>\n",
       "</table>\n",
       "<p>8523 rows × 12 columns</p>\n",
       "</div>"
      ],
      "text/plain": [
       "     Item_Identifier  Item_Weight Item_Fat_Content  Item_Visibility  \\\n",
       "0              FDA15        9.300          Low Fat         0.016047   \n",
       "1              DRC01        5.920          Regular         0.019278   \n",
       "2              FDN15       17.500          Low Fat         0.016760   \n",
       "3              FDX07       19.200          Regular         0.000000   \n",
       "4              NCD19        8.930          Low Fat         0.000000   \n",
       "...              ...          ...              ...              ...   \n",
       "8518           FDF22        6.865          Low Fat         0.056783   \n",
       "8519           FDS36        8.380          Regular         0.046982   \n",
       "8520           NCJ29       10.600          Low Fat         0.035186   \n",
       "8521           FDN46        7.210          Regular         0.145221   \n",
       "8522           DRG01       14.800          Low Fat         0.044878   \n",
       "\n",
       "                  Item_Type  Item_MRP Outlet_Identifier  \\\n",
       "0                     Dairy  249.8092            OUT049   \n",
       "1               Soft Drinks   48.2692            OUT018   \n",
       "2                      Meat  141.6180            OUT049   \n",
       "3     Fruits and Vegetables  182.0950            OUT010   \n",
       "4                 Household   53.8614            OUT013   \n",
       "...                     ...       ...               ...   \n",
       "8518            Snack Foods  214.5218            OUT013   \n",
       "8519           Baking Goods  108.1570            OUT045   \n",
       "8520     Health and Hygiene   85.1224            OUT035   \n",
       "8521            Snack Foods  103.1332            OUT018   \n",
       "8522            Soft Drinks   75.4670            OUT046   \n",
       "\n",
       "      Outlet_Establishment_Year Outlet_Size Outlet_Location_Type  \\\n",
       "0                          1999      Medium               Tier 1   \n",
       "1                          2009      Medium               Tier 3   \n",
       "2                          1999      Medium               Tier 1   \n",
       "3                          1998     Unknown               Tier 3   \n",
       "4                          1987        High               Tier 3   \n",
       "...                         ...         ...                  ...   \n",
       "8518                       1987        High               Tier 3   \n",
       "8519                       2002     Unknown               Tier 2   \n",
       "8520                       2004       Small               Tier 2   \n",
       "8521                       2009      Medium               Tier 3   \n",
       "8522                       1997       Small               Tier 1   \n",
       "\n",
       "            Outlet_Type  Item_Outlet_Sales  \n",
       "0     Supermarket Type1          3735.1380  \n",
       "1     Supermarket Type2           443.4228  \n",
       "2     Supermarket Type1          2097.2700  \n",
       "3         Grocery Store           732.3800  \n",
       "4     Supermarket Type1           994.7052  \n",
       "...                 ...                ...  \n",
       "8518  Supermarket Type1          2778.3834  \n",
       "8519  Supermarket Type1           549.2850  \n",
       "8520  Supermarket Type1          1193.1136  \n",
       "8521  Supermarket Type2          1845.5976  \n",
       "8522  Supermarket Type1           765.6700  \n",
       "\n",
       "[8523 rows x 12 columns]"
      ]
     },
     "execution_count": 331,
     "metadata": {},
     "output_type": "execute_result"
    }
   ],
   "source": [
    "df2['Outlet_Identifier'].nunique()\n",
    "dict.fromkeys(df2['Outlet_Identifier'].value_counts(), 0)\n",
    "\n",
    "df2.groupby('Outlet_Identifier')\n",
    "df2\n"
   ]
  },
  {
   "cell_type": "code",
   "execution_count": 332,
   "metadata": {},
   "outputs": [],
   "source": [
    "df2.to_csv('M:\\TRAINING\\CODING_DOJO\\Project 01\\sales-predictions\\sales_predictions_clean.csv', index = False)"
   ]
  },
  {
   "cell_type": "code",
>>>>>>> Stashed changes
   "execution_count": null,
   "metadata": {},
   "outputs": [],
   "source": []
  }
 ],
 "metadata": {
  "kernelspec": {
   "display_name": "Python 3",
   "language": "python",
   "name": "python3"
  },
  "language_info": {
   "codemirror_mode": {
    "name": "ipython",
    "version": 3
   },
   "file_extension": ".py",
   "mimetype": "text/x-python",
   "name": "python",
   "nbconvert_exporter": "python",
   "pygments_lexer": "ipython3",
   "version": "3.7.6"
  }
 },
 "nbformat": 4,
 "nbformat_minor": 4
}
