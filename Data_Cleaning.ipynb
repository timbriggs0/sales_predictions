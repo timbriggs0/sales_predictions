{
 "cells": [
  {
   "cell_type": "code",
   "execution_count": 1,
   "metadata": {},
   "outputs": [],
   "source": [
    "import pandas as pd\n",
    "import matplotlib.pyplot as plt\n",
    "import math"
   ]
  },
  {
   "cell_type": "code",
   "execution_count": 24,
   "metadata": {},
   "outputs": [
    {
     "data": {
      "text/html": [
       "<div>\n",
       "<style scoped>\n",
       "    .dataframe tbody tr th:only-of-type {\n",
       "        vertical-align: middle;\n",
       "    }\n",
       "\n",
       "    .dataframe tbody tr th {\n",
       "        vertical-align: top;\n",
       "    }\n",
       "\n",
       "    .dataframe thead th {\n",
       "        text-align: right;\n",
       "    }\n",
       "</style>\n",
       "<table border=\"1\" class=\"dataframe\">\n",
       "  <thead>\n",
       "    <tr style=\"text-align: right;\">\n",
       "      <th></th>\n",
       "      <th></th>\n",
       "      <th></th>\n",
       "      <th></th>\n",
       "      <th></th>\n",
       "      <th></th>\n",
       "      <th></th>\n",
       "      <th></th>\n",
       "      <th></th>\n",
       "      <th></th>\n",
       "      <th></th>\n",
       "      <th>&lt;&lt;&lt;&lt;&lt;&lt;&lt; Updated upstream</th>\n",
       "    </tr>\n",
       "  </thead>\n",
       "  <tbody>\n",
       "    <tr>\n",
       "      <th>Item_Identifier</th>\n",
       "      <th>Item_Weight</th>\n",
       "      <th>Item_Fat_Content</th>\n",
       "      <th>Item_Visibility</th>\n",
       "      <th>Item_Type</th>\n",
       "      <th>Item_MRP</th>\n",
       "      <th>Outlet_Identifier</th>\n",
       "      <th>Outlet_Establishment_Year</th>\n",
       "      <th>Outlet_Size</th>\n",
       "      <th>Outlet_Location_Type</th>\n",
       "      <th>Outlet_Type</th>\n",
       "      <td>Item_Outlet_Sales</td>\n",
       "    </tr>\n",
       "    <tr>\n",
       "      <th>FDA15</th>\n",
       "      <th>9.3</th>\n",
       "      <th>Low Fat</th>\n",
       "      <th>0.016047301</th>\n",
       "      <th>Dairy</th>\n",
       "      <th>249.8092</th>\n",
       "      <th>OUT049</th>\n",
       "      <th>1999</th>\n",
       "      <th>Medium</th>\n",
       "      <th>Tier 1</th>\n",
       "      <th>Supermarket Type1</th>\n",
       "      <td>3735.138</td>\n",
       "    </tr>\n",
       "    <tr>\n",
       "      <th>DRC01</th>\n",
       "      <th>5.92</th>\n",
       "      <th>Regular</th>\n",
       "      <th>0.019278216</th>\n",
       "      <th>Soft Drinks</th>\n",
       "      <th>48.2692</th>\n",
       "      <th>OUT018</th>\n",
       "      <th>2009</th>\n",
       "      <th>Medium</th>\n",
       "      <th>Tier 3</th>\n",
       "      <th>Supermarket Type2</th>\n",
       "      <td>443.4228</td>\n",
       "    </tr>\n",
       "    <tr>\n",
       "      <th>FDN15</th>\n",
       "      <th>17.5</th>\n",
       "      <th>Low Fat</th>\n",
       "      <th>0.016760075</th>\n",
       "      <th>Meat</th>\n",
       "      <th>141.618</th>\n",
       "      <th>OUT049</th>\n",
       "      <th>1999</th>\n",
       "      <th>Medium</th>\n",
       "      <th>Tier 1</th>\n",
       "      <th>Supermarket Type1</th>\n",
       "      <td>2097.27</td>\n",
       "    </tr>\n",
       "    <tr>\n",
       "      <th>FDX07</th>\n",
       "      <th>19.2</th>\n",
       "      <th>Regular</th>\n",
       "      <th>0</th>\n",
       "      <th>Fruits and Vegetables</th>\n",
       "      <th>182.095</th>\n",
       "      <th>OUT010</th>\n",
       "      <th>1998</th>\n",
       "      <th>NaN</th>\n",
       "      <th>Tier 3</th>\n",
       "      <th>Grocery Store</th>\n",
       "      <td>732.38</td>\n",
       "    </tr>\n",
       "  </tbody>\n",
       "</table>\n",
       "</div>"
      ],
      "text/plain": [
       "                                                                                                                                                                                           <<<<<<< Updated upstream\n",
       "Item_Identifier Item_Weight Item_Fat_Content Item_Visibility Item_Type             Item_MRP Outlet_Identifier Outlet_Establishment_Year Outlet_Size Outlet_Location_Type Outlet_Type              Item_Outlet_Sales\n",
       "FDA15           9.3         Low Fat          0.016047301     Dairy                 249.8092 OUT049            1999                      Medium      Tier 1               Supermarket Type1                 3735.138\n",
       "DRC01           5.92        Regular          0.019278216     Soft Drinks           48.2692  OUT018            2009                      Medium      Tier 3               Supermarket Type2                 443.4228\n",
       "FDN15           17.5        Low Fat          0.016760075     Meat                  141.618  OUT049            1999                      Medium      Tier 1               Supermarket Type1                  2097.27\n",
       "FDX07           19.2        Regular          0               Fruits and Vegetables 182.095  OUT010            1998                      NaN         Tier 3               Grocery Store                       732.38"
      ]
     },
     "execution_count": 24,
     "metadata": {},
     "output_type": "execute_result"
    }
   ],
   "source": [
    "df_dirty = pd.read_csv('M:\\TRAINING\\CODING_DOJO\\PROJECTS\\Sales_Predictions\\sales_predictions.csv')\n",
    "df_dirty.head()\n",
    "# df_dirty.info()"
   ]
  },
  {
   "cell_type": "markdown",
   "metadata": {},
   "source": [
    "After importing the csv it looks like we are having some issues...\n",
    "1. every collumn is an index except one.\n",
    "2. we have missing values"
   ]
  },
  {
   "cell_type": "code",
   "execution_count": 25,
   "metadata": {},
   "outputs": [],
   "source": [
    "df_dirty.reset_index(inplace = True)"
   ]
  },
  {
   "cell_type": "code",
   "execution_count": 26,
   "metadata": {},
   "outputs": [],
   "source": [
    "df_dirty.iloc[0]\n",
    "df_dirty.columns = df_dirty.iloc[0]\n",
    "# df_dirty"
   ]
  },
  {
   "cell_type": "markdown",
   "metadata": {},
   "source": [
    "made progress by pushing the headings up now i just need to remove the first row from the df as it is a duplicate of the headers. i think this can be done by the drop() method but will have to google to confirm"
   ]
  },
  {
   "cell_type": "code",
   "execution_count": 27,
   "metadata": {
    "scrolled": true
   },
   "outputs": [],
   "source": [
    "# df_dirty.iloc[0]\n",
    "df_dirty.drop(0, inplace = True)"
   ]
  },
  {
   "cell_type": "markdown",
   "metadata": {},
   "source": [
    "we are getting there - the headers are in place - now lets look athe the missing values and see what else we need to clean up"
   ]
  },
  {
   "cell_type": "code",
   "execution_count": 29,
   "metadata": {},
   "outputs": [
    {
     "name": "stdout",
     "output_type": "stream",
     "text": [
      "<class 'pandas.core.frame.DataFrame'>\n",
      "Int64Index: 17049 entries, 1 to 17049\n",
      "Data columns (total 12 columns):\n",
      " #   Column                     Non-Null Count  Dtype \n",
      "---  ------                     --------------  ----- \n",
      " 0   Item_Identifier            17049 non-null  object\n",
      " 1   Item_Weight                14121 non-null  object\n",
      " 2   Item_Fat_Content           17047 non-null  object\n",
      " 3   Item_Visibility            17047 non-null  object\n",
      " 4   Item_Type                  17047 non-null  object\n",
      " 5   Item_MRP                   17047 non-null  object\n",
      " 6   Outlet_Identifier          17047 non-null  object\n",
      " 7   Outlet_Establishment_Year  17047 non-null  object\n",
      " 8   Outlet_Size                12227 non-null  object\n",
      " 9   Outlet_Location_Type       17047 non-null  object\n",
      " 10  Outlet_Type                17047 non-null  object\n",
      " 11  Item_Outlet_Sales          17047 non-null  object\n",
      "dtypes: object(12)\n",
      "memory usage: 1.7+ MB\n"
     ]
    }
   ],
   "source": [
    "df_dirty.info()"
   ]
  },
  {
   "cell_type": "markdown",
   "metadata": {},
   "source": [
    "looks like we have missing values in every column - i wonder if those are across the board - lets quickly do a drop nan all and see if we get some tighter columns"
   ]
  },
  {
   "cell_type": "code",
   "execution_count": 32,
   "metadata": {},
   "outputs": [
    {
     "name": "stdout",
     "output_type": "stream",
     "text": [
      "<class 'pandas.core.frame.DataFrame'>\n",
      "Int64Index: 17049 entries, 1 to 17049\n",
      "Data columns (total 12 columns):\n",
      " #   Column                     Non-Null Count  Dtype \n",
      "---  ------                     --------------  ----- \n",
      " 0   Item_Identifier            17049 non-null  object\n",
      " 1   Item_Weight                14121 non-null  object\n",
      " 2   Item_Fat_Content           17047 non-null  object\n",
      " 3   Item_Visibility            17047 non-null  object\n",
      " 4   Item_Type                  17047 non-null  object\n",
      " 5   Item_MRP                   17047 non-null  object\n",
      " 6   Outlet_Identifier          17047 non-null  object\n",
      " 7   Outlet_Establishment_Year  17047 non-null  object\n",
      " 8   Outlet_Size                12227 non-null  object\n",
      " 9   Outlet_Location_Type       17047 non-null  object\n",
      " 10  Outlet_Type                17047 non-null  object\n",
      " 11  Item_Outlet_Sales          17047 non-null  object\n",
      "dtypes: object(12)\n",
      "memory usage: 1.7+ MB\n"
     ]
    }
   ],
   "source": [
    "df_dirty.dropna(how = 'all', inplace = True)\n",
    "df_dirty.info()"
   ]
  },
  {
   "cell_type": "markdown",
   "metadata": {},
   "source": [
    "that didnt seem to do much. lets see if we can find where those nan values are."
   ]
  },
  {
   "cell_type": "code",
   "execution_count": 41,
   "metadata": {},
   "outputs": [
    {
     "data": {
      "text/html": [
       "<div>\n",
       "<style scoped>\n",
       "    .dataframe tbody tr th:only-of-type {\n",
       "        vertical-align: middle;\n",
       "    }\n",
       "\n",
       "    .dataframe tbody tr th {\n",
       "        vertical-align: top;\n",
       "    }\n",
       "\n",
       "    .dataframe thead th {\n",
       "        text-align: right;\n",
       "    }\n",
       "</style>\n",
       "<table border=\"1\" class=\"dataframe\">\n",
       "  <thead>\n",
       "    <tr style=\"text-align: right;\">\n",
       "      <th></th>\n",
       "      <th>Item_Identifier</th>\n",
       "      <th>Item_Weight</th>\n",
       "      <th>Item_Fat_Content</th>\n",
       "      <th>Item_Visibility</th>\n",
       "      <th>Item_Type</th>\n",
       "      <th>Item_MRP</th>\n",
       "      <th>Outlet_Identifier</th>\n",
       "      <th>Outlet_Establishment_Year</th>\n",
       "      <th>Outlet_Size</th>\n",
       "      <th>Outlet_Location_Type</th>\n",
       "      <th>Outlet_Type</th>\n",
       "      <th>Item_Outlet_Sales</th>\n",
       "    </tr>\n",
       "  </thead>\n",
       "  <tbody>\n",
       "    <tr>\n",
       "      <th>17045</th>\n",
       "      <td>FDS36</td>\n",
       "      <td>8.38</td>\n",
       "      <td>Regular</td>\n",
       "      <td>0.046982429</td>\n",
       "      <td>Baking Goods</td>\n",
       "      <td>108.157</td>\n",
       "      <td>OUT045</td>\n",
       "      <td>2002</td>\n",
       "      <td>NaN</td>\n",
       "      <td>Tier 2</td>\n",
       "      <td>Supermarket Type1</td>\n",
       "      <td>549.285</td>\n",
       "    </tr>\n",
       "    <tr>\n",
       "      <th>17046</th>\n",
       "      <td>NCJ29</td>\n",
       "      <td>10.6</td>\n",
       "      <td>Low Fat</td>\n",
       "      <td>0.035186271</td>\n",
       "      <td>Health and Hygiene</td>\n",
       "      <td>85.1224</td>\n",
       "      <td>OUT035</td>\n",
       "      <td>2004</td>\n",
       "      <td>Small</td>\n",
       "      <td>Tier 2</td>\n",
       "      <td>Supermarket Type1</td>\n",
       "      <td>1193.1136</td>\n",
       "    </tr>\n",
       "    <tr>\n",
       "      <th>17047</th>\n",
       "      <td>FDN46</td>\n",
       "      <td>7.21</td>\n",
       "      <td>Regular</td>\n",
       "      <td>0.145220646</td>\n",
       "      <td>Snack Foods</td>\n",
       "      <td>103.1332</td>\n",
       "      <td>OUT018</td>\n",
       "      <td>2009</td>\n",
       "      <td>Medium</td>\n",
       "      <td>Tier 3</td>\n",
       "      <td>Supermarket Type2</td>\n",
       "      <td>1845.5976</td>\n",
       "    </tr>\n",
       "    <tr>\n",
       "      <th>17048</th>\n",
       "      <td>DRG01</td>\n",
       "      <td>14.8</td>\n",
       "      <td>Low Fat</td>\n",
       "      <td>0.04487828</td>\n",
       "      <td>Soft Drinks</td>\n",
       "      <td>75.467</td>\n",
       "      <td>OUT046</td>\n",
       "      <td>1997</td>\n",
       "      <td>Small</td>\n",
       "      <td>Tier 1</td>\n",
       "      <td>Supermarket Type1</td>\n",
       "      <td>765.67</td>\n",
       "    </tr>\n",
       "    <tr>\n",
       "      <th>17049</th>\n",
       "      <td>&gt;&gt;&gt;&gt;&gt;&gt;&gt; Stashed changes</td>\n",
       "      <td>NaN</td>\n",
       "      <td>NaN</td>\n",
       "      <td>NaN</td>\n",
       "      <td>NaN</td>\n",
       "      <td>NaN</td>\n",
       "      <td>NaN</td>\n",
       "      <td>NaN</td>\n",
       "      <td>NaN</td>\n",
       "      <td>NaN</td>\n",
       "      <td>NaN</td>\n",
       "      <td>NaN</td>\n",
       "    </tr>\n",
       "  </tbody>\n",
       "</table>\n",
       "</div>"
      ],
      "text/plain": [
       "0              Item_Identifier Item_Weight Item_Fat_Content Item_Visibility  \\\n",
       "17045                    FDS36        8.38          Regular     0.046982429   \n",
       "17046                    NCJ29        10.6          Low Fat     0.035186271   \n",
       "17047                    FDN46        7.21          Regular     0.145220646   \n",
       "17048                    DRG01        14.8          Low Fat      0.04487828   \n",
       "17049  >>>>>>> Stashed changes         NaN              NaN             NaN   \n",
       "\n",
       "0               Item_Type  Item_MRP Outlet_Identifier  \\\n",
       "17045        Baking Goods   108.157            OUT045   \n",
       "17046  Health and Hygiene   85.1224            OUT035   \n",
       "17047         Snack Foods  103.1332            OUT018   \n",
       "17048         Soft Drinks    75.467            OUT046   \n",
       "17049                 NaN       NaN               NaN   \n",
       "\n",
       "0     Outlet_Establishment_Year Outlet_Size Outlet_Location_Type  \\\n",
       "17045                      2002         NaN               Tier 2   \n",
       "17046                      2004       Small               Tier 2   \n",
       "17047                      2009      Medium               Tier 3   \n",
       "17048                      1997       Small               Tier 1   \n",
       "17049                       NaN         NaN                  NaN   \n",
       "\n",
       "0            Outlet_Type Item_Outlet_Sales  \n",
       "17045  Supermarket Type1           549.285  \n",
       "17046  Supermarket Type1         1193.1136  \n",
       "17047  Supermarket Type2         1845.5976  \n",
       "17048  Supermarket Type1            765.67  \n",
       "17049                NaN               NaN  "
      ]
     },
     "execution_count": 41,
     "metadata": {},
     "output_type": "execute_result"
    }
   ],
   "source": [
    "# df_dirty.isna().any()\n",
    "df_dirty.tail()"
   ]
  },
  {
   "cell_type": "markdown",
   "metadata": {},
   "source": [
    "the last row is all NaN so lets drop that one for start"
   ]
  },
  {
   "cell_type": "code",
   "execution_count": 43,
   "metadata": {},
   "outputs": [],
   "source": [
    "df_dirty.drop(17049, inplace = True)"
   ]
  },
  {
   "cell_type": "code",
   "execution_count": 50,
   "metadata": {},
   "outputs": [],
   "source": [
    "# df_dirty[df_dirty.isnull().any(axis = 'rows')]"
   ]
  },
  {
   "cell_type": "code",
   "execution_count": 52,
   "metadata": {},
   "outputs": [
    {
     "data": {
      "text/html": [
       "<div>\n",
       "<style scoped>\n",
       "    .dataframe tbody tr th:only-of-type {\n",
       "        vertical-align: middle;\n",
       "    }\n",
       "\n",
       "    .dataframe tbody tr th {\n",
       "        vertical-align: top;\n",
       "    }\n",
       "\n",
       "    .dataframe thead th {\n",
       "        text-align: right;\n",
       "    }\n",
       "</style>\n",
       "<table border=\"1\" class=\"dataframe\">\n",
       "  <thead>\n",
       "    <tr style=\"text-align: right;\">\n",
       "      <th></th>\n",
       "      <th>Item_Identifier</th>\n",
       "      <th>Item_Weight</th>\n",
       "      <th>Item_Fat_Content</th>\n",
       "      <th>Item_Visibility</th>\n",
       "      <th>Item_Type</th>\n",
       "      <th>Item_MRP</th>\n",
       "      <th>Outlet_Identifier</th>\n",
       "      <th>Outlet_Establishment_Year</th>\n",
       "      <th>Outlet_Size</th>\n",
       "      <th>Outlet_Location_Type</th>\n",
       "      <th>Outlet_Type</th>\n",
       "      <th>Item_Outlet_Sales</th>\n",
       "    </tr>\n",
       "  </thead>\n",
       "  <tbody>\n",
       "    <tr>\n",
       "      <th>8524</th>\n",
       "      <td>=======</td>\n",
       "      <td>NaN</td>\n",
       "      <td>NaN</td>\n",
       "      <td>NaN</td>\n",
       "      <td>NaN</td>\n",
       "      <td>NaN</td>\n",
       "      <td>NaN</td>\n",
       "      <td>NaN</td>\n",
       "      <td>NaN</td>\n",
       "      <td>NaN</td>\n",
       "      <td>NaN</td>\n",
       "      <td>NaN</td>\n",
       "    </tr>\n",
       "  </tbody>\n",
       "</table>\n",
       "</div>"
      ],
      "text/plain": [
       "0    Item_Identifier Item_Weight Item_Fat_Content Item_Visibility Item_Type  \\\n",
       "8524         =======         NaN              NaN             NaN       NaN   \n",
       "\n",
       "0    Item_MRP Outlet_Identifier Outlet_Establishment_Year Outlet_Size  \\\n",
       "8524      NaN               NaN                       NaN         NaN   \n",
       "\n",
       "0    Outlet_Location_Type Outlet_Type Item_Outlet_Sales  \n",
       "8524                  NaN         NaN               NaN  "
      ]
     },
     "execution_count": 52,
     "metadata": {},
     "output_type": "execute_result"
    }
   ],
   "source": [
    "df_dirty[df_dirty['Item_Outlet_Sales'].isna()]"
   ]
  },
  {
   "cell_type": "markdown",
   "metadata": {},
   "source": [
    "I desided to select a column that only had one NaN and locate its value. It turns out that it has the index of 8524. this is an index that isnt apearing on the tail. this makes me wonder if the index isnt sorted properly. I will perform that task now"
   ]
  },
  {
   "cell_type": "code",
   "execution_count": 61,
   "metadata": {},
   "outputs": [
    {
     "data": {
      "text/html": [
       "<div>\n",
       "<style scoped>\n",
       "    .dataframe tbody tr th:only-of-type {\n",
       "        vertical-align: middle;\n",
       "    }\n",
       "\n",
       "    .dataframe tbody tr th {\n",
       "        vertical-align: top;\n",
       "    }\n",
       "\n",
       "    .dataframe thead th {\n",
       "        text-align: right;\n",
       "    }\n",
       "</style>\n",
       "<table border=\"1\" class=\"dataframe\">\n",
       "  <thead>\n",
       "    <tr style=\"text-align: right;\">\n",
       "      <th></th>\n",
       "      <th>Item_Identifier</th>\n",
       "      <th>Item_Weight</th>\n",
       "      <th>Item_Fat_Content</th>\n",
       "      <th>Item_Visibility</th>\n",
       "      <th>Item_Type</th>\n",
       "      <th>Item_MRP</th>\n",
       "      <th>Outlet_Identifier</th>\n",
       "      <th>Outlet_Establishment_Year</th>\n",
       "      <th>Outlet_Size</th>\n",
       "      <th>Outlet_Location_Type</th>\n",
       "      <th>Outlet_Type</th>\n",
       "      <th>Item_Outlet_Sales</th>\n",
       "    </tr>\n",
       "  </thead>\n",
       "  <tbody>\n",
       "    <tr>\n",
       "      <th>8524</th>\n",
       "      <td>=======</td>\n",
       "      <td>NaN</td>\n",
       "      <td>NaN</td>\n",
       "      <td>NaN</td>\n",
       "      <td>NaN</td>\n",
       "      <td>NaN</td>\n",
       "      <td>NaN</td>\n",
       "      <td>NaN</td>\n",
       "      <td>NaN</td>\n",
       "      <td>NaN</td>\n",
       "      <td>NaN</td>\n",
       "      <td>NaN</td>\n",
       "    </tr>\n",
       "  </tbody>\n",
       "</table>\n",
       "</div>"
      ],
      "text/plain": [
       "0    Item_Identifier Item_Weight Item_Fat_Content Item_Visibility Item_Type  \\\n",
       "8524         =======         NaN              NaN             NaN       NaN   \n",
       "\n",
       "0    Item_MRP Outlet_Identifier Outlet_Establishment_Year Outlet_Size  \\\n",
       "8524      NaN               NaN                       NaN         NaN   \n",
       "\n",
       "0    Outlet_Location_Type Outlet_Type Item_Outlet_Sales  \n",
       "8524                  NaN         NaN               NaN  "
      ]
     },
     "execution_count": 61,
     "metadata": {},
     "output_type": "execute_result"
    }
   ],
   "source": [
    "# df_dirty.sort_index()\n",
    "# df_dirty.iloc[8524]\n",
    "df_dirty.loc[[8524]]"
   ]
  },
  {
   "cell_type": "markdown",
   "metadata": {},
   "source": [
    "looks like i was wrong with it being at the end - row 8524 is all NaN - I will drop this now"
   ]
  },
  {
   "cell_type": "code",
   "execution_count": 63,
   "metadata": {},
   "outputs": [
    {
     "name": "stdout",
     "output_type": "stream",
     "text": [
      "<class 'pandas.core.frame.DataFrame'>\n",
      "Int64Index: 17047 entries, 1 to 17048\n",
      "Data columns (total 12 columns):\n",
      " #   Column                     Non-Null Count  Dtype \n",
      "---  ------                     --------------  ----- \n",
      " 0   Item_Identifier            17047 non-null  object\n",
      " 1   Item_Weight                14121 non-null  object\n",
      " 2   Item_Fat_Content           17047 non-null  object\n",
      " 3   Item_Visibility            17047 non-null  object\n",
      " 4   Item_Type                  17047 non-null  object\n",
      " 5   Item_MRP                   17047 non-null  object\n",
      " 6   Outlet_Identifier          17047 non-null  object\n",
      " 7   Outlet_Establishment_Year  17047 non-null  object\n",
      " 8   Outlet_Size                12227 non-null  object\n",
      " 9   Outlet_Location_Type       17047 non-null  object\n",
      " 10  Outlet_Type                17047 non-null  object\n",
      " 11  Item_Outlet_Sales          17047 non-null  object\n",
      "dtypes: object(12)\n",
      "memory usage: 1.7+ MB\n"
     ]
    }
   ],
   "source": [
    "df_dirty.drop(8524).info()"
   ]
  },
  {
   "cell_type": "markdown",
   "metadata": {},
   "source": [
    "that solved it so now lets lock that in with an inplace = True"
   ]
  },
  {
   "cell_type": "code",
   "execution_count": 64,
   "metadata": {},
   "outputs": [],
   "source": [
    "df_dirty.drop(8524, inplace = True)"
   ]
  },
  {
   "cell_type": "markdown",
   "metadata": {},
   "source": [
    "now all we have left are two columns that have multiple NaN values. these will require a closer look to see what is going on and if there is any patern there. for now i will deal with the Dtype to get this file down in size and to help with patern recognition within python."
   ]
  },
  {
   "cell_type": "markdown",
   "metadata": {},
   "source": [
    "### converting DType ###"
   ]
  },
  {
   "cell_type": "code",
   "execution_count": null,
   "metadata": {},
   "outputs": [],
   "source": []
  }
 ],
 "metadata": {
  "kernelspec": {
   "display_name": "Python 3",
   "language": "python",
   "name": "python3"
  },
  "language_info": {
   "codemirror_mode": {
    "name": "ipython",
    "version": 3
   },
   "file_extension": ".py",
   "mimetype": "text/x-python",
   "name": "python",
   "nbconvert_exporter": "python",
   "pygments_lexer": "ipython3",
   "version": "3.7.6"
  }
 },
 "nbformat": 4,
 "nbformat_minor": 4
}
