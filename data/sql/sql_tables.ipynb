{
 "metadata": {
  "language_info": {
   "codemirror_mode": {
    "name": "ipython",
    "version": 3
   },
   "file_extension": ".py",
   "mimetype": "text/x-python",
   "name": "python",
   "nbconvert_exporter": "python",
   "pygments_lexer": "ipython3",
   "version": "3.9.1-final"
  },
  "orig_nbformat": 2,
  "kernelspec": {
   "name": "python3",
   "display_name": "Python 3.9.1 64-bit",
   "metadata": {
    "interpreter": {
     "hash": "0bd209b96e2b66d287990c2576783bd1aa20e4313dd5965e782a8f29bc665d53"
    }
   }
  }
 },
 "nbformat": 4,
 "nbformat_minor": 2,
 "cells": [
  {
   "cell_type": "code",
   "execution_count": 1,
   "metadata": {},
   "outputs": [],
   "source": [
    "import mysql.connector\n",
    "from mysql.connector import errorcode"
   ]
  },
  {
   "cell_type": "code",
   "execution_count": 2,
   "metadata": {},
   "outputs": [],
   "source": [
    "config = {\n",
    "        'host': 'localhost',\n",
    "        'user': 'root',\n",
    "        'passwd': 'P!TV1p3r',\n",
    "        'database': 'sales_predictions',\n",
    "}"
   ]
  },
  {
   "cell_type": "code",
   "execution_count": 3,
   "metadata": {},
   "outputs": [],
   "source": [
    "try:\n",
    "    db = mysql.connector.connect(**config)\n",
    "except mysql.connector.Error as err:\n",
    "    if err.errno == errorcode.ER_ACCESS_DENIED_ERROR:\n",
    "        print(\"Something is wrong with your user name or password\")\n",
    "    elif err.errno == errorcode.ER_BAD_DB_ERROR:\n",
    "        print(\"Database does not exist\")\n",
    "    else:\n",
    "        print(err)\n",
    "# else:\n",
    "#   db.close()\n"
   ]
  },
  {
   "cell_type": "code",
   "execution_count": 4,
   "metadata": {},
   "outputs": [],
   "source": [
    "cursor = db.cursor()"
   ]
  },
  {
   "cell_type": "code",
   "execution_count": 5,
   "metadata": {},
   "outputs": [],
   "source": [
    "# THIS LINE WAS USED TO CREATE A DATABASE\n",
    "# cursor.execute('CREATE DATABASE testdatabase')"
   ]
  },
  {
   "source": [
    "\n",
    "## Creating Tables\n",
    "In the Cell below it looks like there is an error in the way my syntax is written to exicute a table inside my database. I will have to look into the current syntax for my version of mySQL\n",
    "\n",
    "https://dev.mysql.com/doc/refman/8.0/en/create-table.html"
   ],
   "cell_type": "markdown",
   "metadata": {}
  },
  {
   "cell_type": "code",
   "execution_count": 6,
   "metadata": {},
   "outputs": [],
   "source": [
    "# DB_NAME = 'testdatabase'\n",
    "# TABLES = {}\n",
    "\n",
    "# TABLES['outlets'] = (\n",
    "#     '''CREATE TABLE IF NOT EXISTS 'outlets' (\\\n",
    "#     'outlet_identifier' VARCHAR(6) NOT NULL,\\\n",
    "#     'outlet_establishment_year' INT(4) NOT NULL,\\\n",
    "#     PRIMARY KEY ('outlet_identifier')\\\n",
    "#     ) ENGINE=InnoDB'''\n",
    "#     )"
   ]
  },
  {
   "source": [
    "the issue with the cell above was the quote marks. when running a tripple quote the interior quotes were throwing off mySQL - Thanks Noelle "
   ],
   "cell_type": "markdown",
   "metadata": {}
  },
  {
   "cell_type": "code",
   "execution_count": 7,
   "metadata": {},
   "outputs": [],
   "source": [
    "DB_NAME = 'testdatabase'\n",
    "TABLES = {}\n",
    "\n",
    "TABLES['outlets'] = (\n",
    "    '''\n",
    "    CREATE TABLE IF NOT EXISTS outlets (\\\n",
    "    outlet_identifier VARCHAR(6) NOT NULL,\\\n",
    "    outlet_establishment_year INT(4) NOT NULL,\\\n",
    "    PRIMARY KEY (outlet_identifier)\\\n",
    "    ) ENGINE=InnoDB\n",
    "    '''\n",
    "    )"
   ]
  },
  {
   "cell_type": "code",
   "execution_count": 8,
   "metadata": {},
   "outputs": [
    {
     "output_type": "execute_result",
     "data": {
      "text/plain": [
       "{'outlets': '\\n    CREATE TABLE IF NOT EXISTS outlets (    outlet_identifier VARCHAR(6) NOT NULL,    outlet_establishment_year INT(4) NOT NULL,    PRIMARY KEY (outlet_identifier)    ) ENGINE=InnoDB\\n    '}"
      ]
     },
     "metadata": {},
     "execution_count": 8
    }
   ],
   "source": [
    "TABLES"
   ]
  },
  {
   "cell_type": "code",
   "execution_count": 9,
   "metadata": {},
   "outputs": [
    {
     "output_type": "stream",
     "name": "stdout",
     "text": [
      "Creating table outlets: OK\n"
     ]
    }
   ],
   "source": [
    "for table_name in TABLES:\n",
    "    table_description = TABLES[table_name]\n",
    "    try:\n",
    "        print(\"Creating table {}: \".format(table_name), end='')\n",
    "        cursor.execute(table_description)\n",
    "    except mysql.connector.Error as err:\n",
    "        if err.errno == errorcode.ER_TABLE_EXISTS_ERROR:\n",
    "            print(\"already exists.\")\n",
    "        else:\n",
    "            print(err.msg)\n",
    "    else:\n",
    "        print(\"OK\")"
   ]
  },
  {
   "cell_type": "code",
   "execution_count": 10,
   "metadata": {},
   "outputs": [],
   "source": [
    "# cursor.close()\n",
    "# db.close()"
   ]
  }
 ]
}