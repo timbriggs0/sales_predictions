{
 "cells": [
  {
   "source": [
    "## Imports"
   ],
   "cell_type": "markdown",
   "metadata": {}
  },
  {
   "cell_type": "code",
   "execution_count": 258,
   "metadata": {},
   "outputs": [],
   "source": [
    "import pandas as pd\n",
    "import matplotlib.pyplot as plt\n",
    "import math\n",
    "import jedi\n",
    "import numpy as np\n",
    "import seaborn as sns\n",
    "\n",
    "from sklearn.datasets import load_iris\n",
    "from sklearn.model_selection import train_test_split\n",
    "from sklearn.tree import DecisionTreeClassifier\n",
    "\n",
    "import pickle\n",
    "\n",
    "from bokeh.plotting import figure, curdoc\n",
    "from bokeh.models import Slider, ColumnDataSource, CDSView, IndexFilter, Plot, VBar, HoverTool\n",
    "from bokeh.layouts import row, gridplot, layout #column\n",
    "from bokeh.io import output_file, show, save\n",
    "from bokeh.themes import Theme\n",
    "from bokeh.palettes import viridis as palette\n",
    "from bokeh.transform import factor_cmap\n"
   ]
  },
  {
   "cell_type": "code",
   "execution_count": 99,
   "metadata": {},
   "outputs": [
    {
     "output_type": "execute_result",
     "data": {
      "text/plain": [
       "  Item_Identifier  Item_Weight Item_Fat_Content  Item_Visibility  \\\n",
       "0           FDA15         9.30          Low Fat         0.016047   \n",
       "1           DRC01         5.92          Regular         0.019278   \n",
       "2           FDN15        17.50          Low Fat         0.016760   \n",
       "3           FDX07        19.20          Regular         0.000000   \n",
       "4           NCD19         8.93          Low Fat         0.000000   \n",
       "\n",
       "               Item_Type  Item_MRP Outlet_Identifier  \\\n",
       "0                  Dairy  249.8092            OUT049   \n",
       "1            Soft Drinks   48.2692            OUT018   \n",
       "2                   Meat  141.6180            OUT049   \n",
       "3  Fruits and Vegetables  182.0950            OUT010   \n",
       "4              Household   53.8614            OUT013   \n",
       "\n",
       "   Outlet_Establishment_Year Outlet_Size Outlet_Location_Type  \\\n",
       "0                       1999      Medium               Tier 1   \n",
       "1                       2009      Medium               Tier 3   \n",
       "2                       1999      Medium               Tier 1   \n",
       "3                       1998       Small               Tier 3   \n",
       "4                       1987        High               Tier 3   \n",
       "\n",
       "         Outlet_Type  Item_Outlet_Sales  \n",
       "0  Supermarket Type1          3735.1380  \n",
       "1  Supermarket Type2           443.4228  \n",
       "2  Supermarket Type1          2097.2700  \n",
       "3      Grocery Store           732.3800  \n",
       "4  Supermarket Type1           994.7052  "
      ],
      "text/html": "<div>\n<style scoped>\n    .dataframe tbody tr th:only-of-type {\n        vertical-align: middle;\n    }\n\n    .dataframe tbody tr th {\n        vertical-align: top;\n    }\n\n    .dataframe thead th {\n        text-align: right;\n    }\n</style>\n<table border=\"1\" class=\"dataframe\">\n  <thead>\n    <tr style=\"text-align: right;\">\n      <th></th>\n      <th>Item_Identifier</th>\n      <th>Item_Weight</th>\n      <th>Item_Fat_Content</th>\n      <th>Item_Visibility</th>\n      <th>Item_Type</th>\n      <th>Item_MRP</th>\n      <th>Outlet_Identifier</th>\n      <th>Outlet_Establishment_Year</th>\n      <th>Outlet_Size</th>\n      <th>Outlet_Location_Type</th>\n      <th>Outlet_Type</th>\n      <th>Item_Outlet_Sales</th>\n    </tr>\n  </thead>\n  <tbody>\n    <tr>\n      <th>0</th>\n      <td>FDA15</td>\n      <td>9.30</td>\n      <td>Low Fat</td>\n      <td>0.016047</td>\n      <td>Dairy</td>\n      <td>249.8092</td>\n      <td>OUT049</td>\n      <td>1999</td>\n      <td>Medium</td>\n      <td>Tier 1</td>\n      <td>Supermarket Type1</td>\n      <td>3735.1380</td>\n    </tr>\n    <tr>\n      <th>1</th>\n      <td>DRC01</td>\n      <td>5.92</td>\n      <td>Regular</td>\n      <td>0.019278</td>\n      <td>Soft Drinks</td>\n      <td>48.2692</td>\n      <td>OUT018</td>\n      <td>2009</td>\n      <td>Medium</td>\n      <td>Tier 3</td>\n      <td>Supermarket Type2</td>\n      <td>443.4228</td>\n    </tr>\n    <tr>\n      <th>2</th>\n      <td>FDN15</td>\n      <td>17.50</td>\n      <td>Low Fat</td>\n      <td>0.016760</td>\n      <td>Meat</td>\n      <td>141.6180</td>\n      <td>OUT049</td>\n      <td>1999</td>\n      <td>Medium</td>\n      <td>Tier 1</td>\n      <td>Supermarket Type1</td>\n      <td>2097.2700</td>\n    </tr>\n    <tr>\n      <th>3</th>\n      <td>FDX07</td>\n      <td>19.20</td>\n      <td>Regular</td>\n      <td>0.000000</td>\n      <td>Fruits and Vegetables</td>\n      <td>182.0950</td>\n      <td>OUT010</td>\n      <td>1998</td>\n      <td>Small</td>\n      <td>Tier 3</td>\n      <td>Grocery Store</td>\n      <td>732.3800</td>\n    </tr>\n    <tr>\n      <th>4</th>\n      <td>NCD19</td>\n      <td>8.93</td>\n      <td>Low Fat</td>\n      <td>0.000000</td>\n      <td>Household</td>\n      <td>53.8614</td>\n      <td>OUT013</td>\n      <td>1987</td>\n      <td>High</td>\n      <td>Tier 3</td>\n      <td>Supermarket Type1</td>\n      <td>994.7052</td>\n    </tr>\n  </tbody>\n</table>\n</div>"
     },
     "metadata": {},
     "execution_count": 99
    }
   ],
   "source": [
    "df = pd.read_csv('sales_predictions_clean.csv')\n",
    "df.head()"
   ]
  },
  {
   "cell_type": "code",
   "execution_count": 100,
   "metadata": {},
   "outputs": [
    {
     "output_type": "execute_result",
     "data": {
      "text/plain": [
       "(8523, 12)"
      ]
     },
     "metadata": {},
     "execution_count": 100
    }
   ],
   "source": [
    "# sns.set_theme()\n",
    "# seaborn_df = sns.load_dataset(df)\n",
    "df.shape"
   ]
  },
  {
   "cell_type": "code",
   "execution_count": null,
   "metadata": {},
   "outputs": [],
   "source": []
  },
  {
   "cell_type": "code",
   "execution_count": 101,
   "metadata": {},
   "outputs": [
    {
     "output_type": "execute_result",
     "data": {
      "text/plain": [
       "FDG33    10\n",
       "FDW13    10\n",
       "FDW26     9\n",
       "NCJ30     9\n",
       "NCI54     9\n",
       "         ..\n",
       "FDQ60     1\n",
       "FDC23     1\n",
       "FDE52     1\n",
       "FDT35     1\n",
       "FDY43     1\n",
       "Name: Item_Identifier, Length: 1559, dtype: int64"
      ]
     },
     "metadata": {},
     "execution_count": 101
    }
   ],
   "source": [
    "df['Item_Identifier'].value_counts()"
   ]
  },
  {
   "cell_type": "code",
   "execution_count": 130,
   "metadata": {},
   "outputs": [
    {
     "output_type": "execute_result",
     "data": {
      "text/plain": [
       "['OUT049',\n",
       " 'OUT018',\n",
       " 'OUT010',\n",
       " 'OUT013',\n",
       " 'OUT027',\n",
       " 'OUT045',\n",
       " 'OUT017',\n",
       " 'OUT046',\n",
       " 'OUT035',\n",
       " 'OUT019']"
      ]
     },
     "metadata": {},
     "execution_count": 130
    }
   ],
   "source": [
    "outlets = df['Outlet_Identifier'].unique()\n",
    "outlets= list(outlets)\n",
    "outlets"
   ]
  },
  {
   "cell_type": "code",
   "execution_count": 103,
   "metadata": {},
   "outputs": [
    {
     "output_type": "stream",
     "name": "stdout",
     "text": [
      "OUT049 56.549155617\nOUT018 56.621454376\nOUT010 56.308832139\nOUT013 55.879859440000004\nOUT027 54.804764293000005\nOUT045 56.180779662999996\nOUT017 56.834646144000004\nOUT046 56.231875214\nOUT035 56.974873359\nOUT019 57.257041038000004\n"
     ]
    }
   ],
   "source": [
    "for outlet in outlets:\n",
    "    print(outlet, df[df['Outlet_Identifier'] == outlet]['Item_Visibility'].sum())"
   ]
  },
  {
   "cell_type": "code",
   "execution_count": 104,
   "metadata": {},
   "outputs": [
    {
     "output_type": "execute_result",
     "data": {
      "text/plain": [
       "929"
      ]
     },
     "metadata": {},
     "execution_count": 104
    }
   ],
   "source": [
    "len(df[df['Outlet_Identifier'] == outlets[5]]['Item_Identifier'])"
   ]
  },
  {
   "cell_type": "code",
   "execution_count": 105,
   "metadata": {},
   "outputs": [
    {
     "output_type": "execute_result",
     "data": {
      "text/plain": [
       "2183969.8102"
      ]
     },
     "metadata": {},
     "execution_count": 105
    }
   ],
   "source": [
    "df[df['Outlet_Identifier'] == outlets[0]]['Item_Outlet_Sales'].sum()"
   ]
  },
  {
   "cell_type": "code",
   "execution_count": 106,
   "metadata": {},
   "outputs": [
    {
     "output_type": "display_data",
     "data": {
      "text/plain": "<Figure size 432x288 with 1 Axes>",
      "image/svg+xml": "<?xml version=\"1.0\" encoding=\"utf-8\" standalone=\"no\"?>\r\n<!DOCTYPE svg PUBLIC \"-//W3C//DTD SVG 1.1//EN\"\r\n  \"http://www.w3.org/Graphics/SVG/1.1/DTD/svg11.dtd\">\r\n<!-- Created with matplotlib (https://matplotlib.org/) -->\r\n<svg height=\"259.429766pt\" version=\"1.1\" viewBox=\"0 0 429.464906 259.429766\" width=\"429.464906pt\" xmlns=\"http://www.w3.org/2000/svg\" xmlns:xlink=\"http://www.w3.org/1999/xlink\">\r\n <defs>\r\n  <style type=\"text/css\">\r\n*{stroke-linecap:butt;stroke-linejoin:round;}\r\n  </style>\r\n </defs>\r\n <g id=\"figure_1\">\r\n  <g id=\"patch_1\">\r\n   <path d=\"M 0 259.429766 \r\nL 429.464906 259.429766 \r\nL 429.464906 0 \r\nL 0 0 \r\nz\r\n\" style=\"fill:#ffffff;\"/>\r\n  </g>\r\n  <g id=\"axes_1\">\r\n   <g id=\"patch_2\">\r\n    <path d=\"M 83.928828 224.64 \r\nL 418.728828 224.64 \r\nL 418.728828 7.2 \r\nL 83.928828 7.2 \r\nz\r\n\" style=\"fill:#ffffff;\"/>\r\n   </g>\r\n   <g id=\"matplotlib.axis_1\">\r\n    <g id=\"xtick_1\">\r\n     <g id=\"text_1\">\r\n      <!-- OUT049 -->\r\n      <defs>\r\n       <path d=\"M 4.828125 34.859375 \r\nQ 4.828125 52.6875 14.390625 62.765625 \r\nQ 23.96875 72.859375 39.109375 72.859375 \r\nQ 49.03125 72.859375 56.984375 68.109375 \r\nQ 64.9375 63.375 69.109375 54.90625 \r\nQ 73.296875 46.4375 73.296875 35.6875 \r\nQ 73.296875 24.8125 68.890625 16.21875 \r\nQ 64.5 7.625 56.4375 3.203125 \r\nQ 48.390625 -1.21875 39.0625 -1.21875 \r\nQ 28.953125 -1.21875 20.984375 3.65625 \r\nQ 13.03125 8.546875 8.921875 16.984375 \r\nQ 4.828125 25.4375 4.828125 34.859375 \r\nz\r\nM 14.59375 34.71875 \r\nQ 14.59375 21.78125 21.546875 14.328125 \r\nQ 28.515625 6.890625 39.015625 6.890625 \r\nQ 49.703125 6.890625 56.609375 14.40625 \r\nQ 63.53125 21.921875 63.53125 35.75 \r\nQ 63.53125 44.484375 60.578125 51 \r\nQ 57.625 57.515625 51.921875 61.109375 \r\nQ 46.234375 64.703125 39.15625 64.703125 \r\nQ 29.109375 64.703125 21.84375 57.78125 \r\nQ 14.59375 50.875 14.59375 34.71875 \r\nz\r\n\" id=\"ArialMT-79\"/>\r\n       <path d=\"M 54.6875 71.578125 \r\nL 64.15625 71.578125 \r\nL 64.15625 30.21875 \r\nQ 64.15625 19.4375 61.71875 13.078125 \r\nQ 59.28125 6.734375 52.90625 2.75 \r\nQ 46.53125 -1.21875 36.1875 -1.21875 \r\nQ 26.125 -1.21875 19.71875 2.25 \r\nQ 13.328125 5.71875 10.59375 12.28125 \r\nQ 7.859375 18.84375 7.859375 30.21875 \r\nL 7.859375 71.578125 \r\nL 17.328125 71.578125 \r\nL 17.328125 30.28125 \r\nQ 17.328125 20.953125 19.0625 16.53125 \r\nQ 20.796875 12.109375 25.015625 9.71875 \r\nQ 29.25 7.328125 35.359375 7.328125 \r\nQ 45.796875 7.328125 50.234375 12.0625 \r\nQ 54.6875 16.796875 54.6875 30.28125 \r\nz\r\n\" id=\"ArialMT-85\"/>\r\n       <path d=\"M 25.921875 0 \r\nL 25.921875 63.140625 \r\nL 2.34375 63.140625 \r\nL 2.34375 71.578125 \r\nL 59.078125 71.578125 \r\nL 59.078125 63.140625 \r\nL 35.40625 63.140625 \r\nL 35.40625 0 \r\nz\r\n\" id=\"ArialMT-84\"/>\r\n       <path d=\"M 4.15625 35.296875 \r\nQ 4.15625 48 6.765625 55.734375 \r\nQ 9.375 63.484375 14.515625 67.671875 \r\nQ 19.671875 71.875 27.484375 71.875 \r\nQ 33.25 71.875 37.59375 69.546875 \r\nQ 41.9375 67.234375 44.765625 62.859375 \r\nQ 47.609375 58.5 49.21875 52.21875 \r\nQ 50.828125 45.953125 50.828125 35.296875 \r\nQ 50.828125 22.703125 48.234375 14.96875 \r\nQ 45.65625 7.234375 40.5 3 \r\nQ 35.359375 -1.21875 27.484375 -1.21875 \r\nQ 17.140625 -1.21875 11.234375 6.203125 \r\nQ 4.15625 15.140625 4.15625 35.296875 \r\nz\r\nM 13.1875 35.296875 \r\nQ 13.1875 17.671875 17.3125 11.828125 \r\nQ 21.4375 6 27.484375 6 \r\nQ 33.546875 6 37.671875 11.859375 \r\nQ 41.796875 17.71875 41.796875 35.296875 \r\nQ 41.796875 52.984375 37.671875 58.78125 \r\nQ 33.546875 64.59375 27.390625 64.59375 \r\nQ 21.34375 64.59375 17.71875 59.46875 \r\nQ 13.1875 52.9375 13.1875 35.296875 \r\nz\r\n\" id=\"ArialMT-48\"/>\r\n       <path d=\"M 32.328125 0 \r\nL 32.328125 17.140625 \r\nL 1.265625 17.140625 \r\nL 1.265625 25.203125 \r\nL 33.9375 71.578125 \r\nL 41.109375 71.578125 \r\nL 41.109375 25.203125 \r\nL 50.78125 25.203125 \r\nL 50.78125 17.140625 \r\nL 41.109375 17.140625 \r\nL 41.109375 0 \r\nz\r\nM 32.328125 25.203125 \r\nL 32.328125 57.46875 \r\nL 9.90625 25.203125 \r\nz\r\n\" id=\"ArialMT-52\"/>\r\n       <path d=\"M 5.46875 16.546875 \r\nL 13.921875 17.328125 \r\nQ 14.984375 11.375 18.015625 8.6875 \r\nQ 21.046875 6 25.78125 6 \r\nQ 29.828125 6 32.875 7.859375 \r\nQ 35.9375 9.71875 37.890625 12.8125 \r\nQ 39.84375 15.921875 41.15625 21.1875 \r\nQ 42.484375 26.46875 42.484375 31.9375 \r\nQ 42.484375 32.515625 42.4375 33.6875 \r\nQ 39.796875 29.5 35.234375 26.875 \r\nQ 30.671875 24.265625 25.34375 24.265625 \r\nQ 16.453125 24.265625 10.296875 30.703125 \r\nQ 4.15625 37.15625 4.15625 47.703125 \r\nQ 4.15625 58.59375 10.578125 65.234375 \r\nQ 17 71.875 26.65625 71.875 \r\nQ 33.640625 71.875 39.421875 68.109375 \r\nQ 45.21875 64.359375 48.21875 57.390625 \r\nQ 51.21875 50.4375 51.21875 37.25 \r\nQ 51.21875 23.53125 48.234375 15.40625 \r\nQ 45.265625 7.28125 39.375 3.03125 \r\nQ 33.5 -1.21875 25.59375 -1.21875 \r\nQ 17.1875 -1.21875 11.859375 3.4375 \r\nQ 6.546875 8.109375 5.46875 16.546875 \r\nz\r\nM 41.453125 48.140625 \r\nQ 41.453125 55.71875 37.421875 60.15625 \r\nQ 33.40625 64.59375 27.734375 64.59375 \r\nQ 21.875 64.59375 17.53125 59.8125 \r\nQ 13.1875 55.03125 13.1875 47.40625 \r\nQ 13.1875 40.578125 17.3125 36.296875 \r\nQ 21.4375 32.03125 27.484375 32.03125 \r\nQ 33.59375 32.03125 37.515625 36.296875 \r\nQ 41.453125 40.578125 41.453125 48.140625 \r\nz\r\n\" id=\"ArialMT-57\"/>\r\n      </defs>\r\n      <g style=\"fill:#262626;\" transform=\"translate(80.39275 248.950391)scale(0.165 -0.165)\">\r\n       <use xlink:href=\"#ArialMT-79\"/>\r\n       <use x=\"77.783203\" xlink:href=\"#ArialMT-85\"/>\r\n       <use x=\"150\" xlink:href=\"#ArialMT-84\"/>\r\n       <use x=\"211.083984\" xlink:href=\"#ArialMT-48\"/>\r\n       <use x=\"266.699219\" xlink:href=\"#ArialMT-52\"/>\r\n       <use x=\"322.314453\" xlink:href=\"#ArialMT-57\"/>\r\n      </g>\r\n     </g>\r\n    </g>\r\n    <g id=\"xtick_2\">\r\n     <g id=\"text_2\">\r\n      <!-- OUT018 -->\r\n      <defs>\r\n       <path d=\"M 37.25 0 \r\nL 28.46875 0 \r\nL 28.46875 56 \r\nQ 25.296875 52.984375 20.140625 49.953125 \r\nQ 14.984375 46.921875 10.890625 45.40625 \r\nL 10.890625 53.90625 \r\nQ 18.265625 57.375 23.78125 62.296875 \r\nQ 29.296875 67.234375 31.59375 71.875 \r\nL 37.25 71.875 \r\nz\r\n\" id=\"ArialMT-49\"/>\r\n       <path d=\"M 17.671875 38.8125 \r\nQ 12.203125 40.828125 9.5625 44.53125 \r\nQ 6.9375 48.25 6.9375 53.421875 \r\nQ 6.9375 61.234375 12.546875 66.546875 \r\nQ 18.171875 71.875 27.484375 71.875 \r\nQ 36.859375 71.875 42.578125 66.421875 \r\nQ 48.296875 60.984375 48.296875 53.171875 \r\nQ 48.296875 48.1875 45.671875 44.5 \r\nQ 43.0625 40.828125 37.75 38.8125 \r\nQ 44.34375 36.671875 47.78125 31.875 \r\nQ 51.21875 27.09375 51.21875 20.453125 \r\nQ 51.21875 11.28125 44.71875 5.03125 \r\nQ 38.234375 -1.21875 27.640625 -1.21875 \r\nQ 17.046875 -1.21875 10.546875 5.046875 \r\nQ 4.046875 11.328125 4.046875 20.703125 \r\nQ 4.046875 27.6875 7.59375 32.390625 \r\nQ 11.140625 37.109375 17.671875 38.8125 \r\nz\r\nM 15.921875 53.71875 \r\nQ 15.921875 48.640625 19.1875 45.40625 \r\nQ 22.46875 42.1875 27.6875 42.1875 \r\nQ 32.765625 42.1875 36.015625 45.375 \r\nQ 39.265625 48.578125 39.265625 53.21875 \r\nQ 39.265625 58.0625 35.90625 61.359375 \r\nQ 32.5625 64.65625 27.59375 64.65625 \r\nQ 22.5625 64.65625 19.234375 61.421875 \r\nQ 15.921875 58.203125 15.921875 53.71875 \r\nz\r\nM 13.09375 20.65625 \r\nQ 13.09375 16.890625 14.875 13.375 \r\nQ 16.65625 9.859375 20.171875 7.921875 \r\nQ 23.6875 6 27.734375 6 \r\nQ 34.03125 6 38.125 10.046875 \r\nQ 42.234375 14.109375 42.234375 20.359375 \r\nQ 42.234375 26.703125 38.015625 30.859375 \r\nQ 33.796875 35.015625 27.4375 35.015625 \r\nQ 21.234375 35.015625 17.15625 30.90625 \r\nQ 13.09375 26.8125 13.09375 20.65625 \r\nz\r\n\" id=\"ArialMT-56\"/>\r\n      </defs>\r\n      <g style=\"fill:#262626;\" transform=\"translate(111.450264 248.950391)scale(0.165 -0.165)\">\r\n       <use xlink:href=\"#ArialMT-79\"/>\r\n       <use x=\"77.783203\" xlink:href=\"#ArialMT-85\"/>\r\n       <use x=\"150\" xlink:href=\"#ArialMT-84\"/>\r\n       <use x=\"211.083984\" xlink:href=\"#ArialMT-48\"/>\r\n       <use x=\"266.699219\" xlink:href=\"#ArialMT-49\"/>\r\n       <use x=\"322.314453\" xlink:href=\"#ArialMT-56\"/>\r\n      </g>\r\n     </g>\r\n    </g>\r\n    <g id=\"xtick_3\">\r\n     <g id=\"text_3\">\r\n      <!-- OUT010 -->\r\n      <g style=\"fill:#262626;\" transform=\"translate(142.507778 248.950391)scale(0.165 -0.165)\">\r\n       <use xlink:href=\"#ArialMT-79\"/>\r\n       <use x=\"77.783203\" xlink:href=\"#ArialMT-85\"/>\r\n       <use x=\"150\" xlink:href=\"#ArialMT-84\"/>\r\n       <use x=\"211.083984\" xlink:href=\"#ArialMT-48\"/>\r\n       <use x=\"266.699219\" xlink:href=\"#ArialMT-49\"/>\r\n       <use x=\"322.314453\" xlink:href=\"#ArialMT-48\"/>\r\n      </g>\r\n     </g>\r\n    </g>\r\n    <g id=\"xtick_4\">\r\n     <g id=\"text_4\">\r\n      <!-- OUT013 -->\r\n      <defs>\r\n       <path d=\"M 4.203125 18.890625 \r\nL 12.984375 20.0625 \r\nQ 14.5 12.59375 18.140625 9.296875 \r\nQ 21.78125 6 27 6 \r\nQ 33.203125 6 37.46875 10.296875 \r\nQ 41.75 14.59375 41.75 20.953125 \r\nQ 41.75 27 37.796875 30.921875 \r\nQ 33.84375 34.859375 27.734375 34.859375 \r\nQ 25.25 34.859375 21.53125 33.890625 \r\nL 22.515625 41.609375 \r\nQ 23.390625 41.5 23.921875 41.5 \r\nQ 29.546875 41.5 34.03125 44.421875 \r\nQ 38.53125 47.359375 38.53125 53.46875 \r\nQ 38.53125 58.296875 35.25 61.46875 \r\nQ 31.984375 64.65625 26.8125 64.65625 \r\nQ 21.6875 64.65625 18.265625 61.421875 \r\nQ 14.84375 58.203125 13.875 51.765625 \r\nL 5.078125 53.328125 \r\nQ 6.6875 62.15625 12.390625 67.015625 \r\nQ 18.109375 71.875 26.609375 71.875 \r\nQ 32.46875 71.875 37.390625 69.359375 \r\nQ 42.328125 66.84375 44.9375 62.5 \r\nQ 47.5625 58.15625 47.5625 53.265625 \r\nQ 47.5625 48.640625 45.0625 44.828125 \r\nQ 42.578125 41.015625 37.703125 38.765625 \r\nQ 44.046875 37.3125 47.5625 32.6875 \r\nQ 51.078125 28.078125 51.078125 21.140625 \r\nQ 51.078125 11.765625 44.234375 5.25 \r\nQ 37.40625 -1.265625 26.953125 -1.265625 \r\nQ 17.53125 -1.265625 11.296875 4.34375 \r\nQ 5.078125 9.96875 4.203125 18.890625 \r\nz\r\n\" id=\"ArialMT-51\"/>\r\n      </defs>\r\n      <g style=\"fill:#262626;\" transform=\"translate(173.565292 248.950391)scale(0.165 -0.165)\">\r\n       <use xlink:href=\"#ArialMT-79\"/>\r\n       <use x=\"77.783203\" xlink:href=\"#ArialMT-85\"/>\r\n       <use x=\"150\" xlink:href=\"#ArialMT-84\"/>\r\n       <use x=\"211.083984\" xlink:href=\"#ArialMT-48\"/>\r\n       <use x=\"266.699219\" xlink:href=\"#ArialMT-49\"/>\r\n       <use x=\"322.314453\" xlink:href=\"#ArialMT-51\"/>\r\n      </g>\r\n     </g>\r\n    </g>\r\n    <g id=\"xtick_5\">\r\n     <g id=\"text_5\">\r\n      <!-- OUT027 -->\r\n      <defs>\r\n       <path d=\"M 50.34375 8.453125 \r\nL 50.34375 0 \r\nL 3.03125 0 \r\nQ 2.9375 3.171875 4.046875 6.109375 \r\nQ 5.859375 10.9375 9.828125 15.625 \r\nQ 13.8125 20.3125 21.34375 26.46875 \r\nQ 33.015625 36.03125 37.109375 41.625 \r\nQ 41.21875 47.21875 41.21875 52.203125 \r\nQ 41.21875 57.421875 37.46875 61 \r\nQ 33.734375 64.59375 27.734375 64.59375 \r\nQ 21.390625 64.59375 17.578125 60.78125 \r\nQ 13.765625 56.984375 13.71875 50.25 \r\nL 4.6875 51.171875 \r\nQ 5.609375 61.28125 11.65625 66.578125 \r\nQ 17.71875 71.875 27.9375 71.875 \r\nQ 38.234375 71.875 44.234375 66.15625 \r\nQ 50.25 60.453125 50.25 52 \r\nQ 50.25 47.703125 48.484375 43.546875 \r\nQ 46.734375 39.40625 42.65625 34.8125 \r\nQ 38.578125 30.21875 29.109375 22.21875 \r\nQ 21.1875 15.578125 18.9375 13.203125 \r\nQ 16.703125 10.84375 15.234375 8.453125 \r\nz\r\n\" id=\"ArialMT-50\"/>\r\n       <path d=\"M 4.734375 62.203125 \r\nL 4.734375 70.65625 \r\nL 51.078125 70.65625 \r\nL 51.078125 63.8125 \r\nQ 44.234375 56.546875 37.515625 44.484375 \r\nQ 30.8125 32.421875 27.15625 19.671875 \r\nQ 24.515625 10.6875 23.78125 0 \r\nL 14.75 0 \r\nQ 14.890625 8.453125 18.0625 20.40625 \r\nQ 21.234375 32.375 27.171875 43.484375 \r\nQ 33.109375 54.59375 39.796875 62.203125 \r\nz\r\n\" id=\"ArialMT-55\"/>\r\n      </defs>\r\n      <g style=\"fill:#262626;\" transform=\"translate(204.622806 248.950391)scale(0.165 -0.165)\">\r\n       <use xlink:href=\"#ArialMT-79\"/>\r\n       <use x=\"77.783203\" xlink:href=\"#ArialMT-85\"/>\r\n       <use x=\"150\" xlink:href=\"#ArialMT-84\"/>\r\n       <use x=\"211.083984\" xlink:href=\"#ArialMT-48\"/>\r\n       <use x=\"266.699219\" xlink:href=\"#ArialMT-50\"/>\r\n       <use x=\"322.314453\" xlink:href=\"#ArialMT-55\"/>\r\n      </g>\r\n     </g>\r\n    </g>\r\n    <g id=\"xtick_6\">\r\n     <g id=\"text_6\">\r\n      <!-- OUT045 -->\r\n      <defs>\r\n       <path d=\"M 4.15625 18.75 \r\nL 13.375 19.53125 \r\nQ 14.40625 12.796875 18.140625 9.390625 \r\nQ 21.875 6 27.15625 6 \r\nQ 33.5 6 37.890625 10.78125 \r\nQ 42.28125 15.578125 42.28125 23.484375 \r\nQ 42.28125 31 38.0625 35.34375 \r\nQ 33.84375 39.703125 27 39.703125 \r\nQ 22.75 39.703125 19.328125 37.765625 \r\nQ 15.921875 35.84375 13.96875 32.765625 \r\nL 5.71875 33.84375 \r\nL 12.640625 70.609375 \r\nL 48.25 70.609375 \r\nL 48.25 62.203125 \r\nL 19.671875 62.203125 \r\nL 15.828125 42.96875 \r\nQ 22.265625 47.46875 29.34375 47.46875 \r\nQ 38.71875 47.46875 45.15625 40.96875 \r\nQ 51.609375 34.46875 51.609375 24.265625 \r\nQ 51.609375 14.546875 45.953125 7.46875 \r\nQ 39.0625 -1.21875 27.15625 -1.21875 \r\nQ 17.390625 -1.21875 11.203125 4.25 \r\nQ 5.03125 9.71875 4.15625 18.75 \r\nz\r\n\" id=\"ArialMT-53\"/>\r\n      </defs>\r\n      <g style=\"fill:#262626;\" transform=\"translate(235.680319 248.950391)scale(0.165 -0.165)\">\r\n       <use xlink:href=\"#ArialMT-79\"/>\r\n       <use x=\"77.783203\" xlink:href=\"#ArialMT-85\"/>\r\n       <use x=\"150\" xlink:href=\"#ArialMT-84\"/>\r\n       <use x=\"211.083984\" xlink:href=\"#ArialMT-48\"/>\r\n       <use x=\"266.699219\" xlink:href=\"#ArialMT-52\"/>\r\n       <use x=\"322.314453\" xlink:href=\"#ArialMT-53\"/>\r\n      </g>\r\n     </g>\r\n    </g>\r\n    <g id=\"xtick_7\">\r\n     <g id=\"text_7\">\r\n      <!-- OUT017 -->\r\n      <g style=\"fill:#262626;\" transform=\"translate(266.737833 248.950391)scale(0.165 -0.165)\">\r\n       <use xlink:href=\"#ArialMT-79\"/>\r\n       <use x=\"77.783203\" xlink:href=\"#ArialMT-85\"/>\r\n       <use x=\"150\" xlink:href=\"#ArialMT-84\"/>\r\n       <use x=\"211.083984\" xlink:href=\"#ArialMT-48\"/>\r\n       <use x=\"266.699219\" xlink:href=\"#ArialMT-49\"/>\r\n       <use x=\"322.314453\" xlink:href=\"#ArialMT-55\"/>\r\n      </g>\r\n     </g>\r\n    </g>\r\n    <g id=\"xtick_8\">\r\n     <g id=\"text_8\">\r\n      <!-- OUT046 -->\r\n      <defs>\r\n       <path d=\"M 49.75 54.046875 \r\nL 41.015625 53.375 \r\nQ 39.84375 58.546875 37.703125 60.890625 \r\nQ 34.125 64.65625 28.90625 64.65625 \r\nQ 24.703125 64.65625 21.53125 62.3125 \r\nQ 17.390625 59.28125 14.984375 53.46875 \r\nQ 12.59375 47.65625 12.5 36.921875 \r\nQ 15.671875 41.75 20.265625 44.09375 \r\nQ 24.859375 46.4375 29.890625 46.4375 \r\nQ 38.671875 46.4375 44.84375 39.96875 \r\nQ 51.03125 33.5 51.03125 23.25 \r\nQ 51.03125 16.5 48.125 10.71875 \r\nQ 45.21875 4.9375 40.140625 1.859375 \r\nQ 35.0625 -1.21875 28.609375 -1.21875 \r\nQ 17.625 -1.21875 10.6875 6.859375 \r\nQ 3.765625 14.9375 3.765625 33.5 \r\nQ 3.765625 54.25 11.421875 63.671875 \r\nQ 18.109375 71.875 29.4375 71.875 \r\nQ 37.890625 71.875 43.28125 67.140625 \r\nQ 48.6875 62.40625 49.75 54.046875 \r\nz\r\nM 13.875 23.1875 \r\nQ 13.875 18.65625 15.796875 14.5 \r\nQ 17.71875 10.359375 21.1875 8.171875 \r\nQ 24.65625 6 28.46875 6 \r\nQ 34.03125 6 38.03125 10.484375 \r\nQ 42.046875 14.984375 42.046875 22.703125 \r\nQ 42.046875 30.125 38.078125 34.390625 \r\nQ 34.125 38.671875 28.125 38.671875 \r\nQ 22.171875 38.671875 18.015625 34.390625 \r\nQ 13.875 30.125 13.875 23.1875 \r\nz\r\n\" id=\"ArialMT-54\"/>\r\n      </defs>\r\n      <g style=\"fill:#262626;\" transform=\"translate(297.795347 248.950391)scale(0.165 -0.165)\">\r\n       <use xlink:href=\"#ArialMT-79\"/>\r\n       <use x=\"77.783203\" xlink:href=\"#ArialMT-85\"/>\r\n       <use x=\"150\" xlink:href=\"#ArialMT-84\"/>\r\n       <use x=\"211.083984\" xlink:href=\"#ArialMT-48\"/>\r\n       <use x=\"266.699219\" xlink:href=\"#ArialMT-52\"/>\r\n       <use x=\"322.314453\" xlink:href=\"#ArialMT-54\"/>\r\n      </g>\r\n     </g>\r\n    </g>\r\n    <g id=\"xtick_9\">\r\n     <g id=\"text_9\">\r\n      <!-- OUT035 -->\r\n      <g style=\"fill:#262626;\" transform=\"translate(328.852861 248.950391)scale(0.165 -0.165)\">\r\n       <use xlink:href=\"#ArialMT-79\"/>\r\n       <use x=\"77.783203\" xlink:href=\"#ArialMT-85\"/>\r\n       <use x=\"150\" xlink:href=\"#ArialMT-84\"/>\r\n       <use x=\"211.083984\" xlink:href=\"#ArialMT-48\"/>\r\n       <use x=\"266.699219\" xlink:href=\"#ArialMT-51\"/>\r\n       <use x=\"322.314453\" xlink:href=\"#ArialMT-53\"/>\r\n      </g>\r\n     </g>\r\n    </g>\r\n    <g id=\"xtick_10\">\r\n     <g id=\"text_10\">\r\n      <!-- OUT019 -->\r\n      <g style=\"fill:#262626;\" transform=\"translate(359.910375 248.950391)scale(0.165 -0.165)\">\r\n       <use xlink:href=\"#ArialMT-79\"/>\r\n       <use x=\"77.783203\" xlink:href=\"#ArialMT-85\"/>\r\n       <use x=\"150\" xlink:href=\"#ArialMT-84\"/>\r\n       <use x=\"211.083984\" xlink:href=\"#ArialMT-48\"/>\r\n       <use x=\"266.699219\" xlink:href=\"#ArialMT-49\"/>\r\n       <use x=\"322.314453\" xlink:href=\"#ArialMT-57\"/>\r\n      </g>\r\n     </g>\r\n    </g>\r\n   </g>\r\n   <g id=\"matplotlib.axis_2\">\r\n    <g id=\"ytick_1\">\r\n     <g id=\"text_11\">\r\n      <!-- 0 -->\r\n      <g style=\"fill:#262626;\" transform=\"translate(62.253281 230.545195)scale(0.165 -0.165)\">\r\n       <use xlink:href=\"#ArialMT-48\"/>\r\n      </g>\r\n     </g>\r\n    </g>\r\n    <g id=\"ytick_2\">\r\n     <g id=\"text_12\">\r\n      <!-- 1000000 -->\r\n      <g style=\"fill:#262626;\" transform=\"translate(7.2 170.58858)scale(0.165 -0.165)\">\r\n       <use xlink:href=\"#ArialMT-49\"/>\r\n       <use x=\"55.615234\" xlink:href=\"#ArialMT-48\"/>\r\n       <use x=\"111.230469\" xlink:href=\"#ArialMT-48\"/>\r\n       <use x=\"166.845703\" xlink:href=\"#ArialMT-48\"/>\r\n       <use x=\"222.460938\" xlink:href=\"#ArialMT-48\"/>\r\n       <use x=\"278.076172\" xlink:href=\"#ArialMT-48\"/>\r\n       <use x=\"333.691406\" xlink:href=\"#ArialMT-48\"/>\r\n      </g>\r\n     </g>\r\n    </g>\r\n    <g id=\"ytick_3\">\r\n     <g id=\"text_13\">\r\n      <!-- 2000000 -->\r\n      <g style=\"fill:#262626;\" transform=\"translate(7.2 110.631965)scale(0.165 -0.165)\">\r\n       <use xlink:href=\"#ArialMT-50\"/>\r\n       <use x=\"55.615234\" xlink:href=\"#ArialMT-48\"/>\r\n       <use x=\"111.230469\" xlink:href=\"#ArialMT-48\"/>\r\n       <use x=\"166.845703\" xlink:href=\"#ArialMT-48\"/>\r\n       <use x=\"222.460938\" xlink:href=\"#ArialMT-48\"/>\r\n       <use x=\"278.076172\" xlink:href=\"#ArialMT-48\"/>\r\n       <use x=\"333.691406\" xlink:href=\"#ArialMT-48\"/>\r\n      </g>\r\n     </g>\r\n    </g>\r\n    <g id=\"ytick_4\">\r\n     <g id=\"text_14\">\r\n      <!-- 3000000 -->\r\n      <g style=\"fill:#262626;\" transform=\"translate(7.2 50.675351)scale(0.165 -0.165)\">\r\n       <use xlink:href=\"#ArialMT-51\"/>\r\n       <use x=\"55.615234\" xlink:href=\"#ArialMT-48\"/>\r\n       <use x=\"111.230469\" xlink:href=\"#ArialMT-48\"/>\r\n       <use x=\"166.845703\" xlink:href=\"#ArialMT-48\"/>\r\n       <use x=\"222.460938\" xlink:href=\"#ArialMT-48\"/>\r\n       <use x=\"278.076172\" xlink:href=\"#ArialMT-48\"/>\r\n       <use x=\"333.691406\" xlink:href=\"#ArialMT-48\"/>\r\n      </g>\r\n     </g>\r\n    </g>\r\n   </g>\r\n   <g id=\"patch_3\">\r\n    <path clip-path=\"url(#p6181873b72)\" d=\"M 99.14701 224.64 \r\nL 123.993021 224.64 \r\nL 123.993021 93.696563 \r\nL 99.14701 93.696563 \r\nz\r\n\" style=\"fill:#4c72b0;stroke:#ffffff;stroke-linejoin:miter;stroke-width:1.5;\"/>\r\n   </g>\r\n   <g id=\"patch_4\">\r\n    <path clip-path=\"url(#p6181873b72)\" d=\"M 130.204524 224.64 \r\nL 155.050535 224.64 \r\nL 155.050535 113.610972 \r\nL 130.204524 113.610972 \r\nz\r\n\" style=\"fill:#dd8452;stroke:#ffffff;stroke-linejoin:miter;stroke-width:1.5;\"/>\r\n   </g>\r\n   <g id=\"patch_5\">\r\n    <path clip-path=\"url(#p6181873b72)\" d=\"M 161.262038 224.64 \r\nL 186.108049 224.64 \r\nL 186.108049 213.347761 \r\nL 161.262038 213.347761 \r\nz\r\n\" style=\"fill:#55a868;stroke:#ffffff;stroke-linejoin:miter;stroke-width:1.5;\"/>\r\n   </g>\r\n   <g id=\"patch_6\">\r\n    <path clip-path=\"url(#p6181873b72)\" d=\"M 192.319552 224.64 \r\nL 217.165563 224.64 \r\nL 217.165563 96.173145 \r\nL 192.319552 96.173145 \r\nz\r\n\" style=\"fill:#c44e52;stroke:#ffffff;stroke-linejoin:miter;stroke-width:1.5;\"/>\r\n   </g>\r\n   <g id=\"patch_7\">\r\n    <path clip-path=\"url(#p6181873b72)\" d=\"M 223.377066 224.64 \r\nL 248.223077 224.64 \r\nL 248.223077 17.554286 \r\nL 223.377066 17.554286 \r\nz\r\n\" style=\"fill:#8172b3;stroke:#ffffff;stroke-linejoin:miter;stroke-width:1.5;\"/>\r\n   </g>\r\n   <g id=\"patch_8\">\r\n    <path clip-path=\"url(#p6181873b72)\" d=\"M 254.43458 224.64 \r\nL 279.280591 224.64 \r\nL 279.280591 102.524835 \r\nL 254.43458 102.524835 \r\nz\r\n\" style=\"fill:#937860;stroke:#ffffff;stroke-linejoin:miter;stroke-width:1.5;\"/>\r\n   </g>\r\n   <g id=\"patch_9\">\r\n    <path clip-path=\"url(#p6181873b72)\" d=\"M 285.492093 224.64 \r\nL 310.338105 224.64 \r\nL 310.338105 94.686118 \r\nL 285.492093 94.686118 \r\nz\r\n\" style=\"fill:#da8bc3;stroke:#ffffff;stroke-linejoin:miter;stroke-width:1.5;\"/>\r\n   </g>\r\n   <g id=\"patch_10\">\r\n    <path clip-path=\"url(#p6181873b72)\" d=\"M 316.549607 224.64 \r\nL 341.395618 224.64 \r\nL 341.395618 97.628197 \r\nL 316.549607 97.628197 \r\nz\r\n\" style=\"fill:#8c8c8c;stroke:#ffffff;stroke-linejoin:miter;stroke-width:1.5;\"/>\r\n   </g>\r\n   <g id=\"patch_11\">\r\n    <path clip-path=\"url(#p6181873b72)\" d=\"M 347.607121 224.64 \r\nL 372.453132 224.64 \r\nL 372.453132 88.651027 \r\nL 347.607121 88.651027 \r\nz\r\n\" style=\"fill:#ccb974;stroke:#ffffff;stroke-linejoin:miter;stroke-width:1.5;\"/>\r\n   </g>\r\n   <g id=\"patch_12\">\r\n    <path clip-path=\"url(#p6181873b72)\" d=\"M 378.664635 224.64 \r\nL 403.510646 224.64 \r\nL 403.510646 213.86615 \r\nL 378.664635 213.86615 \r\nz\r\n\" style=\"fill:#64b5cd;stroke:#ffffff;stroke-linejoin:miter;stroke-width:1.5;\"/>\r\n   </g>\r\n   <g id=\"patch_13\">\r\n    <path d=\"M 83.928828 224.64 \r\nL 83.928828 7.2 \r\n\" style=\"fill:none;stroke:#262626;stroke-linecap:square;stroke-linejoin:miter;stroke-width:1.875;\"/>\r\n   </g>\r\n   <g id=\"patch_14\">\r\n    <path d=\"M 418.728828 224.64 \r\nL 418.728828 7.2 \r\n\" style=\"fill:none;stroke:#262626;stroke-linecap:square;stroke-linejoin:miter;stroke-width:1.875;\"/>\r\n   </g>\r\n   <g id=\"patch_15\">\r\n    <path d=\"M 83.928828 224.64 \r\nL 418.728828 224.64 \r\n\" style=\"fill:none;stroke:#262626;stroke-linecap:square;stroke-linejoin:miter;stroke-width:1.875;\"/>\r\n   </g>\r\n   <g id=\"patch_16\">\r\n    <path d=\"M 83.928828 7.2 \r\nL 418.728828 7.2 \r\n\" style=\"fill:none;stroke:#262626;stroke-linecap:square;stroke-linejoin:miter;stroke-width:1.875;\"/>\r\n   </g>\r\n  </g>\r\n </g>\r\n <defs>\r\n  <clipPath id=\"p6181873b72\">\r\n   <rect height=\"217.44\" width=\"334.8\" x=\"83.928828\" y=\"7.2\"/>\r\n  </clipPath>\r\n </defs>\r\n</svg>\r\n",
      "image/png": "[encoded data removed]"
     },
     "metadata": {}
    }
   ],
   "source": [
    "plt.plot(figsize = (10,50))\n",
    "\n",
    "for outlet in outlets:\n",
    "    plt.bar(x = outlet, height = df[df['Outlet_Identifier'] == outlet]['Item_Outlet_Sales'].sum())\n",
    "\n",
    "    "
   ]
  },
  {
   "cell_type": "markdown",
   "metadata": {},
   "source": [
    "lets plot that in seaborn"
   ]
  },
  {
   "cell_type": "code",
   "execution_count": 107,
   "metadata": {},
   "outputs": [
    {
     "output_type": "execute_result",
     "data": {
      "text/plain": [
       "[2183969.8102,\n",
       " 1851822.83,\n",
       " 188340.17239999998,\n",
       " 2142663.5782000003,\n",
       " 3453926.0514,\n",
       " 2036725.477,\n",
       " 2167465.294,\n",
       " 2118395.1682,\n",
       " 2268122.9354,\n",
       " 179694.09360000002]"
      ]
     },
     "metadata": {},
     "execution_count": 107
    }
   ],
   "source": [
    "outlets\n",
    "outlets_total_sales = []\n",
    "for outlet in outlets:\n",
    "    outlets_total_sales.append(df[df['Outlet_Identifier'] == outlet]['Item_Outlet_Sales'].sum())\n",
    "\n",
    "outlets_total_sales"
   ]
  },
  {
   "cell_type": "code",
   "execution_count": 128,
   "metadata": {},
   "outputs": [
    {
     "output_type": "execute_result",
     "data": {
      "text/plain": [
       "array(['OUT049', 'OUT018', 'OUT010', 'OUT013', 'OUT027', 'OUT045',\n",
       "       'OUT017', 'OUT046', 'OUT035', 'OUT019'], dtype=object)"
      ]
     },
     "metadata": {},
     "execution_count": 128
    }
   ],
   "source": [
    "outlets"
   ]
  },
  {
   "cell_type": "code",
   "execution_count": 108,
   "metadata": {},
   "outputs": [
    {
     "output_type": "display_data",
     "data": {
      "text/plain": "<Figure size 720x360 with 1 Axes>",
      "image/svg+xml": "<?xml version=\"1.0\" encoding=\"utf-8\" standalone=\"no\"?>\r\n<!DOCTYPE svg PUBLIC \"-//W3C//DTD SVG 1.1//EN\"\r\n  \"http://www.w3.org/Graphics/SVG/1.1/DTD/svg11.dtd\">\r\n<!-- Created with matplotlib (https://matplotlib.org/) -->\r\n<svg height=\"349.02pt\" version=\"1.1\" viewBox=\"0 0 652.073437 349.02\" width=\"652.073437pt\" xmlns=\"http://www.w3.org/2000/svg\" xmlns:xlink=\"http://www.w3.org/1999/xlink\">\r\n <defs>\r\n  <style type=\"text/css\">\r\n*{stroke-linecap:butt;stroke-linejoin:round;}\r\n  </style>\r\n </defs>\r\n <g id=\"figure_1\">\r\n  <g id=\"patch_1\">\r\n   <path d=\"M 0 349.02 \r\nL 652.073437 349.02 \r\nL 652.073437 0 \r\nL 0 0 \r\nz\r\n\" style=\"fill:#ffffff;\"/>\r\n  </g>\r\n  <g id=\"axes_1\">\r\n   <g id=\"patch_2\">\r\n    <path d=\"M 86.873437 297.884062 \r\nL 644.873438 297.884062 \r\nL 644.873438 26.084062 \r\nL 86.873437 26.084062 \r\nz\r\n\" style=\"fill:#ffffff;\"/>\r\n   </g>\r\n   <g id=\"matplotlib.axis_1\">\r\n    <g id=\"xtick_1\">\r\n     <g id=\"text_1\">\r\n      <!-- OUT049 -->\r\n      <defs>\r\n       <path d=\"M 4.828125 34.859375 \r\nQ 4.828125 52.6875 14.390625 62.765625 \r\nQ 23.96875 72.859375 39.109375 72.859375 \r\nQ 49.03125 72.859375 56.984375 68.109375 \r\nQ 64.9375 63.375 69.109375 54.90625 \r\nQ 73.296875 46.4375 73.296875 35.6875 \r\nQ 73.296875 24.8125 68.890625 16.21875 \r\nQ 64.5 7.625 56.4375 3.203125 \r\nQ 48.390625 -1.21875 39.0625 -1.21875 \r\nQ 28.953125 -1.21875 20.984375 3.65625 \r\nQ 13.03125 8.546875 8.921875 16.984375 \r\nQ 4.828125 25.4375 4.828125 34.859375 \r\nz\r\nM 14.59375 34.71875 \r\nQ 14.59375 21.78125 21.546875 14.328125 \r\nQ 28.515625 6.890625 39.015625 6.890625 \r\nQ 49.703125 6.890625 56.609375 14.40625 \r\nQ 63.53125 21.921875 63.53125 35.75 \r\nQ 63.53125 44.484375 60.578125 51 \r\nQ 57.625 57.515625 51.921875 61.109375 \r\nQ 46.234375 64.703125 39.15625 64.703125 \r\nQ 29.109375 64.703125 21.84375 57.78125 \r\nQ 14.59375 50.875 14.59375 34.71875 \r\nz\r\n\" id=\"ArialMT-79\"/>\r\n       <path d=\"M 54.6875 71.578125 \r\nL 64.15625 71.578125 \r\nL 64.15625 30.21875 \r\nQ 64.15625 19.4375 61.71875 13.078125 \r\nQ 59.28125 6.734375 52.90625 2.75 \r\nQ 46.53125 -1.21875 36.1875 -1.21875 \r\nQ 26.125 -1.21875 19.71875 2.25 \r\nQ 13.328125 5.71875 10.59375 12.28125 \r\nQ 7.859375 18.84375 7.859375 30.21875 \r\nL 7.859375 71.578125 \r\nL 17.328125 71.578125 \r\nL 17.328125 30.28125 \r\nQ 17.328125 20.953125 19.0625 16.53125 \r\nQ 20.796875 12.109375 25.015625 9.71875 \r\nQ 29.25 7.328125 35.359375 7.328125 \r\nQ 45.796875 7.328125 50.234375 12.0625 \r\nQ 54.6875 16.796875 54.6875 30.28125 \r\nz\r\n\" id=\"ArialMT-85\"/>\r\n       <path d=\"M 25.921875 0 \r\nL 25.921875 63.140625 \r\nL 2.34375 63.140625 \r\nL 2.34375 71.578125 \r\nL 59.078125 71.578125 \r\nL 59.078125 63.140625 \r\nL 35.40625 63.140625 \r\nL 35.40625 0 \r\nz\r\n\" id=\"ArialMT-84\"/>\r\n       <path d=\"M 4.15625 35.296875 \r\nQ 4.15625 48 6.765625 55.734375 \r\nQ 9.375 63.484375 14.515625 67.671875 \r\nQ 19.671875 71.875 27.484375 71.875 \r\nQ 33.25 71.875 37.59375 69.546875 \r\nQ 41.9375 67.234375 44.765625 62.859375 \r\nQ 47.609375 58.5 49.21875 52.21875 \r\nQ 50.828125 45.953125 50.828125 35.296875 \r\nQ 50.828125 22.703125 48.234375 14.96875 \r\nQ 45.65625 7.234375 40.5 3 \r\nQ 35.359375 -1.21875 27.484375 -1.21875 \r\nQ 17.140625 -1.21875 11.234375 6.203125 \r\nQ 4.15625 15.140625 4.15625 35.296875 \r\nz\r\nM 13.1875 35.296875 \r\nQ 13.1875 17.671875 17.3125 11.828125 \r\nQ 21.4375 6 27.484375 6 \r\nQ 33.546875 6 37.671875 11.859375 \r\nQ 41.796875 17.71875 41.796875 35.296875 \r\nQ 41.796875 52.984375 37.671875 58.78125 \r\nQ 33.546875 64.59375 27.390625 64.59375 \r\nQ 21.34375 64.59375 17.71875 59.46875 \r\nQ 13.1875 52.9375 13.1875 35.296875 \r\nz\r\n\" id=\"ArialMT-48\"/>\r\n       <path d=\"M 32.328125 0 \r\nL 32.328125 17.140625 \r\nL 1.265625 17.140625 \r\nL 1.265625 25.203125 \r\nL 33.9375 71.578125 \r\nL 41.109375 71.578125 \r\nL 41.109375 25.203125 \r\nL 50.78125 25.203125 \r\nL 50.78125 17.140625 \r\nL 41.109375 17.140625 \r\nL 41.109375 0 \r\nz\r\nM 32.328125 25.203125 \r\nL 32.328125 57.46875 \r\nL 9.90625 25.203125 \r\nz\r\n\" id=\"ArialMT-52\"/>\r\n       <path d=\"M 5.46875 16.546875 \r\nL 13.921875 17.328125 \r\nQ 14.984375 11.375 18.015625 8.6875 \r\nQ 21.046875 6 25.78125 6 \r\nQ 29.828125 6 32.875 7.859375 \r\nQ 35.9375 9.71875 37.890625 12.8125 \r\nQ 39.84375 15.921875 41.15625 21.1875 \r\nQ 42.484375 26.46875 42.484375 31.9375 \r\nQ 42.484375 32.515625 42.4375 33.6875 \r\nQ 39.796875 29.5 35.234375 26.875 \r\nQ 30.671875 24.265625 25.34375 24.265625 \r\nQ 16.453125 24.265625 10.296875 30.703125 \r\nQ 4.15625 37.15625 4.15625 47.703125 \r\nQ 4.15625 58.59375 10.578125 65.234375 \r\nQ 17 71.875 26.65625 71.875 \r\nQ 33.640625 71.875 39.421875 68.109375 \r\nQ 45.21875 64.359375 48.21875 57.390625 \r\nQ 51.21875 50.4375 51.21875 37.25 \r\nQ 51.21875 23.53125 48.234375 15.40625 \r\nQ 45.265625 7.28125 39.375 3.03125 \r\nQ 33.5 -1.21875 25.59375 -1.21875 \r\nQ 17.1875 -1.21875 11.859375 3.4375 \r\nQ 6.546875 8.109375 5.46875 16.546875 \r\nz\r\nM 41.453125 48.140625 \r\nQ 41.453125 55.71875 37.421875 60.15625 \r\nQ 33.40625 64.59375 27.734375 64.59375 \r\nQ 21.875 64.59375 17.53125 59.8125 \r\nQ 13.1875 55.03125 13.1875 47.40625 \r\nQ 13.1875 40.578125 17.3125 36.296875 \r\nQ 21.4375 32.03125 27.484375 32.03125 \r\nQ 33.59375 32.03125 37.515625 36.296875 \r\nQ 41.453125 40.578125 41.453125 48.140625 \r\nz\r\n\" id=\"ArialMT-57\"/>\r\n      </defs>\r\n      <g style=\"fill:#262626;\" transform=\"translate(92.099063 318.973437)scale(0.12 -0.12)\">\r\n       <use xlink:href=\"#ArialMT-79\"/>\r\n       <use x=\"77.783203\" xlink:href=\"#ArialMT-85\"/>\r\n       <use x=\"150\" xlink:href=\"#ArialMT-84\"/>\r\n       <use x=\"211.083984\" xlink:href=\"#ArialMT-48\"/>\r\n       <use x=\"266.699219\" xlink:href=\"#ArialMT-52\"/>\r\n       <use x=\"322.314453\" xlink:href=\"#ArialMT-57\"/>\r\n      </g>\r\n     </g>\r\n    </g>\r\n    <g id=\"xtick_2\">\r\n     <g id=\"text_2\">\r\n      <!-- OUT018 -->\r\n      <defs>\r\n       <path d=\"M 37.25 0 \r\nL 28.46875 0 \r\nL 28.46875 56 \r\nQ 25.296875 52.984375 20.140625 49.953125 \r\nQ 14.984375 46.921875 10.890625 45.40625 \r\nL 10.890625 53.90625 \r\nQ 18.265625 57.375 23.78125 62.296875 \r\nQ 29.296875 67.234375 31.59375 71.875 \r\nL 37.25 71.875 \r\nz\r\n\" id=\"ArialMT-49\"/>\r\n       <path d=\"M 17.671875 38.8125 \r\nQ 12.203125 40.828125 9.5625 44.53125 \r\nQ 6.9375 48.25 6.9375 53.421875 \r\nQ 6.9375 61.234375 12.546875 66.546875 \r\nQ 18.171875 71.875 27.484375 71.875 \r\nQ 36.859375 71.875 42.578125 66.421875 \r\nQ 48.296875 60.984375 48.296875 53.171875 \r\nQ 48.296875 48.1875 45.671875 44.5 \r\nQ 43.0625 40.828125 37.75 38.8125 \r\nQ 44.34375 36.671875 47.78125 31.875 \r\nQ 51.21875 27.09375 51.21875 20.453125 \r\nQ 51.21875 11.28125 44.71875 5.03125 \r\nQ 38.234375 -1.21875 27.640625 -1.21875 \r\nQ 17.046875 -1.21875 10.546875 5.046875 \r\nQ 4.046875 11.328125 4.046875 20.703125 \r\nQ 4.046875 27.6875 7.59375 32.390625 \r\nQ 11.140625 37.109375 17.671875 38.8125 \r\nz\r\nM 15.921875 53.71875 \r\nQ 15.921875 48.640625 19.1875 45.40625 \r\nQ 22.46875 42.1875 27.6875 42.1875 \r\nQ 32.765625 42.1875 36.015625 45.375 \r\nQ 39.265625 48.578125 39.265625 53.21875 \r\nQ 39.265625 58.0625 35.90625 61.359375 \r\nQ 32.5625 64.65625 27.59375 64.65625 \r\nQ 22.5625 64.65625 19.234375 61.421875 \r\nQ 15.921875 58.203125 15.921875 53.71875 \r\nz\r\nM 13.09375 20.65625 \r\nQ 13.09375 16.890625 14.875 13.375 \r\nQ 16.65625 9.859375 20.171875 7.921875 \r\nQ 23.6875 6 27.734375 6 \r\nQ 34.03125 6 38.125 10.046875 \r\nQ 42.234375 14.109375 42.234375 20.359375 \r\nQ 42.234375 26.703125 38.015625 30.859375 \r\nQ 33.796875 35.015625 27.4375 35.015625 \r\nQ 21.234375 35.015625 17.15625 30.90625 \r\nQ 13.09375 26.8125 13.09375 20.65625 \r\nz\r\n\" id=\"ArialMT-56\"/>\r\n      </defs>\r\n      <g style=\"fill:#262626;\" transform=\"translate(147.899063 318.973437)scale(0.12 -0.12)\">\r\n       <use xlink:href=\"#ArialMT-79\"/>\r\n       <use x=\"77.783203\" xlink:href=\"#ArialMT-85\"/>\r\n       <use x=\"150\" xlink:href=\"#ArialMT-84\"/>\r\n       <use x=\"211.083984\" xlink:href=\"#ArialMT-48\"/>\r\n       <use x=\"266.699219\" xlink:href=\"#ArialMT-49\"/>\r\n       <use x=\"322.314453\" xlink:href=\"#ArialMT-56\"/>\r\n      </g>\r\n     </g>\r\n    </g>\r\n    <g id=\"xtick_3\">\r\n     <g id=\"text_3\">\r\n      <!-- OUT010 -->\r\n      <g style=\"fill:#262626;\" transform=\"translate(203.699063 318.973437)scale(0.12 -0.12)\">\r\n       <use xlink:href=\"#ArialMT-79\"/>\r\n       <use x=\"77.783203\" xlink:href=\"#ArialMT-85\"/>\r\n       <use x=\"150\" xlink:href=\"#ArialMT-84\"/>\r\n       <use x=\"211.083984\" xlink:href=\"#ArialMT-48\"/>\r\n       <use x=\"266.699219\" xlink:href=\"#ArialMT-49\"/>\r\n       <use x=\"322.314453\" xlink:href=\"#ArialMT-48\"/>\r\n      </g>\r\n     </g>\r\n    </g>\r\n    <g id=\"xtick_4\">\r\n     <g id=\"text_4\">\r\n      <!-- OUT013 -->\r\n      <defs>\r\n       <path d=\"M 4.203125 18.890625 \r\nL 12.984375 20.0625 \r\nQ 14.5 12.59375 18.140625 9.296875 \r\nQ 21.78125 6 27 6 \r\nQ 33.203125 6 37.46875 10.296875 \r\nQ 41.75 14.59375 41.75 20.953125 \r\nQ 41.75 27 37.796875 30.921875 \r\nQ 33.84375 34.859375 27.734375 34.859375 \r\nQ 25.25 34.859375 21.53125 33.890625 \r\nL 22.515625 41.609375 \r\nQ 23.390625 41.5 23.921875 41.5 \r\nQ 29.546875 41.5 34.03125 44.421875 \r\nQ 38.53125 47.359375 38.53125 53.46875 \r\nQ 38.53125 58.296875 35.25 61.46875 \r\nQ 31.984375 64.65625 26.8125 64.65625 \r\nQ 21.6875 64.65625 18.265625 61.421875 \r\nQ 14.84375 58.203125 13.875 51.765625 \r\nL 5.078125 53.328125 \r\nQ 6.6875 62.15625 12.390625 67.015625 \r\nQ 18.109375 71.875 26.609375 71.875 \r\nQ 32.46875 71.875 37.390625 69.359375 \r\nQ 42.328125 66.84375 44.9375 62.5 \r\nQ 47.5625 58.15625 47.5625 53.265625 \r\nQ 47.5625 48.640625 45.0625 44.828125 \r\nQ 42.578125 41.015625 37.703125 38.765625 \r\nQ 44.046875 37.3125 47.5625 32.6875 \r\nQ 51.078125 28.078125 51.078125 21.140625 \r\nQ 51.078125 11.765625 44.234375 5.25 \r\nQ 37.40625 -1.265625 26.953125 -1.265625 \r\nQ 17.53125 -1.265625 11.296875 4.34375 \r\nQ 5.078125 9.96875 4.203125 18.890625 \r\nz\r\n\" id=\"ArialMT-51\"/>\r\n      </defs>\r\n      <g style=\"fill:#262626;\" transform=\"translate(259.499062 318.973437)scale(0.12 -0.12)\">\r\n       <use xlink:href=\"#ArialMT-79\"/>\r\n       <use x=\"77.783203\" xlink:href=\"#ArialMT-85\"/>\r\n       <use x=\"150\" xlink:href=\"#ArialMT-84\"/>\r\n       <use x=\"211.083984\" xlink:href=\"#ArialMT-48\"/>\r\n       <use x=\"266.699219\" xlink:href=\"#ArialMT-49\"/>\r\n       <use x=\"322.314453\" xlink:href=\"#ArialMT-51\"/>\r\n      </g>\r\n     </g>\r\n    </g>\r\n    <g id=\"xtick_5\">\r\n     <g id=\"text_5\">\r\n      <!-- OUT027 -->\r\n      <defs>\r\n       <path d=\"M 50.34375 8.453125 \r\nL 50.34375 0 \r\nL 3.03125 0 \r\nQ 2.9375 3.171875 4.046875 6.109375 \r\nQ 5.859375 10.9375 9.828125 15.625 \r\nQ 13.8125 20.3125 21.34375 26.46875 \r\nQ 33.015625 36.03125 37.109375 41.625 \r\nQ 41.21875 47.21875 41.21875 52.203125 \r\nQ 41.21875 57.421875 37.46875 61 \r\nQ 33.734375 64.59375 27.734375 64.59375 \r\nQ 21.390625 64.59375 17.578125 60.78125 \r\nQ 13.765625 56.984375 13.71875 50.25 \r\nL 4.6875 51.171875 \r\nQ 5.609375 61.28125 11.65625 66.578125 \r\nQ 17.71875 71.875 27.9375 71.875 \r\nQ 38.234375 71.875 44.234375 66.15625 \r\nQ 50.25 60.453125 50.25 52 \r\nQ 50.25 47.703125 48.484375 43.546875 \r\nQ 46.734375 39.40625 42.65625 34.8125 \r\nQ 38.578125 30.21875 29.109375 22.21875 \r\nQ 21.1875 15.578125 18.9375 13.203125 \r\nQ 16.703125 10.84375 15.234375 8.453125 \r\nz\r\n\" id=\"ArialMT-50\"/>\r\n       <path d=\"M 4.734375 62.203125 \r\nL 4.734375 70.65625 \r\nL 51.078125 70.65625 \r\nL 51.078125 63.8125 \r\nQ 44.234375 56.546875 37.515625 44.484375 \r\nQ 30.8125 32.421875 27.15625 19.671875 \r\nQ 24.515625 10.6875 23.78125 0 \r\nL 14.75 0 \r\nQ 14.890625 8.453125 18.0625 20.40625 \r\nQ 21.234375 32.375 27.171875 43.484375 \r\nQ 33.109375 54.59375 39.796875 62.203125 \r\nz\r\n\" id=\"ArialMT-55\"/>\r\n      </defs>\r\n      <g style=\"fill:#262626;\" transform=\"translate(315.299063 318.973437)scale(0.12 -0.12)\">\r\n       <use xlink:href=\"#ArialMT-79\"/>\r\n       <use x=\"77.783203\" xlink:href=\"#ArialMT-85\"/>\r\n       <use x=\"150\" xlink:href=\"#ArialMT-84\"/>\r\n       <use x=\"211.083984\" xlink:href=\"#ArialMT-48\"/>\r\n       <use x=\"266.699219\" xlink:href=\"#ArialMT-50\"/>\r\n       <use x=\"322.314453\" xlink:href=\"#ArialMT-55\"/>\r\n      </g>\r\n     </g>\r\n    </g>\r\n    <g id=\"xtick_6\">\r\n     <g id=\"text_6\">\r\n      <!-- OUT045 -->\r\n      <defs>\r\n       <path d=\"M 4.15625 18.75 \r\nL 13.375 19.53125 \r\nQ 14.40625 12.796875 18.140625 9.390625 \r\nQ 21.875 6 27.15625 6 \r\nQ 33.5 6 37.890625 10.78125 \r\nQ 42.28125 15.578125 42.28125 23.484375 \r\nQ 42.28125 31 38.0625 35.34375 \r\nQ 33.84375 39.703125 27 39.703125 \r\nQ 22.75 39.703125 19.328125 37.765625 \r\nQ 15.921875 35.84375 13.96875 32.765625 \r\nL 5.71875 33.84375 \r\nL 12.640625 70.609375 \r\nL 48.25 70.609375 \r\nL 48.25 62.203125 \r\nL 19.671875 62.203125 \r\nL 15.828125 42.96875 \r\nQ 22.265625 47.46875 29.34375 47.46875 \r\nQ 38.71875 47.46875 45.15625 40.96875 \r\nQ 51.609375 34.46875 51.609375 24.265625 \r\nQ 51.609375 14.546875 45.953125 7.46875 \r\nQ 39.0625 -1.21875 27.15625 -1.21875 \r\nQ 17.390625 -1.21875 11.203125 4.25 \r\nQ 5.03125 9.71875 4.15625 18.75 \r\nz\r\n\" id=\"ArialMT-53\"/>\r\n      </defs>\r\n      <g style=\"fill:#262626;\" transform=\"translate(371.099063 318.973437)scale(0.12 -0.12)\">\r\n       <use xlink:href=\"#ArialMT-79\"/>\r\n       <use x=\"77.783203\" xlink:href=\"#ArialMT-85\"/>\r\n       <use x=\"150\" xlink:href=\"#ArialMT-84\"/>\r\n       <use x=\"211.083984\" xlink:href=\"#ArialMT-48\"/>\r\n       <use x=\"266.699219\" xlink:href=\"#ArialMT-52\"/>\r\n       <use x=\"322.314453\" xlink:href=\"#ArialMT-53\"/>\r\n      </g>\r\n     </g>\r\n    </g>\r\n    <g id=\"xtick_7\">\r\n     <g id=\"text_7\">\r\n      <!-- OUT017 -->\r\n      <g style=\"fill:#262626;\" transform=\"translate(426.899063 318.973437)scale(0.12 -0.12)\">\r\n       <use xlink:href=\"#ArialMT-79\"/>\r\n       <use x=\"77.783203\" xlink:href=\"#ArialMT-85\"/>\r\n       <use x=\"150\" xlink:href=\"#ArialMT-84\"/>\r\n       <use x=\"211.083984\" xlink:href=\"#ArialMT-48\"/>\r\n       <use x=\"266.699219\" xlink:href=\"#ArialMT-49\"/>\r\n       <use x=\"322.314453\" xlink:href=\"#ArialMT-55\"/>\r\n      </g>\r\n     </g>\r\n    </g>\r\n    <g id=\"xtick_8\">\r\n     <g id=\"text_8\">\r\n      <!-- OUT046 -->\r\n      <defs>\r\n       <path d=\"M 49.75 54.046875 \r\nL 41.015625 53.375 \r\nQ 39.84375 58.546875 37.703125 60.890625 \r\nQ 34.125 64.65625 28.90625 64.65625 \r\nQ 24.703125 64.65625 21.53125 62.3125 \r\nQ 17.390625 59.28125 14.984375 53.46875 \r\nQ 12.59375 47.65625 12.5 36.921875 \r\nQ 15.671875 41.75 20.265625 44.09375 \r\nQ 24.859375 46.4375 29.890625 46.4375 \r\nQ 38.671875 46.4375 44.84375 39.96875 \r\nQ 51.03125 33.5 51.03125 23.25 \r\nQ 51.03125 16.5 48.125 10.71875 \r\nQ 45.21875 4.9375 40.140625 1.859375 \r\nQ 35.0625 -1.21875 28.609375 -1.21875 \r\nQ 17.625 -1.21875 10.6875 6.859375 \r\nQ 3.765625 14.9375 3.765625 33.5 \r\nQ 3.765625 54.25 11.421875 63.671875 \r\nQ 18.109375 71.875 29.4375 71.875 \r\nQ 37.890625 71.875 43.28125 67.140625 \r\nQ 48.6875 62.40625 49.75 54.046875 \r\nz\r\nM 13.875 23.1875 \r\nQ 13.875 18.65625 15.796875 14.5 \r\nQ 17.71875 10.359375 21.1875 8.171875 \r\nQ 24.65625 6 28.46875 6 \r\nQ 34.03125 6 38.03125 10.484375 \r\nQ 42.046875 14.984375 42.046875 22.703125 \r\nQ 42.046875 30.125 38.078125 34.390625 \r\nQ 34.125 38.671875 28.125 38.671875 \r\nQ 22.171875 38.671875 18.015625 34.390625 \r\nQ 13.875 30.125 13.875 23.1875 \r\nz\r\n\" id=\"ArialMT-54\"/>\r\n      </defs>\r\n      <g style=\"fill:#262626;\" transform=\"translate(482.699063 318.973437)scale(0.12 -0.12)\">\r\n       <use xlink:href=\"#ArialMT-79\"/>\r\n       <use x=\"77.783203\" xlink:href=\"#ArialMT-85\"/>\r\n       <use x=\"150\" xlink:href=\"#ArialMT-84\"/>\r\n       <use x=\"211.083984\" xlink:href=\"#ArialMT-48\"/>\r\n       <use x=\"266.699219\" xlink:href=\"#ArialMT-52\"/>\r\n       <use x=\"322.314453\" xlink:href=\"#ArialMT-54\"/>\r\n      </g>\r\n     </g>\r\n    </g>\r\n    <g id=\"xtick_9\">\r\n     <g id=\"text_9\">\r\n      <!-- OUT035 -->\r\n      <g style=\"fill:#262626;\" transform=\"translate(538.499063 318.973437)scale(0.12 -0.12)\">\r\n       <use xlink:href=\"#ArialMT-79\"/>\r\n       <use x=\"77.783203\" xlink:href=\"#ArialMT-85\"/>\r\n       <use x=\"150\" xlink:href=\"#ArialMT-84\"/>\r\n       <use x=\"211.083984\" xlink:href=\"#ArialMT-48\"/>\r\n       <use x=\"266.699219\" xlink:href=\"#ArialMT-51\"/>\r\n       <use x=\"322.314453\" xlink:href=\"#ArialMT-53\"/>\r\n      </g>\r\n     </g>\r\n    </g>\r\n    <g id=\"xtick_10\">\r\n     <g id=\"text_10\">\r\n      <!-- OUT019 -->\r\n      <g style=\"fill:#262626;\" transform=\"translate(594.299062 318.973437)scale(0.12 -0.12)\">\r\n       <use xlink:href=\"#ArialMT-79\"/>\r\n       <use x=\"77.783203\" xlink:href=\"#ArialMT-85\"/>\r\n       <use x=\"150\" xlink:href=\"#ArialMT-84\"/>\r\n       <use x=\"211.083984\" xlink:href=\"#ArialMT-48\"/>\r\n       <use x=\"266.699219\" xlink:href=\"#ArialMT-49\"/>\r\n       <use x=\"322.314453\" xlink:href=\"#ArialMT-57\"/>\r\n      </g>\r\n     </g>\r\n    </g>\r\n    <g id=\"text_11\">\r\n     <!-- Outlets -->\r\n     <defs>\r\n      <path d=\"M 40.578125 0 \r\nL 40.578125 7.625 \r\nQ 34.515625 -1.171875 24.125 -1.171875 \r\nQ 19.53125 -1.171875 15.546875 0.578125 \r\nQ 11.578125 2.34375 9.640625 5 \r\nQ 7.71875 7.671875 6.9375 11.53125 \r\nQ 6.390625 14.109375 6.390625 19.734375 \r\nL 6.390625 51.859375 \r\nL 15.1875 51.859375 \r\nL 15.1875 23.09375 \r\nQ 15.1875 16.21875 15.71875 13.8125 \r\nQ 16.546875 10.359375 19.234375 8.375 \r\nQ 21.921875 6.390625 25.875 6.390625 \r\nQ 29.828125 6.390625 33.296875 8.421875 \r\nQ 36.765625 10.453125 38.203125 13.9375 \r\nQ 39.65625 17.4375 39.65625 24.078125 \r\nL 39.65625 51.859375 \r\nL 48.4375 51.859375 \r\nL 48.4375 0 \r\nz\r\n\" id=\"ArialMT-117\"/>\r\n      <path d=\"M 25.78125 7.859375 \r\nL 27.046875 0.09375 \r\nQ 23.34375 -0.6875 20.40625 -0.6875 \r\nQ 15.625 -0.6875 12.984375 0.828125 \r\nQ 10.359375 2.34375 9.28125 4.8125 \r\nQ 8.203125 7.28125 8.203125 15.1875 \r\nL 8.203125 45.015625 \r\nL 1.765625 45.015625 \r\nL 1.765625 51.859375 \r\nL 8.203125 51.859375 \r\nL 8.203125 64.703125 \r\nL 16.9375 69.96875 \r\nL 16.9375 51.859375 \r\nL 25.78125 51.859375 \r\nL 25.78125 45.015625 \r\nL 16.9375 45.015625 \r\nL 16.9375 14.703125 \r\nQ 16.9375 10.9375 17.40625 9.859375 \r\nQ 17.875 8.796875 18.921875 8.15625 \r\nQ 19.96875 7.515625 21.921875 7.515625 \r\nQ 23.390625 7.515625 25.78125 7.859375 \r\nz\r\n\" id=\"ArialMT-116\"/>\r\n      <path d=\"M 6.390625 0 \r\nL 6.390625 71.578125 \r\nL 15.1875 71.578125 \r\nL 15.1875 0 \r\nz\r\n\" id=\"ArialMT-108\"/>\r\n      <path d=\"M 42.09375 16.703125 \r\nL 51.171875 15.578125 \r\nQ 49.03125 7.625 43.21875 3.21875 \r\nQ 37.40625 -1.171875 28.375 -1.171875 \r\nQ 17 -1.171875 10.328125 5.828125 \r\nQ 3.65625 12.84375 3.65625 25.484375 \r\nQ 3.65625 38.578125 10.390625 45.796875 \r\nQ 17.140625 53.03125 27.875 53.03125 \r\nQ 38.28125 53.03125 44.875 45.953125 \r\nQ 51.46875 38.875 51.46875 26.03125 \r\nQ 51.46875 25.25 51.421875 23.6875 \r\nL 12.75 23.6875 \r\nQ 13.234375 15.140625 17.578125 10.59375 \r\nQ 21.921875 6.0625 28.421875 6.0625 \r\nQ 33.25 6.0625 36.671875 8.59375 \r\nQ 40.09375 11.140625 42.09375 16.703125 \r\nz\r\nM 13.234375 30.90625 \r\nL 42.1875 30.90625 \r\nQ 41.609375 37.453125 38.875 40.71875 \r\nQ 34.671875 45.796875 27.984375 45.796875 \r\nQ 21.921875 45.796875 17.796875 41.75 \r\nQ 13.671875 37.703125 13.234375 30.90625 \r\nz\r\n\" id=\"ArialMT-101\"/>\r\n      <path d=\"M 3.078125 15.484375 \r\nL 11.765625 16.84375 \r\nQ 12.5 11.625 15.84375 8.84375 \r\nQ 19.1875 6.0625 25.203125 6.0625 \r\nQ 31.25 6.0625 34.171875 8.515625 \r\nQ 37.109375 10.984375 37.109375 14.3125 \r\nQ 37.109375 17.28125 34.515625 19 \r\nQ 32.71875 20.171875 25.53125 21.96875 \r\nQ 15.875 24.421875 12.140625 26.203125 \r\nQ 8.40625 27.984375 6.46875 31.125 \r\nQ 4.546875 34.28125 4.546875 38.09375 \r\nQ 4.546875 41.546875 6.125 44.5 \r\nQ 7.71875 47.46875 10.453125 49.421875 \r\nQ 12.5 50.921875 16.03125 51.96875 \r\nQ 19.578125 53.03125 23.640625 53.03125 \r\nQ 29.734375 53.03125 34.34375 51.265625 \r\nQ 38.96875 49.515625 41.15625 46.5 \r\nQ 43.359375 43.5 44.1875 38.484375 \r\nL 35.59375 37.3125 \r\nQ 35.015625 41.3125 32.203125 43.546875 \r\nQ 29.390625 45.796875 24.265625 45.796875 \r\nQ 18.21875 45.796875 15.625 43.796875 \r\nQ 13.03125 41.796875 13.03125 39.109375 \r\nQ 13.03125 37.40625 14.109375 36.03125 \r\nQ 15.1875 34.625 17.484375 33.6875 \r\nQ 18.796875 33.203125 25.25 31.453125 \r\nQ 34.578125 28.953125 38.25 27.359375 \r\nQ 41.9375 25.78125 44.03125 22.75 \r\nQ 46.140625 19.734375 46.140625 15.234375 \r\nQ 46.140625 10.84375 43.578125 6.953125 \r\nQ 41.015625 3.078125 36.171875 0.953125 \r\nQ 31.34375 -1.171875 25.25 -1.171875 \r\nQ 15.140625 -1.171875 9.84375 3.03125 \r\nQ 4.546875 7.234375 3.078125 15.484375 \r\nz\r\n\" id=\"ArialMT-115\"/>\r\n     </defs>\r\n     <g style=\"fill:#262626;\" transform=\"translate(337.363125 338.2425)scale(0.18 -0.18)\">\r\n      <use xlink:href=\"#ArialMT-79\"/>\r\n      <use x=\"77.783203\" xlink:href=\"#ArialMT-117\"/>\r\n      <use x=\"133.398438\" xlink:href=\"#ArialMT-116\"/>\r\n      <use x=\"161.181641\" xlink:href=\"#ArialMT-108\"/>\r\n      <use x=\"183.398438\" xlink:href=\"#ArialMT-101\"/>\r\n      <use x=\"239.013672\" xlink:href=\"#ArialMT-116\"/>\r\n      <use x=\"266.796875\" xlink:href=\"#ArialMT-115\"/>\r\n     </g>\r\n    </g>\r\n   </g>\r\n   <g id=\"matplotlib.axis_2\">\r\n    <g id=\"ytick_1\">\r\n     <g id=\"text_12\">\r\n      <!-- 0 -->\r\n      <g style=\"fill:#262626;\" transform=\"translate(67.700312 302.17875)scale(0.12 -0.12)\">\r\n       <use xlink:href=\"#ArialMT-48\"/>\r\n      </g>\r\n     </g>\r\n    </g>\r\n    <g id=\"ytick_2\">\r\n     <g id=\"text_13\">\r\n      <!-- 500000 -->\r\n      <g style=\"fill:#262626;\" transform=\"translate(34.334687 264.705866)scale(0.12 -0.12)\">\r\n       <use xlink:href=\"#ArialMT-53\"/>\r\n       <use x=\"55.615234\" xlink:href=\"#ArialMT-48\"/>\r\n       <use x=\"111.230469\" xlink:href=\"#ArialMT-48\"/>\r\n       <use x=\"166.845703\" xlink:href=\"#ArialMT-48\"/>\r\n       <use x=\"222.460938\" xlink:href=\"#ArialMT-48\"/>\r\n       <use x=\"278.076172\" xlink:href=\"#ArialMT-48\"/>\r\n      </g>\r\n     </g>\r\n    </g>\r\n    <g id=\"ytick_3\">\r\n     <g id=\"text_14\">\r\n      <!-- 1000000 -->\r\n      <g style=\"fill:#262626;\" transform=\"translate(27.661562 227.232981)scale(0.12 -0.12)\">\r\n       <use xlink:href=\"#ArialMT-49\"/>\r\n       <use x=\"55.615234\" xlink:href=\"#ArialMT-48\"/>\r\n       <use x=\"111.230469\" xlink:href=\"#ArialMT-48\"/>\r\n       <use x=\"166.845703\" xlink:href=\"#ArialMT-48\"/>\r\n       <use x=\"222.460938\" xlink:href=\"#ArialMT-48\"/>\r\n       <use x=\"278.076172\" xlink:href=\"#ArialMT-48\"/>\r\n       <use x=\"333.691406\" xlink:href=\"#ArialMT-48\"/>\r\n      </g>\r\n     </g>\r\n    </g>\r\n    <g id=\"ytick_4\">\r\n     <g id=\"text_15\">\r\n      <!-- 1500000 -->\r\n      <g style=\"fill:#262626;\" transform=\"translate(27.661562 189.760097)scale(0.12 -0.12)\">\r\n       <use xlink:href=\"#ArialMT-49\"/>\r\n       <use x=\"55.615234\" xlink:href=\"#ArialMT-53\"/>\r\n       <use x=\"111.230469\" xlink:href=\"#ArialMT-48\"/>\r\n       <use x=\"166.845703\" xlink:href=\"#ArialMT-48\"/>\r\n       <use x=\"222.460938\" xlink:href=\"#ArialMT-48\"/>\r\n       <use x=\"278.076172\" xlink:href=\"#ArialMT-48\"/>\r\n       <use x=\"333.691406\" xlink:href=\"#ArialMT-48\"/>\r\n      </g>\r\n     </g>\r\n    </g>\r\n    <g id=\"ytick_5\">\r\n     <g id=\"text_16\">\r\n      <!-- 2000000 -->\r\n      <g style=\"fill:#262626;\" transform=\"translate(27.661562 152.287213)scale(0.12 -0.12)\">\r\n       <use xlink:href=\"#ArialMT-50\"/>\r\n       <use x=\"55.615234\" xlink:href=\"#ArialMT-48\"/>\r\n       <use x=\"111.230469\" xlink:href=\"#ArialMT-48\"/>\r\n       <use x=\"166.845703\" xlink:href=\"#ArialMT-48\"/>\r\n       <use x=\"222.460938\" xlink:href=\"#ArialMT-48\"/>\r\n       <use x=\"278.076172\" xlink:href=\"#ArialMT-48\"/>\r\n       <use x=\"333.691406\" xlink:href=\"#ArialMT-48\"/>\r\n      </g>\r\n     </g>\r\n    </g>\r\n    <g id=\"ytick_6\">\r\n     <g id=\"text_17\">\r\n      <!-- 2500000 -->\r\n      <g style=\"fill:#262626;\" transform=\"translate(27.661562 114.814328)scale(0.12 -0.12)\">\r\n       <use xlink:href=\"#ArialMT-50\"/>\r\n       <use x=\"55.615234\" xlink:href=\"#ArialMT-53\"/>\r\n       <use x=\"111.230469\" xlink:href=\"#ArialMT-48\"/>\r\n       <use x=\"166.845703\" xlink:href=\"#ArialMT-48\"/>\r\n       <use x=\"222.460938\" xlink:href=\"#ArialMT-48\"/>\r\n       <use x=\"278.076172\" xlink:href=\"#ArialMT-48\"/>\r\n       <use x=\"333.691406\" xlink:href=\"#ArialMT-48\"/>\r\n      </g>\r\n     </g>\r\n    </g>\r\n    <g id=\"ytick_7\">\r\n     <g id=\"text_18\">\r\n      <!-- 3000000 -->\r\n      <g style=\"fill:#262626;\" transform=\"translate(27.661562 77.341444)scale(0.12 -0.12)\">\r\n       <use xlink:href=\"#ArialMT-51\"/>\r\n       <use x=\"55.615234\" xlink:href=\"#ArialMT-48\"/>\r\n       <use x=\"111.230469\" xlink:href=\"#ArialMT-48\"/>\r\n       <use x=\"166.845703\" xlink:href=\"#ArialMT-48\"/>\r\n       <use x=\"222.460938\" xlink:href=\"#ArialMT-48\"/>\r\n       <use x=\"278.076172\" xlink:href=\"#ArialMT-48\"/>\r\n       <use x=\"333.691406\" xlink:href=\"#ArialMT-48\"/>\r\n      </g>\r\n     </g>\r\n    </g>\r\n    <g id=\"ytick_8\">\r\n     <g id=\"text_19\">\r\n      <!-- 3500000 -->\r\n      <g style=\"fill:#262626;\" transform=\"translate(27.661562 39.86856)scale(0.12 -0.12)\">\r\n       <use xlink:href=\"#ArialMT-51\"/>\r\n       <use x=\"55.615234\" xlink:href=\"#ArialMT-53\"/>\r\n       <use x=\"111.230469\" xlink:href=\"#ArialMT-48\"/>\r\n       <use x=\"166.845703\" xlink:href=\"#ArialMT-48\"/>\r\n       <use x=\"222.460938\" xlink:href=\"#ArialMT-48\"/>\r\n       <use x=\"278.076172\" xlink:href=\"#ArialMT-48\"/>\r\n       <use x=\"333.691406\" xlink:href=\"#ArialMT-48\"/>\r\n      </g>\r\n     </g>\r\n    </g>\r\n    <g id=\"text_20\">\r\n     <!-- USD -->\r\n     <defs>\r\n      <path d=\"M 4.5 23 \r\nL 13.421875 23.78125 \r\nQ 14.0625 18.40625 16.375 14.96875 \r\nQ 18.703125 11.53125 23.578125 9.40625 \r\nQ 28.46875 7.28125 34.578125 7.28125 \r\nQ 39.984375 7.28125 44.140625 8.890625 \r\nQ 48.296875 10.5 50.3125 13.296875 \r\nQ 52.34375 16.109375 52.34375 19.4375 \r\nQ 52.34375 22.796875 50.390625 25.3125 \r\nQ 48.4375 27.828125 43.953125 29.546875 \r\nQ 41.0625 30.671875 31.203125 33.03125 \r\nQ 21.34375 35.40625 17.390625 37.5 \r\nQ 12.25 40.1875 9.734375 44.15625 \r\nQ 7.234375 48.140625 7.234375 53.078125 \r\nQ 7.234375 58.5 10.296875 63.203125 \r\nQ 13.375 67.921875 19.28125 70.359375 \r\nQ 25.203125 72.796875 32.421875 72.796875 \r\nQ 40.375 72.796875 46.453125 70.234375 \r\nQ 52.546875 67.671875 55.8125 62.6875 \r\nQ 59.078125 57.71875 59.328125 51.421875 \r\nL 50.25 50.734375 \r\nQ 49.515625 57.515625 45.28125 60.984375 \r\nQ 41.0625 64.453125 32.8125 64.453125 \r\nQ 24.21875 64.453125 20.28125 61.296875 \r\nQ 16.359375 58.15625 16.359375 53.71875 \r\nQ 16.359375 49.859375 19.140625 47.359375 \r\nQ 21.875 44.875 33.421875 42.265625 \r\nQ 44.96875 39.65625 49.265625 37.703125 \r\nQ 55.515625 34.8125 58.484375 30.390625 \r\nQ 61.46875 25.984375 61.46875 20.21875 \r\nQ 61.46875 14.5 58.203125 9.4375 \r\nQ 54.9375 4.390625 48.796875 1.578125 \r\nQ 42.671875 -1.21875 35.015625 -1.21875 \r\nQ 25.296875 -1.21875 18.71875 1.609375 \r\nQ 12.15625 4.4375 8.421875 10.125 \r\nQ 4.6875 15.828125 4.5 23 \r\nz\r\n\" id=\"ArialMT-83\"/>\r\n      <path d=\"M 7.71875 0 \r\nL 7.71875 71.578125 \r\nL 32.375 71.578125 \r\nQ 40.71875 71.578125 45.125 70.5625 \r\nQ 51.265625 69.140625 55.609375 65.4375 \r\nQ 61.28125 60.640625 64.078125 53.1875 \r\nQ 66.890625 45.75 66.890625 36.1875 \r\nQ 66.890625 28.03125 64.984375 21.734375 \r\nQ 63.09375 15.4375 60.109375 11.296875 \r\nQ 57.125 7.171875 53.578125 4.796875 \r\nQ 50.046875 2.4375 45.046875 1.21875 \r\nQ 40.046875 0 33.546875 0 \r\nz\r\nM 17.1875 8.453125 \r\nL 32.46875 8.453125 \r\nQ 39.546875 8.453125 43.578125 9.765625 \r\nQ 47.609375 11.078125 50 13.484375 \r\nQ 53.375 16.84375 55.25 22.53125 \r\nQ 57.125 28.21875 57.125 36.328125 \r\nQ 57.125 47.5625 53.4375 53.59375 \r\nQ 49.75 59.625 44.484375 61.671875 \r\nQ 40.671875 63.140625 32.234375 63.140625 \r\nL 17.1875 63.140625 \r\nz\r\n\" id=\"ArialMT-68\"/>\r\n     </defs>\r\n     <g style=\"fill:#262626;\" transform=\"translate(20.084062 180.986719)rotate(-90)scale(0.18 -0.18)\">\r\n      <use xlink:href=\"#ArialMT-85\"/>\r\n      <use x=\"72.216797\" xlink:href=\"#ArialMT-83\"/>\r\n      <use x=\"138.916016\" xlink:href=\"#ArialMT-68\"/>\r\n     </g>\r\n    </g>\r\n   </g>\r\n   <g id=\"patch_3\">\r\n    <path clip-path=\"url(#pdfeccdca66)\" d=\"M 92.453437 297.884062 \r\nL 137.093437 297.884062 \r\nL 137.093437 134.204766 \r\nL 92.453437 134.204766 \r\nz\r\n\" style=\"fill:#22172d;stroke:#ffffff;stroke-linejoin:miter;stroke-width:1.5;\"/>\r\n   </g>\r\n   <g id=\"patch_4\">\r\n    <path clip-path=\"url(#pdfeccdca66)\" d=\"M 148.253438 297.884062 \r\nL 192.893438 297.884062 \r\nL 192.893438 159.097777 \r\nL 148.253438 159.097777 \r\nz\r\n\" style=\"fill:#402141;stroke:#ffffff;stroke-linejoin:miter;stroke-width:1.5;\"/>\r\n   </g>\r\n   <g id=\"patch_5\">\r\n    <path clip-path=\"url(#pdfeccdca66)\" d=\"M 204.053438 297.884062 \r\nL 248.693438 297.884062 \r\nL 248.693438 283.768764 \r\nL 204.053438 283.768764 \r\nz\r\n\" style=\"fill:#602851;stroke:#ffffff;stroke-linejoin:miter;stroke-width:1.5;\"/>\r\n   </g>\r\n   <g id=\"patch_6\">\r\n    <path clip-path=\"url(#pdfeccdca66)\" d=\"M 259.853438 297.884062 \r\nL 304.493438 297.884062 \r\nL 304.493438 137.300494 \r\nL 259.853438 137.300494 \r\nz\r\n\" style=\"fill:#832b5a;stroke:#ffffff;stroke-linejoin:miter;stroke-width:1.5;\"/>\r\n   </g>\r\n   <g id=\"patch_7\">\r\n    <path clip-path=\"url(#pdfeccdca66)\" d=\"M 315.653437 297.884062 \r\nL 360.293437 297.884062 \r\nL 360.293437 39.02692 \r\nL 315.653437 39.02692 \r\nz\r\n\" style=\"fill:#a42a5b;stroke:#ffffff;stroke-linejoin:miter;stroke-width:1.5;\"/>\r\n   </g>\r\n   <g id=\"patch_8\">\r\n    <path clip-path=\"url(#pdfeccdca66)\" d=\"M 371.453438 297.884062 \r\nL 416.093437 297.884062 \r\nL 416.093437 145.240106 \r\nL 371.453438 145.240106 \r\nz\r\n\" style=\"fill:#c33e56;stroke:#ffffff;stroke-linejoin:miter;stroke-width:1.5;\"/>\r\n   </g>\r\n   <g id=\"patch_9\">\r\n    <path clip-path=\"url(#pdfeccdca66)\" d=\"M 427.253438 297.884062 \r\nL 471.893438 297.884062 \r\nL 471.893438 135.44171 \r\nL 427.253438 135.44171 \r\nz\r\n\" style=\"fill:#d76154;stroke:#ffffff;stroke-linejoin:miter;stroke-width:1.5;\"/>\r\n   </g>\r\n   <g id=\"patch_10\">\r\n    <path clip-path=\"url(#pdfeccdca66)\" d=\"M 483.053438 297.884062 \r\nL 527.693438 297.884062 \r\nL 527.693438 139.119308 \r\nL 483.053438 139.119308 \r\nz\r\n\" style=\"fill:#e0876a;stroke:#ffffff;stroke-linejoin:miter;stroke-width:1.5;\"/>\r\n   </g>\r\n   <g id=\"patch_11\">\r\n    <path clip-path=\"url(#pdfeccdca66)\" d=\"M 538.853438 297.884062 \r\nL 583.493438 297.884062 \r\nL 583.493438 127.897846 \r\nL 538.853438 127.897846 \r\nz\r\n\" style=\"fill:#e7aa8b;stroke:#ffffff;stroke-linejoin:miter;stroke-width:1.5;\"/>\r\n   </g>\r\n   <g id=\"patch_12\">\r\n    <path clip-path=\"url(#pdfeccdca66)\" d=\"M 594.653437 297.884062 \r\nL 639.293437 297.884062 \r\nL 639.293437 284.416751 \r\nL 594.653437 284.416751 \r\nz\r\n\" style=\"fill:#edcbb4;stroke:#ffffff;stroke-linejoin:miter;stroke-width:1.5;\"/>\r\n   </g>\r\n   <g id=\"line2d_1\">\r\n    <path clip-path=\"url(#pdfeccdca66)\" d=\"M 0 0 \r\n\" style=\"fill:none;stroke:#424242;stroke-linecap:round;stroke-width:4.05;\"/>\r\n   </g>\r\n   <g id=\"line2d_2\">\r\n    <path clip-path=\"url(#pdfeccdca66)\" d=\"M 0 0 \r\n\" style=\"fill:none;stroke:#424242;stroke-linecap:round;stroke-width:4.05;\"/>\r\n   </g>\r\n   <g id=\"line2d_3\">\r\n    <path clip-path=\"url(#pdfeccdca66)\" d=\"M 0 0 \r\n\" style=\"fill:none;stroke:#424242;stroke-linecap:round;stroke-width:4.05;\"/>\r\n   </g>\r\n   <g id=\"line2d_4\">\r\n    <path clip-path=\"url(#pdfeccdca66)\" d=\"M 0 0 \r\n\" style=\"fill:none;stroke:#424242;stroke-linecap:round;stroke-width:4.05;\"/>\r\n   </g>\r\n   <g id=\"line2d_5\">\r\n    <path clip-path=\"url(#pdfeccdca66)\" d=\"M 0 0 \r\n\" style=\"fill:none;stroke:#424242;stroke-linecap:round;stroke-width:4.05;\"/>\r\n   </g>\r\n   <g id=\"line2d_6\">\r\n    <path clip-path=\"url(#pdfeccdca66)\" d=\"M 0 0 \r\n\" style=\"fill:none;stroke:#424242;stroke-linecap:round;stroke-width:4.05;\"/>\r\n   </g>\r\n   <g id=\"line2d_7\">\r\n    <path clip-path=\"url(#pdfeccdca66)\" d=\"M 0 0 \r\n\" style=\"fill:none;stroke:#424242;stroke-linecap:round;stroke-width:4.05;\"/>\r\n   </g>\r\n   <g id=\"line2d_8\">\r\n    <path clip-path=\"url(#pdfeccdca66)\" d=\"M 0 0 \r\n\" style=\"fill:none;stroke:#424242;stroke-linecap:round;stroke-width:4.05;\"/>\r\n   </g>\r\n   <g id=\"line2d_9\">\r\n    <path clip-path=\"url(#pdfeccdca66)\" d=\"M 0 0 \r\n\" style=\"fill:none;stroke:#424242;stroke-linecap:round;stroke-width:4.05;\"/>\r\n   </g>\r\n   <g id=\"line2d_10\">\r\n    <path clip-path=\"url(#pdfeccdca66)\" d=\"M 0 0 \r\n\" style=\"fill:none;stroke:#424242;stroke-linecap:round;stroke-width:4.05;\"/>\r\n   </g>\r\n   <g id=\"patch_13\">\r\n    <path d=\"M 86.873437 297.884062 \r\nL 86.873437 26.084062 \r\n\" style=\"fill:none;stroke:#262626;stroke-linecap:square;stroke-linejoin:miter;stroke-width:1.875;\"/>\r\n   </g>\r\n   <g id=\"patch_14\">\r\n    <path d=\"M 644.873438 297.884062 \r\nL 644.873438 26.084062 \r\n\" style=\"fill:none;stroke:#262626;stroke-linecap:square;stroke-linejoin:miter;stroke-width:1.875;\"/>\r\n   </g>\r\n   <g id=\"patch_15\">\r\n    <path d=\"M 86.873437 297.884062 \r\nL 644.873438 297.884062 \r\n\" style=\"fill:none;stroke:#262626;stroke-linecap:square;stroke-linejoin:miter;stroke-width:1.875;\"/>\r\n   </g>\r\n   <g id=\"patch_16\">\r\n    <path d=\"M 86.873437 26.084062 \r\nL 644.873438 26.084062 \r\n\" style=\"fill:none;stroke:#262626;stroke-linecap:square;stroke-linejoin:miter;stroke-width:1.875;\"/>\r\n   </g>\r\n   <g id=\"text_21\">\r\n    <!-- Total Sales -->\r\n    <defs>\r\n     <path d=\"M 23.390625 0 \r\nL 23.390625 59.46875 \r\nL 2.15625 59.46875 \r\nL 2.15625 71.578125 \r\nL 59.03125 71.578125 \r\nL 59.03125 59.46875 \r\nL 37.84375 59.46875 \r\nL 37.84375 0 \r\nz\r\n\" id=\"Arial-BoldMT-84\"/>\r\n     <path d=\"M 4 26.65625 \r\nQ 4 33.5 7.375 39.890625 \r\nQ 10.75 46.296875 16.921875 49.65625 \r\nQ 23.09375 53.03125 30.71875 53.03125 \r\nQ 42.484375 53.03125 50 45.390625 \r\nQ 57.515625 37.75 57.515625 26.078125 \r\nQ 57.515625 14.3125 49.921875 6.5625 \r\nQ 42.328125 -1.171875 30.8125 -1.171875 \r\nQ 23.6875 -1.171875 17.21875 2.046875 \r\nQ 10.75 5.28125 7.375 11.5 \r\nQ 4 17.71875 4 26.65625 \r\nz\r\nM 18.0625 25.921875 \r\nQ 18.0625 18.21875 21.71875 14.109375 \r\nQ 25.390625 10.015625 30.765625 10.015625 \r\nQ 36.140625 10.015625 39.765625 14.109375 \r\nQ 43.40625 18.21875 43.40625 26.03125 \r\nQ 43.40625 33.640625 39.765625 37.734375 \r\nQ 36.140625 41.84375 30.765625 41.84375 \r\nQ 25.390625 41.84375 21.71875 37.734375 \r\nQ 18.0625 33.640625 18.0625 25.921875 \r\nz\r\n\" id=\"Arial-BoldMT-111\"/>\r\n     <path d=\"M 30.953125 51.859375 \r\nL 30.953125 40.921875 \r\nL 21.578125 40.921875 \r\nL 21.578125 20.015625 \r\nQ 21.578125 13.671875 21.84375 12.625 \r\nQ 22.125 11.578125 23.078125 10.890625 \r\nQ 24.03125 10.203125 25.390625 10.203125 \r\nQ 27.296875 10.203125 30.90625 11.53125 \r\nL 32.078125 0.875 \r\nQ 27.296875 -1.171875 21.234375 -1.171875 \r\nQ 17.53125 -1.171875 14.546875 0.0625 \r\nQ 11.578125 1.3125 10.1875 3.296875 \r\nQ 8.796875 5.28125 8.25 8.640625 \r\nQ 7.8125 11.03125 7.8125 18.3125 \r\nL 7.8125 40.921875 \r\nL 1.515625 40.921875 \r\nL 1.515625 51.859375 \r\nL 7.8125 51.859375 \r\nL 7.8125 62.15625 \r\nL 21.578125 70.171875 \r\nL 21.578125 51.859375 \r\nz\r\n\" id=\"Arial-BoldMT-116\"/>\r\n     <path d=\"M 17.4375 36.03125 \r\nL 4.984375 38.28125 \r\nQ 7.078125 45.796875 12.203125 49.40625 \r\nQ 17.328125 53.03125 27.4375 53.03125 \r\nQ 36.625 53.03125 41.109375 50.859375 \r\nQ 45.609375 48.6875 47.4375 45.34375 \r\nQ 49.265625 42 49.265625 33.0625 \r\nL 49.125 17.046875 \r\nQ 49.125 10.203125 49.78125 6.953125 \r\nQ 50.4375 3.71875 52.25 0 \r\nL 38.671875 0 \r\nQ 38.140625 1.375 37.359375 4.046875 \r\nQ 37.015625 5.28125 36.859375 5.671875 \r\nQ 33.34375 2.25 29.34375 0.53125 \r\nQ 25.34375 -1.171875 20.796875 -1.171875 \r\nQ 12.796875 -1.171875 8.171875 3.171875 \r\nQ 3.5625 7.515625 3.5625 14.15625 \r\nQ 3.5625 18.5625 5.65625 22 \r\nQ 7.765625 25.4375 11.546875 27.265625 \r\nQ 15.328125 29.109375 22.46875 30.46875 \r\nQ 32.078125 32.28125 35.796875 33.84375 \r\nL 35.796875 35.203125 \r\nQ 35.796875 39.15625 33.84375 40.84375 \r\nQ 31.890625 42.53125 26.46875 42.53125 \r\nQ 22.796875 42.53125 20.75 41.09375 \r\nQ 18.703125 39.65625 17.4375 36.03125 \r\nz\r\nM 35.796875 24.90625 \r\nQ 33.15625 24.03125 27.4375 22.796875 \r\nQ 21.734375 21.578125 19.96875 20.40625 \r\nQ 17.28125 18.5 17.28125 15.578125 \r\nQ 17.28125 12.703125 19.421875 10.59375 \r\nQ 21.578125 8.5 24.90625 8.5 \r\nQ 28.609375 8.5 31.984375 10.9375 \r\nQ 34.46875 12.796875 35.25 15.484375 \r\nQ 35.796875 17.234375 35.796875 22.171875 \r\nz\r\n\" id=\"Arial-BoldMT-97\"/>\r\n     <path d=\"M 7.171875 0 \r\nL 7.171875 71.578125 \r\nL 20.90625 71.578125 \r\nL 20.90625 0 \r\nz\r\n\" id=\"Arial-BoldMT-108\"/>\r\n     <path id=\"Arial-BoldMT-32\"/>\r\n     <path d=\"M 3.609375 23.296875 \r\nL 17.671875 24.65625 \r\nQ 18.953125 17.578125 22.828125 14.25 \r\nQ 26.703125 10.9375 33.296875 10.9375 \r\nQ 40.28125 10.9375 43.8125 13.890625 \r\nQ 47.359375 16.84375 47.359375 20.796875 \r\nQ 47.359375 23.34375 45.875 25.125 \r\nQ 44.390625 26.90625 40.671875 28.21875 \r\nQ 38.140625 29.109375 29.109375 31.34375 \r\nQ 17.484375 34.234375 12.796875 38.421875 \r\nQ 6.203125 44.34375 6.203125 52.828125 \r\nQ 6.203125 58.296875 9.296875 63.0625 \r\nQ 12.40625 67.828125 18.234375 70.3125 \r\nQ 24.078125 72.796875 32.328125 72.796875 \r\nQ 45.796875 72.796875 52.609375 66.890625 \r\nQ 59.421875 60.984375 59.765625 51.125 \r\nL 45.3125 50.484375 \r\nQ 44.390625 56 41.328125 58.421875 \r\nQ 38.28125 60.84375 32.171875 60.84375 \r\nQ 25.875 60.84375 22.3125 58.25 \r\nQ 20.015625 56.59375 20.015625 53.8125 \r\nQ 20.015625 51.265625 22.171875 49.46875 \r\nQ 24.90625 47.171875 35.453125 44.671875 \r\nQ 46 42.1875 51.046875 39.515625 \r\nQ 56.109375 36.859375 58.953125 32.25 \r\nQ 61.8125 27.640625 61.8125 20.84375 \r\nQ 61.8125 14.703125 58.390625 9.328125 \r\nQ 54.984375 3.953125 48.734375 1.34375 \r\nQ 42.484375 -1.265625 33.15625 -1.265625 \r\nQ 19.578125 -1.265625 12.296875 5 \r\nQ 5.03125 11.28125 3.609375 23.296875 \r\nz\r\n\" id=\"Arial-BoldMT-83\"/>\r\n     <path d=\"M 37.203125 16.5 \r\nL 50.875 14.203125 \r\nQ 48.25 6.6875 42.546875 2.75 \r\nQ 36.859375 -1.171875 28.328125 -1.171875 \r\nQ 14.796875 -1.171875 8.296875 7.671875 \r\nQ 3.171875 14.75 3.171875 25.53125 \r\nQ 3.171875 38.421875 9.90625 45.71875 \r\nQ 16.65625 53.03125 26.953125 53.03125 \r\nQ 38.53125 53.03125 45.21875 45.390625 \r\nQ 51.90625 37.75 51.609375 21.96875 \r\nL 17.234375 21.96875 \r\nQ 17.390625 15.875 20.5625 12.46875 \r\nQ 23.734375 9.078125 28.46875 9.078125 \r\nQ 31.6875 9.078125 33.875 10.828125 \r\nQ 36.078125 12.59375 37.203125 16.5 \r\nz\r\nM 37.984375 30.375 \r\nQ 37.84375 36.328125 34.90625 39.421875 \r\nQ 31.984375 42.53125 27.78125 42.53125 \r\nQ 23.296875 42.53125 20.359375 39.265625 \r\nQ 17.4375 35.984375 17.484375 30.375 \r\nz\r\n\" id=\"Arial-BoldMT-101\"/>\r\n     <path d=\"M 2.34375 14.796875 \r\nL 16.109375 16.890625 \r\nQ 17 12.890625 19.671875 10.8125 \r\nQ 22.359375 8.734375 27.203125 8.734375 \r\nQ 32.515625 8.734375 35.203125 10.6875 \r\nQ 37.015625 12.0625 37.015625 14.359375 \r\nQ 37.015625 15.921875 36.03125 16.9375 \r\nQ 35.015625 17.921875 31.453125 18.75 \r\nQ 14.84375 22.40625 10.40625 25.4375 \r\nQ 4.25 29.640625 4.25 37.109375 \r\nQ 4.25 43.84375 9.5625 48.4375 \r\nQ 14.890625 53.03125 26.078125 53.03125 \r\nQ 36.71875 53.03125 41.890625 49.5625 \r\nQ 47.078125 46.09375 49.03125 39.3125 \r\nL 36.078125 36.921875 \r\nQ 35.25 39.9375 32.921875 41.546875 \r\nQ 30.609375 43.171875 26.3125 43.171875 \r\nQ 20.90625 43.171875 18.5625 41.65625 \r\nQ 17 40.578125 17 38.875 \r\nQ 17 37.40625 18.359375 36.375 \r\nQ 20.21875 35.015625 31.171875 32.515625 \r\nQ 42.140625 30.03125 46.484375 26.421875 \r\nQ 50.78125 22.75 50.78125 16.21875 \r\nQ 50.78125 9.078125 44.828125 3.953125 \r\nQ 38.875 -1.171875 27.203125 -1.171875 \r\nQ 16.609375 -1.171875 10.421875 3.125 \r\nQ 4.25 7.421875 2.34375 14.796875 \r\nz\r\n\" id=\"Arial-BoldMT-115\"/>\r\n    </defs>\r\n    <g style=\"fill:#262626;\" transform=\"translate(318.368906 20.084062)scale(0.18 -0.18)\">\r\n     <use xlink:href=\"#Arial-BoldMT-84\"/>\r\n     <use x=\"60.974609\" xlink:href=\"#Arial-BoldMT-111\"/>\r\n     <use x=\"122.058594\" xlink:href=\"#Arial-BoldMT-116\"/>\r\n     <use x=\"155.359375\" xlink:href=\"#Arial-BoldMT-97\"/>\r\n     <use x=\"210.974609\" xlink:href=\"#Arial-BoldMT-108\"/>\r\n     <use x=\"238.757812\" xlink:href=\"#Arial-BoldMT-32\"/>\r\n     <use x=\"266.541016\" xlink:href=\"#Arial-BoldMT-83\"/>\r\n     <use x=\"333.240234\" xlink:href=\"#Arial-BoldMT-97\"/>\r\n     <use x=\"388.855469\" xlink:href=\"#Arial-BoldMT-108\"/>\r\n     <use x=\"416.638672\" xlink:href=\"#Arial-BoldMT-101\"/>\r\n     <use x=\"472.253906\" xlink:href=\"#Arial-BoldMT-115\"/>\r\n    </g>\r\n   </g>\r\n  </g>\r\n </g>\r\n <defs>\r\n  <clipPath id=\"pdfeccdca66\">\r\n   <rect height=\"271.8\" width=\"558\" x=\"86.873437\" y=\"26.084062\"/>\r\n  </clipPath>\r\n </defs>\r\n</svg>\r\n",
      "image/png": "[encoded data removed]"
     },
     "metadata": {}
    }
   ],
   "source": [
    "sns.set(style=\"white\", context=\"talk\")\n",
    "f, ax = plt.subplots(1, figsize = (10,5))\n",
    "\n",
    "sns.barplot(x=outlets, y=outlets_total_sales, palette=\"rocket\")\n",
    "ax.set_title('Total Sales', Fontweight = 'bold')\n",
    "ax.set_xlabel('Outlets')\n",
    "ax.set_ylabel('USD')\n",
    "\n",
    "plt.xticks(Fontsize = 12)\n",
    "plt.yticks(Fontsize = 12)\n",
    "plt.show()"
   ]
  },
  {
   "source": [
    "## Understanding Total Sales\n",
    "looking at the plot above I notice two low outlyers and one high. I would like to see what is causing this. are they different types? sizes? or have a different location type? "
   ],
   "cell_type": "markdown",
   "metadata": {}
  },
  {
   "cell_type": "code",
   "execution_count": 109,
   "metadata": {},
   "outputs": [
    {
     "output_type": "execute_result",
     "data": {
      "text/plain": [
       "   Item_Identifier  Item_Weight Item_Fat_Content  Item_Visibility  \\\n",
       "23           FDC37          0.0          Low Fat         0.057557   \n",
       "\n",
       "       Item_Type  Item_MRP Outlet_Identifier  Outlet_Establishment_Year  \\\n",
       "23  Baking Goods  107.6938            OUT019                       1985   \n",
       "\n",
       "   Outlet_Size Outlet_Location_Type    Outlet_Type  Item_Outlet_Sales  \n",
       "23       Small               Tier 1  Grocery Store           214.3876  "
      ],
      "text/html": "<div>\n<style scoped>\n    .dataframe tbody tr th:only-of-type {\n        vertical-align: middle;\n    }\n\n    .dataframe tbody tr th {\n        vertical-align: top;\n    }\n\n    .dataframe thead th {\n        text-align: right;\n    }\n</style>\n<table border=\"1\" class=\"dataframe\">\n  <thead>\n    <tr style=\"text-align: right;\">\n      <th></th>\n      <th>Item_Identifier</th>\n      <th>Item_Weight</th>\n      <th>Item_Fat_Content</th>\n      <th>Item_Visibility</th>\n      <th>Item_Type</th>\n      <th>Item_MRP</th>\n      <th>Outlet_Identifier</th>\n      <th>Outlet_Establishment_Year</th>\n      <th>Outlet_Size</th>\n      <th>Outlet_Location_Type</th>\n      <th>Outlet_Type</th>\n      <th>Item_Outlet_Sales</th>\n    </tr>\n  </thead>\n  <tbody>\n    <tr>\n      <th>23</th>\n      <td>FDC37</td>\n      <td>0.0</td>\n      <td>Low Fat</td>\n      <td>0.057557</td>\n      <td>Baking Goods</td>\n      <td>107.6938</td>\n      <td>OUT019</td>\n      <td>1985</td>\n      <td>Small</td>\n      <td>Tier 1</td>\n      <td>Grocery Store</td>\n      <td>214.3876</td>\n    </tr>\n  </tbody>\n</table>\n</div>"
     },
     "metadata": {},
     "execution_count": 109
    }
   ],
   "source": [
    "df[df['Outlet_Identifier'] == 'OUT019'].head(1)\n",
    "# df[df['Outlet_Identifier'] == 'OUT027'].head(1)"
   ]
  },
  {
   "cell_type": "code",
   "execution_count": 110,
   "metadata": {},
   "outputs": [
    {
     "output_type": "execute_result",
     "data": {
      "text/plain": [
       "Tier 2    2785\n",
       "Tier 1    1458\n",
       "Tier 3     555\n",
       "Name: Outlet_Location_Type, dtype: int64"
      ]
     },
     "metadata": {},
     "execution_count": 110
    }
   ],
   "source": [
    "df[(df['Outlet_Size'] == 'Small')]['Outlet_Location_Type'].value_counts()"
   ]
  },
  {
   "cell_type": "code",
   "execution_count": 322,
   "metadata": {},
   "outputs": [
    {
     "output_type": "error",
     "ename": "AttributeError",
     "evalue": "'function' object has no attribute 'keys'",
     "traceback": [
      "\u001b[1;31m---------------------------------------------------------------------------\u001b[0m",
      "\u001b[1;31mAttributeError\u001b[0m                            Traceback (most recent call last)",
      "\u001b[1;32m<ipython-input-322-5aca0f11cef8>\u001b[0m in \u001b[0;36m<module>\u001b[1;34m\u001b[0m\n\u001b[1;32m----> 1\u001b[1;33m \u001b[0mlist\u001b[0m\u001b[1;33m(\u001b[0m\u001b[0mpalette\u001b[0m\u001b[1;33m.\u001b[0m\u001b[0mkeys\u001b[0m\u001b[1;33m(\u001b[0m\u001b[1;33m)\u001b[0m\u001b[1;33m)\u001b[0m\u001b[1;33m\u001b[0m\u001b[1;33m\u001b[0m\u001b[0m\n\u001b[0m",
      "\u001b[1;31mAttributeError\u001b[0m: 'function' object has no attribute 'keys'"
     ]
    }
   ],
   "source": [
    "# list(palette.keys())"
   ]
  },
  {
   "source": [
    "# BOKEH OUTLETS TOTAL SALES"
   ],
   "cell_type": "markdown",
   "metadata": {}
  },
  {
   "cell_type": "code",
   "execution_count": 248,
   "metadata": {},
   "outputs": [],
   "source": [
    "# df_stores\n",
    "\n",
    "# sorce = ColumnDataSource(df)\n",
    "# sorce\n",
    "\n",
    "outlets_data = {'outlets': outlets, 'total_sales': outlets_total_sales}\n",
    "outlets_dataframe = pd.DataFrame(outlets_data)\n",
    "\n",
    "outlets_dataframe\n",
    "outlets_dataframe['total_sales'] = outlets_dataframe['total_sales'].round()\n",
    "# outlets_dataframe['total_sales'] = outlets_dataframe['total_sales'].apply(lambda x: '%.5f' % x)\n",
    "# outlets_dataframe['total_sales'].astype(float)"
   ]
  },
  {
   "cell_type": "code",
   "execution_count": 319,
   "metadata": {},
   "outputs": [],
   "source": [
    "source = ColumnDataSource(outlets_dataframe)\n",
    "# source\n",
    "outlets_dataframe\n",
    "\n",
    "fig_total_sales_outlets = figure(\n",
    "    title='Total Sales for Outlets',\n",
    "    # title_location= 'top left',\n",
    "    toolbar_location= 'above',\n",
    "    background_fill_color= '#EEEEEE',\n",
    "    width_policy='max',\n",
    "    x_axis_label='Outlets', \n",
    "    y_axis_label='USD',\n",
    "\n",
    "    x_range=outlets\n",
    ")\n",
    "\n",
    "fig_total_sales_outlets.vbar(\n",
    "    x='outlets', \n",
    "    top='total_sales', \n",
    "    source=source, \n",
    "    width=.9, \n",
    "    legend_field='outlets',\n",
    "    fill_color=factor_cmap('outlets', palette= palette(15), factors=outlets),\n",
    "    line_color='black',\n",
    "    line_width=2,\n",
    "    alpha=1)\n",
    "\n",
    "fig_total_sales_outlets.add_tools(HoverTool(\n",
    "    tooltips=[('Outlet', '@outlets'),('Total Sales', '@total_sales USD')], \n",
    "    attachment= 'vertical',\n",
    "    ))\n",
    "\n",
    "# show(fig_total_sales_outlets)\n",
    "save(fig_total_sales_outlets, '../plots/fig_total_sales_outlets.html');"
   ]
  },
  {
   "source": [
    "# BOKEH OUTLET TOTAL PRODUCT SALES"
   ],
   "cell_type": "markdown",
   "metadata": {}
  },
  {
   "cell_type": "code",
   "execution_count": 240,
   "metadata": {},
   "outputs": [
    {
     "output_type": "execute_result",
     "data": {
      "text/plain": [
       "dict_keys([3, 4, 5, 6, 7, 8, 9, 10, 11])"
      ]
     },
     "metadata": {},
     "execution_count": 240
    }
   ],
   "source": [
    "Spectral.keys()"
   ]
  },
  {
   "cell_type": "code",
   "execution_count": 182,
   "metadata": {},
   "outputs": [
    {
     "output_type": "execute_result",
     "data": {
      "text/plain": [
       "  Item_Identifier  Item_Weight Item_Fat_Content  Item_Visibility Item_Type  \\\n",
       "0           FDA15          9.3          Low Fat         0.016047     Dairy   \n",
       "\n",
       "   Item_MRP Outlet_Identifier  Outlet_Establishment_Year Outlet_Size  \\\n",
       "0  249.8092            OUT049                       1999      Medium   \n",
       "\n",
       "  Outlet_Location_Type        Outlet_Type  Item_Outlet_Sales  \n",
       "0               Tier 1  Supermarket Type1           3735.138  "
      ],
      "text/html": "<div>\n<style scoped>\n    .dataframe tbody tr th:only-of-type {\n        vertical-align: middle;\n    }\n\n    .dataframe tbody tr th {\n        vertical-align: top;\n    }\n\n    .dataframe thead th {\n        text-align: right;\n    }\n</style>\n<table border=\"1\" class=\"dataframe\">\n  <thead>\n    <tr style=\"text-align: right;\">\n      <th></th>\n      <th>Item_Identifier</th>\n      <th>Item_Weight</th>\n      <th>Item_Fat_Content</th>\n      <th>Item_Visibility</th>\n      <th>Item_Type</th>\n      <th>Item_MRP</th>\n      <th>Outlet_Identifier</th>\n      <th>Outlet_Establishment_Year</th>\n      <th>Outlet_Size</th>\n      <th>Outlet_Location_Type</th>\n      <th>Outlet_Type</th>\n      <th>Item_Outlet_Sales</th>\n    </tr>\n  </thead>\n  <tbody>\n    <tr>\n      <th>0</th>\n      <td>FDA15</td>\n      <td>9.3</td>\n      <td>Low Fat</td>\n      <td>0.016047</td>\n      <td>Dairy</td>\n      <td>249.8092</td>\n      <td>OUT049</td>\n      <td>1999</td>\n      <td>Medium</td>\n      <td>Tier 1</td>\n      <td>Supermarket Type1</td>\n      <td>3735.138</td>\n    </tr>\n  </tbody>\n</table>\n</div>"
     },
     "metadata": {},
     "execution_count": 182
    }
   ],
   "source": [
    "df.head(1)"
   ]
  },
  {
   "cell_type": "code",
   "execution_count": 327,
   "metadata": {},
   "outputs": [],
   "source": [
    "# df['Outlet_Identifer' == outlet[0]]\n",
    "outlet_filter = df['Outlet_Identifier'] == outlets[0]\n",
    "outlet0_Items = df[outlet_filter].drop(axis = 'columns', columns=['Outlet_Identifier', 'Outlet_Establishment_Year', 'Outlet_Size', 'Outlet_Location_Type', 'Outlet_Type'])\n",
    "outlet0_Items['Item_Outlet_Sales'] = outlet0_Items['Item_Outlet_Sales'].round()\n",
    "outlet0_Items['Units_Sold'] = (outlet0_Items['Item_Outlet_Sales'] / outlet0_Items['Item_MRP']).round()\n",
    "outlet0_Items['Item_Visibility_Adjusted'] = outlet0_Items['Item_Visibility']*100\n",
    "\n",
    "outlet0_Items['Item_Visibility'] = outlet0_Items['Item_Visibility'].round(5)\n",
    "outlet0_Items_CDS = ColumnDataSource(outlet0_Items)\n",
    "\n",
    "fig_outlet0_items_sales = figure(\n",
    "    title='OUT049 Total Sales',\n",
    "    # title_location= 'top left',\n",
    "    toolbar_location= 'above',\n",
    "    background_fill_color= '#EEEEEE',\n",
    "    width_policy='max',\n",
    "    x_axis_label='Item MRP', \n",
    "    y_axis_label='Total Sales USD'\n",
    "    # x_range=outlets\n",
    ")\n",
    "\n",
    "fig_outlet0_items_sales.circle(\n",
    "    x='Item_MRP', \n",
    "    y='Item_Outlet_Sales', \n",
    "    size='Item_Visibility_Adjusted',\n",
    "    # size='Units_Sold',\n",
    "    source=outlet0_Items_CDS, \n",
    "    # width=.9, \n",
    "    legend_field='Item_Type',\n",
    "    legend_lo\n",
    "    color=factor_cmap('Item_Type', palette= palette(16), factors=outlet0_Items.Item_Type),\n",
    "    line_color='black',\n",
    "    # line_width=2,\n",
    "    alpha=.75,\n",
    "    muted_alpha=.2\n",
    "    )\n",
    "\n",
    "fig_outlet0_items_sales.add_tools(HoverTool(\n",
    "    tooltips=[\n",
    "        ('Item', '@Item_Identifier'),\n",
    "        ('Item Type', '@Item_Type'),\n",
    "        ('Item Visibility', \"@Item_Visibility\"),\n",
    "        ('Item MRP','@Item_MRP'), \n",
    "        ('Total Units Sold', '@Units_Sold'),\n",
    "        ('Total Sales', '@Item_Outlet_Sales USD')\n",
    "        ], \n",
    "    # attachment= 'vertical',\n",
    "    ))\n",
    "\n",
    "# fig_outlet0_items_sales.legend.click_policy=\"mute\"\n",
    "\n",
    "# show(fig_outlet0_items_sales)\n",
    "save(fig_outlet0_items_sales, '../plots/fig_outlet0_items_sales.html');"
   ]
  },
  {
   "cell_type": "code",
   "execution_count": 307,
   "metadata": {},
   "outputs": [
    {
     "output_type": "execute_result",
     "data": {
      "text/plain": [
       "     Item_Identifier  Item_Weight Item_Fat_Content  Item_Visibility  \\\n",
       "0              FDA15        9.300          Low Fat          0.01605   \n",
       "2              FDN15       17.500          Low Fat          0.01676   \n",
       "10             FDY07       11.800          Low Fat          0.00000   \n",
       "12             FDX32       15.100          Regular          0.10001   \n",
       "17             FDP49        9.000          Regular          0.06920   \n",
       "...              ...          ...              ...              ...   \n",
       "8451           FDK21        7.905          Low Fat          0.01003   \n",
       "8467           FDV31        9.800               LF          0.00000   \n",
       "8470           FDW27        5.860          Regular          0.15109   \n",
       "8475           NCS17       18.600          Low Fat          0.08063   \n",
       "8479           FDL10        8.395          Low Fat          0.03955   \n",
       "\n",
       "                  Item_Type  Item_MRP  Item_Outlet_Sales  Units_Sold  \\\n",
       "0                     Dairy  249.8092             3735.0   14.951411   \n",
       "2                      Meat  141.6180             2097.0   14.807440   \n",
       "10    Fruits and Vegetables   45.5402             1516.0   33.289270   \n",
       "12    Fruits and Vegetables  145.4786             1589.0   10.922569   \n",
       "17                Breakfast   54.3614              718.0   13.207901   \n",
       "...                     ...       ...                ...         ...   \n",
       "8451            Snack Foods  249.6408             3254.0   13.034728   \n",
       "8467  Fruits and Vegetables  175.2370             3882.0   22.152856   \n",
       "8470                   Meat  155.1314             1551.0    9.997976   \n",
       "8475     Health and Hygiene   92.5436              378.0    4.084561   \n",
       "8479            Snack Foods   99.1042             2579.0   26.023115   \n",
       "\n",
       "           Size  \n",
       "0      1.604730  \n",
       "2      1.676007  \n",
       "10     0.000000  \n",
       "12    10.001350  \n",
       "17     6.919638  \n",
       "...         ...  \n",
       "8451   1.002789  \n",
       "8467   0.000000  \n",
       "8470  15.108785  \n",
       "8475   8.062660  \n",
       "8479   3.955361  \n",
       "\n",
       "[930 rows x 9 columns]"
      ],
      "text/html": "<div>\n<style scoped>\n    .dataframe tbody tr th:only-of-type {\n        vertical-align: middle;\n    }\n\n    .dataframe tbody tr th {\n        vertical-align: top;\n    }\n\n    .dataframe thead th {\n        text-align: right;\n    }\n</style>\n<table border=\"1\" class=\"dataframe\">\n  <thead>\n    <tr style=\"text-align: right;\">\n      <th></th>\n      <th>Item_Identifier</th>\n      <th>Item_Weight</th>\n      <th>Item_Fat_Content</th>\n      <th>Item_Visibility</th>\n      <th>Item_Type</th>\n      <th>Item_MRP</th>\n      <th>Item_Outlet_Sales</th>\n      <th>Units_Sold</th>\n      <th>Size</th>\n    </tr>\n  </thead>\n  <tbody>\n    <tr>\n      <th>0</th>\n      <td>FDA15</td>\n      <td>9.300</td>\n      <td>Low Fat</td>\n      <td>0.01605</td>\n      <td>Dairy</td>\n      <td>249.8092</td>\n      <td>3735.0</td>\n      <td>14.951411</td>\n      <td>1.604730</td>\n    </tr>\n    <tr>\n      <th>2</th>\n      <td>FDN15</td>\n      <td>17.500</td>\n      <td>Low Fat</td>\n      <td>0.01676</td>\n      <td>Meat</td>\n      <td>141.6180</td>\n      <td>2097.0</td>\n      <td>14.807440</td>\n      <td>1.676007</td>\n    </tr>\n    <tr>\n      <th>10</th>\n      <td>FDY07</td>\n      <td>11.800</td>\n      <td>Low Fat</td>\n      <td>0.00000</td>\n      <td>Fruits and Vegetables</td>\n      <td>45.5402</td>\n      <td>1516.0</td>\n      <td>33.289270</td>\n      <td>0.000000</td>\n    </tr>\n    <tr>\n      <th>12</th>\n      <td>FDX32</td>\n      <td>15.100</td>\n      <td>Regular</td>\n      <td>0.10001</td>\n      <td>Fruits and Vegetables</td>\n      <td>145.4786</td>\n      <td>1589.0</td>\n      <td>10.922569</td>\n      <td>10.001350</td>\n    </tr>\n    <tr>\n      <th>17</th>\n      <td>FDP49</td>\n      <td>9.000</td>\n      <td>Regular</td>\n      <td>0.06920</td>\n      <td>Breakfast</td>\n      <td>54.3614</td>\n      <td>718.0</td>\n      <td>13.207901</td>\n      <td>6.919638</td>\n    </tr>\n    <tr>\n      <th>...</th>\n      <td>...</td>\n      <td>...</td>\n      <td>...</td>\n      <td>...</td>\n      <td>...</td>\n      <td>...</td>\n      <td>...</td>\n      <td>...</td>\n      <td>...</td>\n    </tr>\n    <tr>\n      <th>8451</th>\n      <td>FDK21</td>\n      <td>7.905</td>\n      <td>Low Fat</td>\n      <td>0.01003</td>\n      <td>Snack Foods</td>\n      <td>249.6408</td>\n      <td>3254.0</td>\n      <td>13.034728</td>\n      <td>1.002789</td>\n    </tr>\n    <tr>\n      <th>8467</th>\n      <td>FDV31</td>\n      <td>9.800</td>\n      <td>LF</td>\n      <td>0.00000</td>\n      <td>Fruits and Vegetables</td>\n      <td>175.2370</td>\n      <td>3882.0</td>\n      <td>22.152856</td>\n      <td>0.000000</td>\n    </tr>\n    <tr>\n      <th>8470</th>\n      <td>FDW27</td>\n      <td>5.860</td>\n      <td>Regular</td>\n      <td>0.15109</td>\n      <td>Meat</td>\n      <td>155.1314</td>\n      <td>1551.0</td>\n      <td>9.997976</td>\n      <td>15.108785</td>\n    </tr>\n    <tr>\n      <th>8475</th>\n      <td>NCS17</td>\n      <td>18.600</td>\n      <td>Low Fat</td>\n      <td>0.08063</td>\n      <td>Health and Hygiene</td>\n      <td>92.5436</td>\n      <td>378.0</td>\n      <td>4.084561</td>\n      <td>8.062660</td>\n    </tr>\n    <tr>\n      <th>8479</th>\n      <td>FDL10</td>\n      <td>8.395</td>\n      <td>Low Fat</td>\n      <td>0.03955</td>\n      <td>Snack Foods</td>\n      <td>99.1042</td>\n      <td>2579.0</td>\n      <td>26.023115</td>\n      <td>3.955361</td>\n    </tr>\n  </tbody>\n</table>\n<p>930 rows × 9 columns</p>\n</div>"
     },
     "metadata": {},
     "execution_count": 307
    }
   ],
   "source": [
    "outlet0_Items.Item_Type.value_counts()\n",
    "outlet0_Items\n",
    "# outlet0_Items.iloc[1]['Item_Outlet_Sales'] / outlet0_Items.iloc[1]['Item_MRP']\n",
    "# outlet0_Items['Item_Outlet_Sales'] / outlet0_Items['Item_MRP']"
   ]
  },
  {
   "cell_type": "code",
   "execution_count": null,
   "metadata": {},
   "outputs": [],
   "source": []
  }
 ],
 "metadata": {
  "kernelspec": {
   "display_name": "Python 3",
   "language": "python",
   "name": "python3"
  },
  "language_info": {
   "codemirror_mode": {
    "name": "ipython",
    "version": 3
   },
   "file_extension": ".py",
   "mimetype": "text/x-python",
   "name": "python",
   "nbconvert_exporter": "python",
   "pygments_lexer": "ipython3",
   "version": "3.7.6-final"
  }
 },
 "nbformat": 4,
 "nbformat_minor": 4
}