{
 "metadata": {
  "language_info": {
   "codemirror_mode": {
    "name": "ipython",
    "version": 3
   },
   "file_extension": ".py",
   "mimetype": "text/x-python",
   "name": "python",
   "nbconvert_exporter": "python",
   "pygments_lexer": "ipython3",
   "version": "3.9.1-final"
  },
  "orig_nbformat": 2,
  "kernelspec": {
   "name": "python3",
   "display_name": "Python 3.9.1 64-bit",
   "metadata": {
    "interpreter": {
     "hash": "0bd209b96e2b66d287990c2576783bd1aa20e4313dd5965e782a8f29bc665d53"
    }
   }
  }
 },
 "nbformat": 4,
 "nbformat_minor": 2,
 "cells": [
  {
   "cell_type": "code",
   "execution_count": 280,
   "metadata": {},
   "outputs": [],
   "source": [
    "import pandas as pd\n",
    "import matplotlib.pyplot as plt\n",
    "\n",
    "import numpy as np\n",
    "\n",
    "from bokeh.plotting import figure\n",
    "from bokeh.models import Slider, ColumnDataSource, CDSView, IndexFilter, Plot, VBar, HoverTool, CustomJS, Select, Legend\n",
    "from bokeh.layouts import row, gridplot, layout, column\n",
    "from bokeh.io import show, save, curdoc\n",
    "from bokeh.themes import Theme\n",
    "from bokeh.palettes import viridis as palette\n",
    "from bokeh.transform import factor_cmap"
   ]
  },
  {
   "cell_type": "code",
   "execution_count": 281,
   "metadata": {},
   "outputs": [],
   "source": [
    "theme = Theme('../theme.yaml')\n",
    "curdoc().theme = theme"
   ]
  },
  {
   "cell_type": "code",
   "execution_count": 282,
   "metadata": {},
   "outputs": [],
   "source": [
    "df = pd.read_csv('sales_predictions_clean.csv')\n",
    "outlets = df['Outlet_Identifier'].unique()\n",
    "outlets= list(outlets)"
   ]
  },
  {
   "cell_type": "code",
   "execution_count": 284,
   "metadata": {},
   "outputs": [],
   "source": [
    "### CREATING NEW DF to make CDS\n",
    "outlet_filter = df['Outlet_Identifier'] == outlets[i]\n",
    "outlet_Items = df[outlet_filter].drop(\n",
    "    axis = 'columns', \n",
    "    columns=['Outlet_Identifier', 'Outlet_Establishment_Year', 'Outlet_Size', 'Outlet_Location_Type', 'Outlet_Type']\n",
    "    )\n",
    "outlet_Items['Item_Outlet_Sales'] = outlet_Items['Item_Outlet_Sales'].round()\n",
    "outlet_Items['Units_Sold'] = (outlet_Items['Item_Outlet_Sales'] / outlet_Items['Item_MRP']).round()\n",
    "outlet_Items['Item_Visibility_Adjusted'] = outlet_Items['Item_Visibility']*100\n",
    "outlet_Items['Item_Visibility'] = outlet_Items['Item_Visibility'].round(5)\n",
    "outlet_Items_CDS = ColumnDataSource(outlet_Items)\n",
    "\n",
    "### STARTING BOKEH PLOT\n",
    "fig_outlet_items_sales = figure(\n",
    "    title=f'{outlets[i]} Total Sales',\n",
    "    x_axis_label='Item MRP',\n",
    "    y_axis_label='Total Sales USD'\n",
    "    )\n",
    "\n",
    "fig_outlet_items_sales.circle(\n",
    "    x='Item_MRP', \n",
    "    y='Item_Outlet_Sales', \n",
    "    size='Item_Visibility_Adjusted',\n",
    "    source=outlet_Items_CDS, \n",
    "    color=factor_cmap('Item_Type', palette= palette(len(outlet_Items.Item_Type.unique())),\n",
    "    factors=outlet_Items.Item_Type.unique()),\n",
    "    line_color='black',\n",
    "    alpha=.75,\n",
    "    muted_alpha=.2\n",
    "    )\n",
    "\n",
    "fig_outlet_items_sales.add_tools(HoverTool(\n",
    "    tooltips=[\n",
    "        ('Item', '@Item_Identifier'),\n",
    "        ('Item Type', '@Item_Type'),\n",
    "        ('Item Visibility', \"@Item_Visibility\"),\n",
    "        ('Item MRP','@Item_MRP'), \n",
    "        ('Total Units Sold', '@Units_Sold'),\n",
    "        ('Total Sales', '@Item_Outlet_Sales USD')\n",
    "        ], \n",
    "    ))\n",
    "plots.append(fig_outlet_items_sales)\n",
    "\n",
    "layout = (gridplot(plots, ncols=2, toolbar_location= None, plot_height=300))\n",
    "# show(layout)\n",
    "# save(fig_outlet_items_sales, f'../plots/fig_{outlets[i]}_items_sales.html');\n",
    "save(layout, f'../plots/outlets_items.html');"
   ]
  },
  {
   "cell_type": "code",
   "execution_count": 223,
   "metadata": {},
   "outputs": [
    {
     "output_type": "execute_result",
     "data": {
      "text/plain": [
       "['Fruits and Vegetables',\n",
       " 'Snack Foods',\n",
       " 'Household',\n",
       " 'Frozen Foods',\n",
       " 'Dairy',\n",
       " 'Canned',\n",
       " 'Baking Goods',\n",
       " 'Health and Hygiene',\n",
       " 'Soft Drinks',\n",
       " 'Meat',\n",
       " 'Breads',\n",
       " 'Hard Drinks',\n",
       " 'Others',\n",
       " 'Starchy Foods',\n",
       " 'Breakfast',\n",
       " 'Seafood']"
      ]
     },
     "metadata": {},
     "execution_count": 223
    }
   ],
   "source": [
    "# df[Item_Type]\n",
    "df['Item_Type'].value_counts().keys().tolist()"
   ]
  },
  {
   "cell_type": "code",
   "execution_count": 88,
   "metadata": {
    "tags": []
   },
   "outputs": [],
   "source": [
    "# from bokeh.resources import CDN\n",
    "# from bokeh.embed import components, autoload_static, file_html\n",
    "\n",
    "# js, tag = components(fig_outlet_items_sales)\n",
    "# # js, tag = autoload_static(fig_outlet_items_sales, CDN, 'fig_outlet_items_sales.js')\n",
    "# # html = file_html(fig_outlet_items_sales, CDN, 'fig_outlet_item_sales')\n",
    "# # html\n",
    "\n",
    "# print(js)\n",
    "# # print(js)\n",
    "# print(tag)\n",
    "\n",
    "# # CDN"
   ]
  },
  {
   "cell_type": "code",
   "execution_count": null,
   "metadata": {},
   "outputs": [],
   "source": []
  }
 ]
}