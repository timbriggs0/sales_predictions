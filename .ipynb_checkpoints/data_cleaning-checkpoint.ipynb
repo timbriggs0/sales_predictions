{
 "cells": [
  {
   "cell_type": "code",
   "execution_count": 1,
   "metadata": {},
   "outputs": [],
   "source": [
    "import pandas as pd\n",
    "import matplotlib.pyplot as plt\n",
    "import math\n",
    "import numpy as np\n",
    "import jedi"
   ]
  },
  {
   "cell_type": "code",
   "execution_count": 2,
   "metadata": {},
   "outputs": [
    {
     "name": "stdout",
     "output_type": "stream",
     "text": [
      "<class 'pandas.core.frame.DataFrame'>\n",
      "MultiIndex: 17050 entries, ('Item_Identifier', 'Item_Weight', 'Item_Fat_Content', 'Item_Visibility', 'Item_Type', 'Item_MRP', 'Outlet_Identifier', 'Outlet_Establishment_Year', 'Outlet_Size', 'Outlet_Location_Type', 'Outlet_Type') to ('>>>>>>> Stashed changes', nan, nan, nan, nan, nan, nan, nan, nan, nan, nan)\n",
      "Data columns (total 1 columns):\n",
      " #   Column                    Non-Null Count  Dtype \n",
      "---  ------                    --------------  ----- \n",
      " 0   <<<<<<< Updated upstream  17048 non-null  object\n",
      "dtypes: object(1)\n",
      "memory usage: 507.0+ KB\n"
     ]
    }
   ],
   "source": [
    "df_dirty = pd.read_csv('sales_predictions.csv')\n",
    "df_dirty.head()\n",
    "df_dirty.info()"
   ]
  },
  {
   "cell_type": "markdown",
   "metadata": {},
   "source": [
    "After importing the csv it looks like we are having some issues...\n",
    "1. every collumn is an index except one.\n",
    "2. we have missing values"
   ]
  },
  {
   "cell_type": "code",
   "execution_count": 3,
   "metadata": {},
   "outputs": [],
   "source": [
    "df_dirty.reset_index(inplace = True)"
   ]
  },
  {
   "cell_type": "code",
   "execution_count": 4,
   "metadata": {},
   "outputs": [],
   "source": [
    "df_dirty.iloc[0]\n",
    "df_dirty.columns = df_dirty.iloc[0]\n",
    "# df_dirty"
   ]
  },
  {
   "cell_type": "markdown",
   "metadata": {},
   "source": [
    "made progress by pushing the headings up now i just need to remove the first row from the df as it is a duplicate of the headers. i think this can be done by the drop() method but will have to google to confirm"
   ]
  },
  {
   "cell_type": "code",
   "execution_count": 5,
   "metadata": {
    "scrolled": true
   },
   "outputs": [],
   "source": [
    "# df_dirty.iloc[0]\n",
    "df_dirty.drop(0, inplace = True)"
   ]
  },
  {
   "cell_type": "markdown",
   "metadata": {},
   "source": [
    "we are getting there - the headers are in place - now lets look athe the missing values and see what else we need to clean up"
   ]
  },
  {
   "cell_type": "code",
   "execution_count": 6,
   "metadata": {},
   "outputs": [
    {
     "name": "stdout",
     "output_type": "stream",
     "text": [
      "<class 'pandas.core.frame.DataFrame'>\n",
      "Int64Index: 17049 entries, 1 to 17049\n",
      "Data columns (total 12 columns):\n",
      " #   Column                     Non-Null Count  Dtype \n",
      "---  ------                     --------------  ----- \n",
      " 0   Item_Identifier            17049 non-null  object\n",
      " 1   Item_Weight                14121 non-null  object\n",
      " 2   Item_Fat_Content           17047 non-null  object\n",
      " 3   Item_Visibility            17047 non-null  object\n",
      " 4   Item_Type                  17047 non-null  object\n",
      " 5   Item_MRP                   17047 non-null  object\n",
      " 6   Outlet_Identifier          17047 non-null  object\n",
      " 7   Outlet_Establishment_Year  17047 non-null  object\n",
      " 8   Outlet_Size                12227 non-null  object\n",
      " 9   Outlet_Location_Type       17047 non-null  object\n",
      " 10  Outlet_Type                17047 non-null  object\n",
      " 11  Item_Outlet_Sales          17047 non-null  object\n",
      "dtypes: object(12)\n",
      "memory usage: 1.7+ MB\n"
     ]
    }
   ],
   "source": [
    "df_dirty.info()"
   ]
  },
  {
   "cell_type": "markdown",
   "metadata": {},
   "source": [
    "looks like we have missing values in every column - i wonder if those are across the board - lets quickly do a drop nan all and see if we get some tighter columns"
   ]
  },
  {
   "cell_type": "code",
   "execution_count": 7,
   "metadata": {},
   "outputs": [
    {
     "name": "stdout",
     "output_type": "stream",
     "text": [
      "<class 'pandas.core.frame.DataFrame'>\n",
      "Int64Index: 17049 entries, 1 to 17049\n",
      "Data columns (total 12 columns):\n",
      " #   Column                     Non-Null Count  Dtype \n",
      "---  ------                     --------------  ----- \n",
      " 0   Item_Identifier            17049 non-null  object\n",
      " 1   Item_Weight                14121 non-null  object\n",
      " 2   Item_Fat_Content           17047 non-null  object\n",
      " 3   Item_Visibility            17047 non-null  object\n",
      " 4   Item_Type                  17047 non-null  object\n",
      " 5   Item_MRP                   17047 non-null  object\n",
      " 6   Outlet_Identifier          17047 non-null  object\n",
      " 7   Outlet_Establishment_Year  17047 non-null  object\n",
      " 8   Outlet_Size                12227 non-null  object\n",
      " 9   Outlet_Location_Type       17047 non-null  object\n",
      " 10  Outlet_Type                17047 non-null  object\n",
      " 11  Item_Outlet_Sales          17047 non-null  object\n",
      "dtypes: object(12)\n",
      "memory usage: 1.7+ MB\n"
     ]
    }
   ],
   "source": [
    "df_dirty.dropna(how = 'all', inplace = True)\n",
    "df_dirty.info()"
   ]
  },
  {
   "cell_type": "markdown",
   "metadata": {},
   "source": [
    "that didnt seem to do much. lets see if we can find where those nan values are."
   ]
  },
  {
   "cell_type": "code",
   "execution_count": 8,
   "metadata": {},
   "outputs": [
    {
     "data": {
      "text/html": [
       "<div>\n",
       "<style scoped>\n",
       "    .dataframe tbody tr th:only-of-type {\n",
       "        vertical-align: middle;\n",
       "    }\n",
       "\n",
       "    .dataframe tbody tr th {\n",
       "        vertical-align: top;\n",
       "    }\n",
       "\n",
       "    .dataframe thead th {\n",
       "        text-align: right;\n",
       "    }\n",
       "</style>\n",
       "<table border=\"1\" class=\"dataframe\">\n",
       "  <thead>\n",
       "    <tr style=\"text-align: right;\">\n",
       "      <th></th>\n",
       "      <th>Item_Identifier</th>\n",
       "      <th>Item_Weight</th>\n",
       "      <th>Item_Fat_Content</th>\n",
       "      <th>Item_Visibility</th>\n",
       "      <th>Item_Type</th>\n",
       "      <th>Item_MRP</th>\n",
       "      <th>Outlet_Identifier</th>\n",
       "      <th>Outlet_Establishment_Year</th>\n",
       "      <th>Outlet_Size</th>\n",
       "      <th>Outlet_Location_Type</th>\n",
       "      <th>Outlet_Type</th>\n",
       "      <th>Item_Outlet_Sales</th>\n",
       "    </tr>\n",
       "  </thead>\n",
       "  <tbody>\n",
       "    <tr>\n",
       "      <th>17045</th>\n",
       "      <td>FDS36</td>\n",
       "      <td>8.38</td>\n",
       "      <td>Regular</td>\n",
       "      <td>0.046982429</td>\n",
       "      <td>Baking Goods</td>\n",
       "      <td>108.157</td>\n",
       "      <td>OUT045</td>\n",
       "      <td>2002</td>\n",
       "      <td>NaN</td>\n",
       "      <td>Tier 2</td>\n",
       "      <td>Supermarket Type1</td>\n",
       "      <td>549.285</td>\n",
       "    </tr>\n",
       "    <tr>\n",
       "      <th>17046</th>\n",
       "      <td>NCJ29</td>\n",
       "      <td>10.6</td>\n",
       "      <td>Low Fat</td>\n",
       "      <td>0.035186271</td>\n",
       "      <td>Health and Hygiene</td>\n",
       "      <td>85.1224</td>\n",
       "      <td>OUT035</td>\n",
       "      <td>2004</td>\n",
       "      <td>Small</td>\n",
       "      <td>Tier 2</td>\n",
       "      <td>Supermarket Type1</td>\n",
       "      <td>1193.1136</td>\n",
       "    </tr>\n",
       "    <tr>\n",
       "      <th>17047</th>\n",
       "      <td>FDN46</td>\n",
       "      <td>7.21</td>\n",
       "      <td>Regular</td>\n",
       "      <td>0.145220646</td>\n",
       "      <td>Snack Foods</td>\n",
       "      <td>103.1332</td>\n",
       "      <td>OUT018</td>\n",
       "      <td>2009</td>\n",
       "      <td>Medium</td>\n",
       "      <td>Tier 3</td>\n",
       "      <td>Supermarket Type2</td>\n",
       "      <td>1845.5976</td>\n",
       "    </tr>\n",
       "    <tr>\n",
       "      <th>17048</th>\n",
       "      <td>DRG01</td>\n",
       "      <td>14.8</td>\n",
       "      <td>Low Fat</td>\n",
       "      <td>0.04487828</td>\n",
       "      <td>Soft Drinks</td>\n",
       "      <td>75.467</td>\n",
       "      <td>OUT046</td>\n",
       "      <td>1997</td>\n",
       "      <td>Small</td>\n",
       "      <td>Tier 1</td>\n",
       "      <td>Supermarket Type1</td>\n",
       "      <td>765.67</td>\n",
       "    </tr>\n",
       "    <tr>\n",
       "      <th>17049</th>\n",
       "      <td>&gt;&gt;&gt;&gt;&gt;&gt;&gt; Stashed changes</td>\n",
       "      <td>NaN</td>\n",
       "      <td>NaN</td>\n",
       "      <td>NaN</td>\n",
       "      <td>NaN</td>\n",
       "      <td>NaN</td>\n",
       "      <td>NaN</td>\n",
       "      <td>NaN</td>\n",
       "      <td>NaN</td>\n",
       "      <td>NaN</td>\n",
       "      <td>NaN</td>\n",
       "      <td>NaN</td>\n",
       "    </tr>\n",
       "  </tbody>\n",
       "</table>\n",
       "</div>"
      ],
      "text/plain": [
       "0              Item_Identifier Item_Weight Item_Fat_Content Item_Visibility  \\\n",
       "17045                    FDS36        8.38          Regular     0.046982429   \n",
       "17046                    NCJ29        10.6          Low Fat     0.035186271   \n",
       "17047                    FDN46        7.21          Regular     0.145220646   \n",
       "17048                    DRG01        14.8          Low Fat      0.04487828   \n",
       "17049  >>>>>>> Stashed changes         NaN              NaN             NaN   \n",
       "\n",
       "0               Item_Type  Item_MRP Outlet_Identifier  \\\n",
       "17045        Baking Goods   108.157            OUT045   \n",
       "17046  Health and Hygiene   85.1224            OUT035   \n",
       "17047         Snack Foods  103.1332            OUT018   \n",
       "17048         Soft Drinks    75.467            OUT046   \n",
       "17049                 NaN       NaN               NaN   \n",
       "\n",
       "0     Outlet_Establishment_Year Outlet_Size Outlet_Location_Type  \\\n",
       "17045                      2002         NaN               Tier 2   \n",
       "17046                      2004       Small               Tier 2   \n",
       "17047                      2009      Medium               Tier 3   \n",
       "17048                      1997       Small               Tier 1   \n",
       "17049                       NaN         NaN                  NaN   \n",
       "\n",
       "0            Outlet_Type Item_Outlet_Sales  \n",
       "17045  Supermarket Type1           549.285  \n",
       "17046  Supermarket Type1         1193.1136  \n",
       "17047  Supermarket Type2         1845.5976  \n",
       "17048  Supermarket Type1            765.67  \n",
       "17049                NaN               NaN  "
      ]
     },
     "execution_count": 8,
     "metadata": {},
     "output_type": "execute_result"
    }
   ],
   "source": [
    "# df_dirty.isna().any()\n",
    "df_dirty.tail()"
   ]
  },
  {
   "cell_type": "markdown",
   "metadata": {},
   "source": [
    "the last row is all NaN so lets drop that one for start"
   ]
  },
  {
   "cell_type": "code",
   "execution_count": 9,
   "metadata": {},
   "outputs": [],
   "source": [
    "df_dirty.drop(17049, inplace = True)"
   ]
  },
  {
   "cell_type": "code",
   "execution_count": 10,
   "metadata": {},
   "outputs": [],
   "source": [
    "# df_dirty[df_dirty.isnull().any(axis = 'rows')]"
   ]
  },
  {
   "cell_type": "code",
   "execution_count": 11,
   "metadata": {},
   "outputs": [
    {
     "data": {
      "text/html": [
       "<div>\n",
       "<style scoped>\n",
       "    .dataframe tbody tr th:only-of-type {\n",
       "        vertical-align: middle;\n",
       "    }\n",
       "\n",
       "    .dataframe tbody tr th {\n",
       "        vertical-align: top;\n",
       "    }\n",
       "\n",
       "    .dataframe thead th {\n",
       "        text-align: right;\n",
       "    }\n",
       "</style>\n",
       "<table border=\"1\" class=\"dataframe\">\n",
       "  <thead>\n",
       "    <tr style=\"text-align: right;\">\n",
       "      <th></th>\n",
       "      <th>Item_Identifier</th>\n",
       "      <th>Item_Weight</th>\n",
       "      <th>Item_Fat_Content</th>\n",
       "      <th>Item_Visibility</th>\n",
       "      <th>Item_Type</th>\n",
       "      <th>Item_MRP</th>\n",
       "      <th>Outlet_Identifier</th>\n",
       "      <th>Outlet_Establishment_Year</th>\n",
       "      <th>Outlet_Size</th>\n",
       "      <th>Outlet_Location_Type</th>\n",
       "      <th>Outlet_Type</th>\n",
       "      <th>Item_Outlet_Sales</th>\n",
       "    </tr>\n",
       "  </thead>\n",
       "  <tbody>\n",
       "    <tr>\n",
       "      <th>8524</th>\n",
       "      <td>=======</td>\n",
       "      <td>NaN</td>\n",
       "      <td>NaN</td>\n",
       "      <td>NaN</td>\n",
       "      <td>NaN</td>\n",
       "      <td>NaN</td>\n",
       "      <td>NaN</td>\n",
       "      <td>NaN</td>\n",
       "      <td>NaN</td>\n",
       "      <td>NaN</td>\n",
       "      <td>NaN</td>\n",
       "      <td>NaN</td>\n",
       "    </tr>\n",
       "  </tbody>\n",
       "</table>\n",
       "</div>"
      ],
      "text/plain": [
       "0    Item_Identifier Item_Weight Item_Fat_Content Item_Visibility Item_Type  \\\n",
       "8524         =======         NaN              NaN             NaN       NaN   \n",
       "\n",
       "0    Item_MRP Outlet_Identifier Outlet_Establishment_Year Outlet_Size  \\\n",
       "8524      NaN               NaN                       NaN         NaN   \n",
       "\n",
       "0    Outlet_Location_Type Outlet_Type Item_Outlet_Sales  \n",
       "8524                  NaN         NaN               NaN  "
      ]
     },
     "execution_count": 11,
     "metadata": {},
     "output_type": "execute_result"
    }
   ],
   "source": [
    "df_dirty[df_dirty['Item_Outlet_Sales'].isna()]"
   ]
  },
  {
   "cell_type": "markdown",
   "metadata": {},
   "source": [
    "I desided to select a column that only had one NaN and locate its value. It turns out that it has the index of 8524. this is an index that isnt apearing on the tail. this makes me wonder if the index isnt sorted properly. I will perform that task now"
   ]
  },
  {
   "cell_type": "code",
   "execution_count": 12,
   "metadata": {},
   "outputs": [
    {
     "data": {
      "text/html": [
       "<div>\n",
       "<style scoped>\n",
       "    .dataframe tbody tr th:only-of-type {\n",
       "        vertical-align: middle;\n",
       "    }\n",
       "\n",
       "    .dataframe tbody tr th {\n",
       "        vertical-align: top;\n",
       "    }\n",
       "\n",
       "    .dataframe thead th {\n",
       "        text-align: right;\n",
       "    }\n",
       "</style>\n",
       "<table border=\"1\" class=\"dataframe\">\n",
       "  <thead>\n",
       "    <tr style=\"text-align: right;\">\n",
       "      <th></th>\n",
       "      <th>Item_Identifier</th>\n",
       "      <th>Item_Weight</th>\n",
       "      <th>Item_Fat_Content</th>\n",
       "      <th>Item_Visibility</th>\n",
       "      <th>Item_Type</th>\n",
       "      <th>Item_MRP</th>\n",
       "      <th>Outlet_Identifier</th>\n",
       "      <th>Outlet_Establishment_Year</th>\n",
       "      <th>Outlet_Size</th>\n",
       "      <th>Outlet_Location_Type</th>\n",
       "      <th>Outlet_Type</th>\n",
       "      <th>Item_Outlet_Sales</th>\n",
       "    </tr>\n",
       "  </thead>\n",
       "  <tbody>\n",
       "    <tr>\n",
       "      <th>8524</th>\n",
       "      <td>=======</td>\n",
       "      <td>NaN</td>\n",
       "      <td>NaN</td>\n",
       "      <td>NaN</td>\n",
       "      <td>NaN</td>\n",
       "      <td>NaN</td>\n",
       "      <td>NaN</td>\n",
       "      <td>NaN</td>\n",
       "      <td>NaN</td>\n",
       "      <td>NaN</td>\n",
       "      <td>NaN</td>\n",
       "      <td>NaN</td>\n",
       "    </tr>\n",
       "  </tbody>\n",
       "</table>\n",
       "</div>"
      ],
      "text/plain": [
       "0    Item_Identifier Item_Weight Item_Fat_Content Item_Visibility Item_Type  \\\n",
       "8524         =======         NaN              NaN             NaN       NaN   \n",
       "\n",
       "0    Item_MRP Outlet_Identifier Outlet_Establishment_Year Outlet_Size  \\\n",
       "8524      NaN               NaN                       NaN         NaN   \n",
       "\n",
       "0    Outlet_Location_Type Outlet_Type Item_Outlet_Sales  \n",
       "8524                  NaN         NaN               NaN  "
      ]
     },
     "execution_count": 12,
     "metadata": {},
     "output_type": "execute_result"
    }
   ],
   "source": [
    "# df_dirty.sort_index()\n",
    "# df_dirty.iloc[8524]\n",
    "df_dirty.loc[[8524]]"
   ]
  },
  {
   "cell_type": "markdown",
   "metadata": {},
   "source": [
    "looks like i was wrong with it being at the end - row 8524 is all NaN - I will drop this now"
   ]
  },
  {
   "cell_type": "code",
   "execution_count": 13,
   "metadata": {},
   "outputs": [
    {
     "name": "stdout",
     "output_type": "stream",
     "text": [
      "<class 'pandas.core.frame.DataFrame'>\n",
      "Int64Index: 17047 entries, 1 to 17048\n",
      "Data columns (total 12 columns):\n",
      " #   Column                     Non-Null Count  Dtype \n",
      "---  ------                     --------------  ----- \n",
      " 0   Item_Identifier            17047 non-null  object\n",
      " 1   Item_Weight                14121 non-null  object\n",
      " 2   Item_Fat_Content           17047 non-null  object\n",
      " 3   Item_Visibility            17047 non-null  object\n",
      " 4   Item_Type                  17047 non-null  object\n",
      " 5   Item_MRP                   17047 non-null  object\n",
      " 6   Outlet_Identifier          17047 non-null  object\n",
      " 7   Outlet_Establishment_Year  17047 non-null  object\n",
      " 8   Outlet_Size                12227 non-null  object\n",
      " 9   Outlet_Location_Type       17047 non-null  object\n",
      " 10  Outlet_Type                17047 non-null  object\n",
      " 11  Item_Outlet_Sales          17047 non-null  object\n",
      "dtypes: object(12)\n",
      "memory usage: 1.7+ MB\n"
     ]
    }
   ],
   "source": [
    "df_dirty.drop(8524).info()"
   ]
  },
  {
   "cell_type": "markdown",
   "metadata": {},
   "source": [
    "that solved it so now lets lock that in with an inplace = True"
   ]
  },
  {
   "cell_type": "code",
   "execution_count": 14,
   "metadata": {},
   "outputs": [],
   "source": [
    "df_dirty.drop(8524, inplace = True)"
   ]
  },
  {
   "cell_type": "markdown",
   "metadata": {},
   "source": [
    "Now all we have left are two columns that have multiple NaN values. these will require a closer look to see what is going on and if there is any patern there. I will first look athe the type of data and then replace it with a known wrong data type and create a na_flag_df for future reference if we see a patern down the road."
   ]
  },
  {
   "cell_type": "code",
   "execution_count": 15,
   "metadata": {},
   "outputs": [],
   "source": [
    "df_na_flags = df_dirty.isna()\n",
    "# df_na_flags"
   ]
  },
  {
   "cell_type": "code",
   "execution_count": 16,
   "metadata": {},
   "outputs": [
    {
     "name": "stdout",
     "output_type": "stream",
     "text": [
      "<class 'pandas.core.frame.DataFrame'>\n",
      "Int64Index: 17047 entries, 1 to 17048\n",
      "Data columns (total 12 columns):\n",
      " #   Column                     Non-Null Count  Dtype \n",
      "---  ------                     --------------  ----- \n",
      " 0   Item_Identifier            17047 non-null  object\n",
      " 1   Item_Weight                17047 non-null  object\n",
      " 2   Item_Fat_Content           17047 non-null  object\n",
      " 3   Item_Visibility            17047 non-null  object\n",
      " 4   Item_Type                  17047 non-null  object\n",
      " 5   Item_MRP                   17047 non-null  object\n",
      " 6   Outlet_Identifier          17047 non-null  object\n",
      " 7   Outlet_Establishment_Year  17047 non-null  object\n",
      " 8   Outlet_Size                12227 non-null  object\n",
      " 9   Outlet_Location_Type       17047 non-null  object\n",
      " 10  Outlet_Type                17047 non-null  object\n",
      " 11  Item_Outlet_Sales          17047 non-null  object\n",
      "dtypes: object(12)\n",
      "memory usage: 1.7+ MB\n"
     ]
    }
   ],
   "source": [
    "df_dirty['Item_Weight'].fillna('0.0', inplace = True)\n",
    "### I CHOSE 0.0 AS THIS IS AN IMPOSIBLE NUMBER FOR A PRODUCT TO WEIGH 0.0\n",
    "df_dirty.info()"
   ]
  },
  {
   "cell_type": "code",
   "execution_count": 17,
   "metadata": {},
   "outputs": [
    {
     "data": {
      "text/plain": [
       "False    12227\n",
       "True      4820\n",
       "Name: Outlet_Size, dtype: int64"
      ]
     },
     "execution_count": 17,
     "metadata": {},
     "output_type": "execute_result"
    }
   ],
   "source": [
    "df_dirty['Outlet_Size'].nunique()\n",
    "df_dirty['Outlet_Size'].value_counts()\n",
    "# df_dirty['Outlet_Size'].loc(['Outlet_Size'])\n",
    "df_dirty['Outlet_Size'].isna().value_counts() # 4820 NaN Values..."
   ]
  },
  {
   "cell_type": "markdown",
   "metadata": {},
   "source": [
    "lets see if these are all tied to one outlet_identifier"
   ]
  },
  {
   "cell_type": "code",
   "execution_count": 18,
   "metadata": {},
   "outputs": [
    {
     "data": {
      "text/plain": [
       "['OUT027',\n",
       " 'OUT013',\n",
       " 'OUT046',\n",
       " 'OUT049',\n",
       " 'OUT035',\n",
       " 'OUT045',\n",
       " 'OUT018',\n",
       " 'OUT017',\n",
       " 'OUT010',\n",
       " 'OUT019',\n",
       " 'Outlet_Identifier']"
      ]
     },
     "execution_count": 18,
     "metadata": {},
     "output_type": "execute_result"
    }
   ],
   "source": [
    "outlet_id = list(dict(df_dirty['Outlet_Identifier'].value_counts()).keys())\n",
    "outlet_id"
   ]
  },
  {
   "cell_type": "markdown",
   "metadata": {},
   "source": [
    "why is the column heading showing up at the end of this list?"
   ]
  },
  {
   "cell_type": "code",
   "execution_count": 19,
   "metadata": {},
   "outputs": [
    {
     "data": {
      "text/html": [
       "<div>\n",
       "<style scoped>\n",
       "    .dataframe tbody tr th:only-of-type {\n",
       "        vertical-align: middle;\n",
       "    }\n",
       "\n",
       "    .dataframe tbody tr th {\n",
       "        vertical-align: top;\n",
       "    }\n",
       "\n",
       "    .dataframe thead th {\n",
       "        text-align: right;\n",
       "    }\n",
       "</style>\n",
       "<table border=\"1\" class=\"dataframe\">\n",
       "  <thead>\n",
       "    <tr style=\"text-align: right;\">\n",
       "      <th></th>\n",
       "      <th>Item_Identifier</th>\n",
       "      <th>Item_Weight</th>\n",
       "      <th>Item_Fat_Content</th>\n",
       "      <th>Item_Visibility</th>\n",
       "      <th>Item_Type</th>\n",
       "      <th>Item_MRP</th>\n",
       "      <th>Outlet_Identifier</th>\n",
       "      <th>Outlet_Establishment_Year</th>\n",
       "      <th>Outlet_Size</th>\n",
       "      <th>Outlet_Location_Type</th>\n",
       "      <th>Outlet_Type</th>\n",
       "      <th>Item_Outlet_Sales</th>\n",
       "    </tr>\n",
       "  </thead>\n",
       "  <tbody>\n",
       "    <tr>\n",
       "      <th>8525</th>\n",
       "      <td>Item_Identifier</td>\n",
       "      <td>Item_Weight</td>\n",
       "      <td>Item_Fat_Content</td>\n",
       "      <td>Item_Visibility</td>\n",
       "      <td>Item_Type</td>\n",
       "      <td>Item_MRP</td>\n",
       "      <td>Outlet_Identifier</td>\n",
       "      <td>Outlet_Establishment_Year</td>\n",
       "      <td>Outlet_Size</td>\n",
       "      <td>Outlet_Location_Type</td>\n",
       "      <td>Outlet_Type</td>\n",
       "      <td>Item_Outlet_Sales</td>\n",
       "    </tr>\n",
       "  </tbody>\n",
       "</table>\n",
       "</div>"
      ],
      "text/plain": [
       "0     Item_Identifier  Item_Weight  Item_Fat_Content  Item_Visibility  \\\n",
       "8525  Item_Identifier  Item_Weight  Item_Fat_Content  Item_Visibility   \n",
       "\n",
       "0     Item_Type  Item_MRP  Outlet_Identifier  Outlet_Establishment_Year  \\\n",
       "8525  Item_Type  Item_MRP  Outlet_Identifier  Outlet_Establishment_Year   \n",
       "\n",
       "0     Outlet_Size  Outlet_Location_Type  Outlet_Type  Item_Outlet_Sales  \n",
       "8525  Outlet_Size  Outlet_Location_Type  Outlet_Type  Item_Outlet_Sales  "
      ]
     },
     "execution_count": 19,
     "metadata": {},
     "output_type": "execute_result"
    }
   ],
   "source": [
    "df_dirty['Outlet_Identifier'].value_counts()\n",
    "df_dirty[df_dirty['Outlet_Identifier'] == 'Outlet_Identifier']"
   ]
  },
  {
   "cell_type": "markdown",
   "metadata": {},
   "source": [
    "interesting that 8525 is the same as the old heading and that there was a match to the last roww in 8524. lets see if the first rows after 8525 match those at the begining of the df."
   ]
  },
  {
   "cell_type": "code",
   "execution_count": 20,
   "metadata": {},
   "outputs": [
    {
     "data": {
      "text/plain": [
       "True"
      ]
     },
     "execution_count": 20,
     "metadata": {},
     "output_type": "execute_result"
    }
   ],
   "source": [
    "df_dirty.loc[range(8526,8535)]['Item_Identifier'].tolist() == df_dirty.loc[range(1,10)]['Item_Identifier'].tolist()\n",
    "df_dirty.loc[range(8526,8535)]['Outlet_Identifier'].tolist() == df_dirty.loc[range(1,10)]['Outlet_Identifier'].tolist()"
   ]
  },
  {
   "cell_type": "markdown",
   "metadata": {},
   "source": [
    "it is looking like there is a copy at the end. lets drop that whole thing and see if it solves our issues with the list"
   ]
  },
  {
   "cell_type": "code",
   "execution_count": 21,
   "metadata": {},
   "outputs": [],
   "source": [
    "df_dirty.loc[8525:]\n",
    "df_dirty.drop_duplicates(inplace = True)"
   ]
  },
  {
   "cell_type": "code",
   "execution_count": 22,
   "metadata": {},
   "outputs": [],
   "source": [
    "df_dirty.drop(8525, inplace = True)"
   ]
  },
  {
   "cell_type": "code",
   "execution_count": 23,
   "metadata": {},
   "outputs": [
    {
     "data": {
      "text/plain": [
       "0\n",
       "Item_Identifier              1\n",
       "Item_Weight                  1\n",
       "Item_Fat_Content             1\n",
       "Item_Visibility              1\n",
       "Item_Type                    1\n",
       "Item_MRP                     1\n",
       "Outlet_Identifier            1\n",
       "Outlet_Establishment_Year    1\n",
       "Outlet_Size                  2\n",
       "Outlet_Location_Type         1\n",
       "Outlet_Type                  1\n",
       "Item_Outlet_Sales            1\n",
       "dtype: int64"
      ]
     },
     "execution_count": 23,
     "metadata": {},
     "output_type": "execute_result"
    }
   ],
   "source": [
    "list(dict(df_dirty['Outlet_Identifier'].value_counts()).keys())\n",
    "df_na_flags = df_dirty.isna()\n",
    "df_dirty.duplicated().value_counts()\n",
    "df_dirty.isna().nunique()"
   ]
  },
  {
   "cell_type": "markdown",
   "metadata": {},
   "source": [
    "looks like we are good and have some cleaner data..."
   ]
  },
  {
   "cell_type": "code",
   "execution_count": 24,
   "metadata": {},
   "outputs": [
    {
     "data": {
      "text/plain": [
       "['Medium', 'Small', 'High']"
      ]
     },
     "execution_count": 24,
     "metadata": {},
     "output_type": "execute_result"
    }
   ],
   "source": [
    "outlet_size = list(dict(df_dirty['Outlet_Size'].value_counts()).keys())\n",
    "outlet_size"
   ]
  },
  {
   "cell_type": "code",
   "execution_count": 25,
   "metadata": {},
   "outputs": [
    {
     "data": {
      "text/plain": [
       "['OUT045', 'OUT017', 'OUT010']"
      ]
     },
     "execution_count": 25,
     "metadata": {},
     "output_type": "execute_result"
    }
   ],
   "source": [
    "list(df_dirty[df_dirty['Outlet_Size'].isna()]['Outlet_Identifier'].value_counts().keys())\n",
    "### LOOKS LIKE THE SIZE NAN IS ALL OVER THE PLACE\n",
    "### LETS SEE IF WE CAN MATCH THE SIZE FROM OTHER ROWS"
   ]
  },
  {
   "cell_type": "code",
   "execution_count": 26,
   "metadata": {},
   "outputs": [
    {
     "data": {
      "text/html": [
       "<div>\n",
       "<style scoped>\n",
       "    .dataframe tbody tr th:only-of-type {\n",
       "        vertical-align: middle;\n",
       "    }\n",
       "\n",
       "    .dataframe tbody tr th {\n",
       "        vertical-align: top;\n",
       "    }\n",
       "\n",
       "    .dataframe thead th {\n",
       "        text-align: right;\n",
       "    }\n",
       "</style>\n",
       "<table border=\"1\" class=\"dataframe\">\n",
       "  <thead>\n",
       "    <tr style=\"text-align: right;\">\n",
       "      <th></th>\n",
       "      <th>Item_Identifier</th>\n",
       "      <th>Item_Weight</th>\n",
       "      <th>Item_Fat_Content</th>\n",
       "      <th>Item_Visibility</th>\n",
       "      <th>Item_Type</th>\n",
       "      <th>Item_MRP</th>\n",
       "      <th>Outlet_Identifier</th>\n",
       "      <th>Outlet_Establishment_Year</th>\n",
       "      <th>Outlet_Size</th>\n",
       "      <th>Outlet_Location_Type</th>\n",
       "      <th>Outlet_Type</th>\n",
       "      <th>Item_Outlet_Sales</th>\n",
       "    </tr>\n",
       "  </thead>\n",
       "  <tbody>\n",
       "    <tr>\n",
       "      <th>9</th>\n",
       "      <td>FDH17</td>\n",
       "      <td>16.2</td>\n",
       "      <td>Regular</td>\n",
       "      <td>0.016687114</td>\n",
       "      <td>Frozen Foods</td>\n",
       "      <td>96.9726</td>\n",
       "      <td>OUT045</td>\n",
       "      <td>2002</td>\n",
       "      <td>NaN</td>\n",
       "      <td>Tier 2</td>\n",
       "      <td>Supermarket Type1</td>\n",
       "      <td>1076.5986</td>\n",
       "    </tr>\n",
       "    <tr>\n",
       "      <th>34</th>\n",
       "      <td>FDO23</td>\n",
       "      <td>17.85</td>\n",
       "      <td>Low Fat</td>\n",
       "      <td>0</td>\n",
       "      <td>Breads</td>\n",
       "      <td>93.1436</td>\n",
       "      <td>OUT045</td>\n",
       "      <td>2002</td>\n",
       "      <td>NaN</td>\n",
       "      <td>Tier 2</td>\n",
       "      <td>Supermarket Type1</td>\n",
       "      <td>2174.5028</td>\n",
       "    </tr>\n",
       "    <tr>\n",
       "      <th>47</th>\n",
       "      <td>NCP05</td>\n",
       "      <td>19.6</td>\n",
       "      <td>Low Fat</td>\n",
       "      <td>0</td>\n",
       "      <td>Health and Hygiene</td>\n",
       "      <td>153.3024</td>\n",
       "      <td>OUT045</td>\n",
       "      <td>2002</td>\n",
       "      <td>NaN</td>\n",
       "      <td>Tier 2</td>\n",
       "      <td>Supermarket Type1</td>\n",
       "      <td>2428.8384</td>\n",
       "    </tr>\n",
       "    <tr>\n",
       "      <th>48</th>\n",
       "      <td>FDV49</td>\n",
       "      <td>10</td>\n",
       "      <td>Low Fat</td>\n",
       "      <td>0.025879577</td>\n",
       "      <td>Canned</td>\n",
       "      <td>265.2226</td>\n",
       "      <td>OUT045</td>\n",
       "      <td>2002</td>\n",
       "      <td>NaN</td>\n",
       "      <td>Tier 2</td>\n",
       "      <td>Supermarket Type1</td>\n",
       "      <td>5815.0972</td>\n",
       "    </tr>\n",
       "    <tr>\n",
       "      <th>57</th>\n",
       "      <td>NCX54</td>\n",
       "      <td>9.195</td>\n",
       "      <td>Low Fat</td>\n",
       "      <td>0.048157338</td>\n",
       "      <td>Household</td>\n",
       "      <td>106.1622</td>\n",
       "      <td>OUT045</td>\n",
       "      <td>2002</td>\n",
       "      <td>NaN</td>\n",
       "      <td>Tier 2</td>\n",
       "      <td>Supermarket Type1</td>\n",
       "      <td>2117.244</td>\n",
       "    </tr>\n",
       "    <tr>\n",
       "      <th>...</th>\n",
       "      <td>...</td>\n",
       "      <td>...</td>\n",
       "      <td>...</td>\n",
       "      <td>...</td>\n",
       "      <td>...</td>\n",
       "      <td>...</td>\n",
       "      <td>...</td>\n",
       "      <td>...</td>\n",
       "      <td>...</td>\n",
       "      <td>...</td>\n",
       "      <td>...</td>\n",
       "      <td>...</td>\n",
       "    </tr>\n",
       "    <tr>\n",
       "      <th>8484</th>\n",
       "      <td>DRI11</td>\n",
       "      <td>8.26</td>\n",
       "      <td>Low Fat</td>\n",
       "      <td>0.03447406</td>\n",
       "      <td>Hard Drinks</td>\n",
       "      <td>117.0834</td>\n",
       "      <td>OUT045</td>\n",
       "      <td>2002</td>\n",
       "      <td>NaN</td>\n",
       "      <td>Tier 2</td>\n",
       "      <td>Supermarket Type1</td>\n",
       "      <td>1612.5676</td>\n",
       "    </tr>\n",
       "    <tr>\n",
       "      <th>8503</th>\n",
       "      <td>NCH43</td>\n",
       "      <td>8.42</td>\n",
       "      <td>Low Fat</td>\n",
       "      <td>0.070712031</td>\n",
       "      <td>Household</td>\n",
       "      <td>216.4192</td>\n",
       "      <td>OUT045</td>\n",
       "      <td>2002</td>\n",
       "      <td>NaN</td>\n",
       "      <td>Tier 2</td>\n",
       "      <td>Supermarket Type1</td>\n",
       "      <td>3020.0688</td>\n",
       "    </tr>\n",
       "    <tr>\n",
       "      <th>8509</th>\n",
       "      <td>FDW31</td>\n",
       "      <td>11.35</td>\n",
       "      <td>Regular</td>\n",
       "      <td>0.04324563</td>\n",
       "      <td>Fruits and Vegetables</td>\n",
       "      <td>199.4742</td>\n",
       "      <td>OUT045</td>\n",
       "      <td>2002</td>\n",
       "      <td>NaN</td>\n",
       "      <td>Tier 2</td>\n",
       "      <td>Supermarket Type1</td>\n",
       "      <td>2587.9646</td>\n",
       "    </tr>\n",
       "    <tr>\n",
       "      <th>8515</th>\n",
       "      <td>FDA01</td>\n",
       "      <td>15</td>\n",
       "      <td>Regular</td>\n",
       "      <td>0.054488534</td>\n",
       "      <td>Canned</td>\n",
       "      <td>57.5904</td>\n",
       "      <td>OUT045</td>\n",
       "      <td>2002</td>\n",
       "      <td>NaN</td>\n",
       "      <td>Tier 2</td>\n",
       "      <td>Supermarket Type1</td>\n",
       "      <td>468.7232</td>\n",
       "    </tr>\n",
       "    <tr>\n",
       "      <th>8520</th>\n",
       "      <td>FDS36</td>\n",
       "      <td>8.38</td>\n",
       "      <td>Regular</td>\n",
       "      <td>0.046982429</td>\n",
       "      <td>Baking Goods</td>\n",
       "      <td>108.157</td>\n",
       "      <td>OUT045</td>\n",
       "      <td>2002</td>\n",
       "      <td>NaN</td>\n",
       "      <td>Tier 2</td>\n",
       "      <td>Supermarket Type1</td>\n",
       "      <td>549.285</td>\n",
       "    </tr>\n",
       "  </tbody>\n",
       "</table>\n",
       "<p>929 rows × 12 columns</p>\n",
       "</div>"
      ],
      "text/plain": [
       "0    Item_Identifier Item_Weight Item_Fat_Content Item_Visibility  \\\n",
       "9              FDH17        16.2          Regular     0.016687114   \n",
       "34             FDO23       17.85          Low Fat               0   \n",
       "47             NCP05        19.6          Low Fat               0   \n",
       "48             FDV49          10          Low Fat     0.025879577   \n",
       "57             NCX54       9.195          Low Fat     0.048157338   \n",
       "...              ...         ...              ...             ...   \n",
       "8484           DRI11        8.26          Low Fat      0.03447406   \n",
       "8503           NCH43        8.42          Low Fat     0.070712031   \n",
       "8509           FDW31       11.35          Regular      0.04324563   \n",
       "8515           FDA01          15          Regular     0.054488534   \n",
       "8520           FDS36        8.38          Regular     0.046982429   \n",
       "\n",
       "0                 Item_Type  Item_MRP Outlet_Identifier  \\\n",
       "9              Frozen Foods   96.9726            OUT045   \n",
       "34                   Breads   93.1436            OUT045   \n",
       "47       Health and Hygiene  153.3024            OUT045   \n",
       "48                   Canned  265.2226            OUT045   \n",
       "57                Household  106.1622            OUT045   \n",
       "...                     ...       ...               ...   \n",
       "8484            Hard Drinks  117.0834            OUT045   \n",
       "8503              Household  216.4192            OUT045   \n",
       "8509  Fruits and Vegetables  199.4742            OUT045   \n",
       "8515                 Canned   57.5904            OUT045   \n",
       "8520           Baking Goods   108.157            OUT045   \n",
       "\n",
       "0    Outlet_Establishment_Year Outlet_Size Outlet_Location_Type  \\\n",
       "9                         2002         NaN               Tier 2   \n",
       "34                        2002         NaN               Tier 2   \n",
       "47                        2002         NaN               Tier 2   \n",
       "48                        2002         NaN               Tier 2   \n",
       "57                        2002         NaN               Tier 2   \n",
       "...                        ...         ...                  ...   \n",
       "8484                      2002         NaN               Tier 2   \n",
       "8503                      2002         NaN               Tier 2   \n",
       "8509                      2002         NaN               Tier 2   \n",
       "8515                      2002         NaN               Tier 2   \n",
       "8520                      2002         NaN               Tier 2   \n",
       "\n",
       "0           Outlet_Type Item_Outlet_Sales  \n",
       "9     Supermarket Type1         1076.5986  \n",
       "34    Supermarket Type1         2174.5028  \n",
       "47    Supermarket Type1         2428.8384  \n",
       "48    Supermarket Type1         5815.0972  \n",
       "57    Supermarket Type1          2117.244  \n",
       "...                 ...               ...  \n",
       "8484  Supermarket Type1         1612.5676  \n",
       "8503  Supermarket Type1         3020.0688  \n",
       "8509  Supermarket Type1         2587.9646  \n",
       "8515  Supermarket Type1          468.7232  \n",
       "8520  Supermarket Type1           549.285  \n",
       "\n",
       "[929 rows x 12 columns]"
      ]
     },
     "execution_count": 26,
     "metadata": {},
     "output_type": "execute_result"
    }
   ],
   "source": [
    "df_dirty[df_dirty['Outlet_Identifier'] == 'OUT045']\n",
    "### No other outlet_identifier is holding the data we need.\n",
    "### Next look at outlet type and see if type matches with outlet size"
   ]
  },
  {
   "cell_type": "code",
   "execution_count": 27,
   "metadata": {},
   "outputs": [],
   "source": [
    "df_dirty[(df_dirty['Outlet_Type'] == 'Supermarket Type1') & (df_dirty['Outlet_Location_Type'] == 'Tier 2')][['Outlet_Identifier', 'Outlet_Size', 'Outlet_Location_Type', 'Outlet_Type']]\n",
    "### Looks like we found a way to fil the missing values in Outlet_Size\n",
    "df_dirty.loc[df_dirty['Outlet_Identifier'] == 'OUT045', 'Outlet_Size'] = 'Small'"
   ]
  },
  {
   "cell_type": "code",
   "execution_count": 28,
   "metadata": {},
   "outputs": [],
   "source": [
    "df_dirty[df_dirty['Outlet_Identifier'] == 'OUT017']\n",
    "df_dirty[df_dirty['Outlet_Location_Type'] == 'Tier 2']['Outlet_Size'].nunique()\n",
    "### LOOKS LIKE IT IS ANOTHER TIER 2 therefor it is Small\n",
    "df_dirty.loc[df_dirty['Outlet_Identifier'] == 'OUT017', 'Outlet_Size'] = 'Small'"
   ]
  },
  {
   "cell_type": "code",
   "execution_count": 29,
   "metadata": {},
   "outputs": [
    {
     "data": {
      "text/plain": [
       "1"
      ]
     },
     "execution_count": 29,
     "metadata": {},
     "output_type": "execute_result"
    }
   ],
   "source": [
    "df_dirty[df_dirty['Outlet_Identifier'] == 'OUT010'] ### Tier 3\n",
    "df_dirty[(df_dirty['Outlet_Location_Type'] == 'Tier 3') & (df_dirty['Outlet_Type'] == 'Grocery Store')]\n",
    "df_dirty[df_dirty['Outlet_Type'] == 'Grocery Store']['Outlet_Size'].nunique()\n",
    "#df_dirty[(df_dirty['Outlet_Location_Type'] == 'Tier 3') & (df_dirty['Outlet_Type'] == 'Grocer Store')]#['Outlet_Size']#.nunique()"
   ]
  },
  {
   "cell_type": "markdown",
   "metadata": {},
   "source": [
    "I got to fix two of the outlet identifier sizes but cant determain as of now what the other one is. I might be back if i can figure this out when looking through the data more.... after further looking i am assuming all grocery stores are \"Small\""
   ]
  },
  {
   "cell_type": "code",
   "execution_count": 30,
   "metadata": {},
   "outputs": [],
   "source": [
    "df_dirty.loc[df_dirty['Outlet_Identifier'] == 'OUT010', 'Outlet_Size'] = 'Small'"
   ]
  },
  {
   "cell_type": "code",
   "execution_count": 31,
   "metadata": {},
   "outputs": [
    {
     "name": "stdout",
     "output_type": "stream",
     "text": [
      "<class 'pandas.core.frame.DataFrame'>\n",
      "Int64Index: 8523 entries, 1 to 8523\n",
      "Data columns (total 12 columns):\n",
      " #   Column                     Non-Null Count  Dtype \n",
      "---  ------                     --------------  ----- \n",
      " 0   Item_Identifier            8523 non-null   object\n",
      " 1   Item_Weight                8523 non-null   object\n",
      " 2   Item_Fat_Content           8523 non-null   object\n",
      " 3   Item_Visibility            8523 non-null   object\n",
      " 4   Item_Type                  8523 non-null   object\n",
      " 5   Item_MRP                   8523 non-null   object\n",
      " 6   Outlet_Identifier          8523 non-null   object\n",
      " 7   Outlet_Establishment_Year  8523 non-null   object\n",
      " 8   Outlet_Size                8523 non-null   object\n",
      " 9   Outlet_Location_Type       8523 non-null   object\n",
      " 10  Outlet_Type                8523 non-null   object\n",
      " 11  Item_Outlet_Sales          8523 non-null   object\n",
      "dtypes: object(12)\n",
      "memory usage: 865.6+ KB\n"
     ]
    }
   ],
   "source": [
    "df_dirty.info()"
   ]
  },
  {
   "cell_type": "markdown",
   "metadata": {},
   "source": [
    "### Converting DType ###"
   ]
  },
  {
   "cell_type": "code",
   "execution_count": 32,
   "metadata": {},
   "outputs": [
    {
     "data": {
      "text/html": [
       "<div>\n",
       "<style scoped>\n",
       "    .dataframe tbody tr th:only-of-type {\n",
       "        vertical-align: middle;\n",
       "    }\n",
       "\n",
       "    .dataframe tbody tr th {\n",
       "        vertical-align: top;\n",
       "    }\n",
       "\n",
       "    .dataframe thead th {\n",
       "        text-align: right;\n",
       "    }\n",
       "</style>\n",
       "<table border=\"1\" class=\"dataframe\">\n",
       "  <thead>\n",
       "    <tr style=\"text-align: right;\">\n",
       "      <th></th>\n",
       "      <th>Item_Identifier</th>\n",
       "      <th>Item_Weight</th>\n",
       "      <th>Item_Fat_Content</th>\n",
       "      <th>Item_Visibility</th>\n",
       "      <th>Item_Type</th>\n",
       "      <th>Item_MRP</th>\n",
       "      <th>Outlet_Identifier</th>\n",
       "      <th>Outlet_Establishment_Year</th>\n",
       "      <th>Outlet_Size</th>\n",
       "      <th>Outlet_Location_Type</th>\n",
       "      <th>Outlet_Type</th>\n",
       "      <th>Item_Outlet_Sales</th>\n",
       "    </tr>\n",
       "  </thead>\n",
       "  <tbody>\n",
       "    <tr>\n",
       "      <th>1</th>\n",
       "      <td>FDA15</td>\n",
       "      <td>9.3</td>\n",
       "      <td>Low Fat</td>\n",
       "      <td>0.016047301</td>\n",
       "      <td>Dairy</td>\n",
       "      <td>249.8092</td>\n",
       "      <td>OUT049</td>\n",
       "      <td>1999</td>\n",
       "      <td>Medium</td>\n",
       "      <td>Tier 1</td>\n",
       "      <td>Supermarket Type1</td>\n",
       "      <td>3735.138</td>\n",
       "    </tr>\n",
       "    <tr>\n",
       "      <th>2</th>\n",
       "      <td>DRC01</td>\n",
       "      <td>5.92</td>\n",
       "      <td>Regular</td>\n",
       "      <td>0.019278216</td>\n",
       "      <td>Soft Drinks</td>\n",
       "      <td>48.2692</td>\n",
       "      <td>OUT018</td>\n",
       "      <td>2009</td>\n",
       "      <td>Medium</td>\n",
       "      <td>Tier 3</td>\n",
       "      <td>Supermarket Type2</td>\n",
       "      <td>443.4228</td>\n",
       "    </tr>\n",
       "    <tr>\n",
       "      <th>3</th>\n",
       "      <td>FDN15</td>\n",
       "      <td>17.5</td>\n",
       "      <td>Low Fat</td>\n",
       "      <td>0.016760075</td>\n",
       "      <td>Meat</td>\n",
       "      <td>141.618</td>\n",
       "      <td>OUT049</td>\n",
       "      <td>1999</td>\n",
       "      <td>Medium</td>\n",
       "      <td>Tier 1</td>\n",
       "      <td>Supermarket Type1</td>\n",
       "      <td>2097.27</td>\n",
       "    </tr>\n",
       "  </tbody>\n",
       "</table>\n",
       "</div>"
      ],
      "text/plain": [
       "0 Item_Identifier Item_Weight Item_Fat_Content Item_Visibility    Item_Type  \\\n",
       "1           FDA15         9.3          Low Fat     0.016047301        Dairy   \n",
       "2           DRC01        5.92          Regular     0.019278216  Soft Drinks   \n",
       "3           FDN15        17.5          Low Fat     0.016760075         Meat   \n",
       "\n",
       "0  Item_MRP Outlet_Identifier Outlet_Establishment_Year Outlet_Size  \\\n",
       "1  249.8092            OUT049                      1999      Medium   \n",
       "2   48.2692            OUT018                      2009      Medium   \n",
       "3   141.618            OUT049                      1999      Medium   \n",
       "\n",
       "0 Outlet_Location_Type        Outlet_Type Item_Outlet_Sales  \n",
       "1               Tier 1  Supermarket Type1          3735.138  \n",
       "2               Tier 3  Supermarket Type2          443.4228  \n",
       "3               Tier 1  Supermarket Type1           2097.27  "
      ]
     },
     "execution_count": 32,
     "metadata": {},
     "output_type": "execute_result"
    }
   ],
   "source": [
    "df_dirty.head(3)\n",
    "# df_dirty.info()"
   ]
  },
  {
   "cell_type": "code",
   "execution_count": 33,
   "metadata": {},
   "outputs": [
    {
     "name": "stdout",
     "output_type": "stream",
     "text": [
      "<class 'pandas.core.frame.DataFrame'>\n",
      "Int64Index: 8523 entries, 1 to 8523\n",
      "Data columns (total 12 columns):\n",
      " #   Column                     Non-Null Count  Dtype   \n",
      "---  ------                     --------------  -----   \n",
      " 0   Item_Identifier            8523 non-null   object  \n",
      " 1   Item_Weight                8523 non-null   float64 \n",
      " 2   Item_Fat_Content           8523 non-null   category\n",
      " 3   Item_Visibility            8523 non-null   float64 \n",
      " 4   Item_Type                  8523 non-null   category\n",
      " 5   Item_MRP                   8523 non-null   float64 \n",
      " 6   Outlet_Identifier          8523 non-null   category\n",
      " 7   Outlet_Establishment_Year  8523 non-null   int32   \n",
      " 8   Outlet_Size                8523 non-null   category\n",
      " 9   Outlet_Location_Type       8523 non-null   category\n",
      " 10  Outlet_Type                8523 non-null   category\n",
      " 11  Item_Outlet_Sales          8523 non-null   float64 \n",
      "dtypes: category(6), float64(4), int32(1), object(1)\n",
      "memory usage: 484.5+ KB\n"
     ]
    }
   ],
   "source": [
    "df_clean = df_dirty.astype({'Item_Weight': float, 'Item_Fat_Content': 'category', 'Item_Visibility': float, 'Item_Type': 'category', 'Item_MRP': float, 'Outlet_Identifier': 'category', 'Outlet_Establishment_Year': int, 'Outlet_Size': 'category', 'Outlet_Location_Type': 'category', 'Outlet_Type': 'category', 'Item_Outlet_Sales': float})\n",
    "df_clean.info()"
   ]
  },
  {
   "cell_type": "code",
   "execution_count": 35,
   "metadata": {},
   "outputs": [],
   "source": [
    "df_clean.to_csv('sales_predictions_clean.csv', index = False)"
   ]
  },
  {
   "cell_type": "code",
   "execution_count": null,
   "metadata": {},
   "outputs": [],
   "source": []
  }
 ],
 "metadata": {
  "kernelspec": {
   "display_name": "Python 3",
   "language": "python",
   "name": "python3"
  },
  "language_info": {
   "codemirror_mode": {
    "name": "ipython",
    "version": 3
   },
   "file_extension": ".py",
   "mimetype": "text/x-python",
   "name": "python",
   "nbconvert_exporter": "python",
   "pygments_lexer": "ipython3",
   "version": "3.7.6"
  }
 },
 "nbformat": 4,
 "nbformat_minor": 4
}
